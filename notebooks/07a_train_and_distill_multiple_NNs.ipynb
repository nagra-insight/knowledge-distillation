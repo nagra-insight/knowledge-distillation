{
 "cells": [
  {
   "cell_type": "code",
   "execution_count": null,
   "id": "academic-listing",
   "metadata": {},
   "outputs": [],
   "source": [
    "# all_dont_test"
   ]
  },
  {
   "cell_type": "code",
   "execution_count": null,
   "id": "applied-renaissance",
   "metadata": {},
   "outputs": [],
   "source": [
    "import papermill as pm\n",
    "from pathlib import Path"
   ]
  },
  {
   "cell_type": "code",
   "execution_count": null,
   "id": "arabic-stopping",
   "metadata": {},
   "outputs": [
    {
     "name": "stdout",
     "output_type": "stream",
     "text": [
      "Installed kernelspec papermill-kernel in /home/jupyterlab/.local/share/jupyter/kernels/papermill-kernel\n"
     ]
    }
   ],
   "source": [
    "!ipython kernel install --user --name=papermill-kernel"
   ]
  },
  {
   "cell_type": "markdown",
   "id": "frequent-nature",
   "metadata": {},
   "source": [
    "# Train 10 NN with different seeds"
   ]
  },
  {
   "cell_type": "code",
   "execution_count": null,
   "id": "considerable-adolescent",
   "metadata": {},
   "outputs": [
    {
     "data": {
      "application/vnd.jupyter.widget-view+json": {
       "model_id": "1e30bae8b3114291966e84c135d857d8",
       "version_major": 2,
       "version_minor": 0
      },
      "text/plain": [
       "Executing:   0%|          | 0/6 [00:00<?, ?cell/s]"
      ]
     },
     "metadata": {},
     "output_type": "display_data"
    }
   ],
   "source": [
    "_ = pm.execute_notebook(\n",
    "    '05_train_multiple_NNs.ipynb',\n",
    "    '_tmp_last_execution.ipynb',\n",
    "    parameters={},\n",
    "    kernel_name='kd')"
   ]
  },
  {
   "cell_type": "markdown",
   "id": "owned-marketing",
   "metadata": {},
   "source": [
    "# Distill 10 NN with different seeds"
   ]
  },
  {
   "cell_type": "code",
   "execution_count": null,
   "id": "statutory-walnut",
   "metadata": {},
   "outputs": [
    {
     "data": {
      "application/vnd.jupyter.widget-view+json": {
       "model_id": "643ae1da308d4719b71283a04e28f9e6",
       "version_major": 2,
       "version_minor": 0
      },
      "text/plain": [
       "Executing:   0%|          | 0/6 [00:00<?, ?cell/s]"
      ]
     },
     "metadata": {},
     "output_type": "display_data"
    }
   ],
   "source": [
    "_ = pm.execute_notebook(\n",
    "    '07_distill_multiple_NNs.ipynb',\n",
    "    '_tmp_last_execution.ipynb',\n",
    "    parameters={},\n",
    "    kernel_name='kd')"
   ]
  },
  {
   "cell_type": "markdown",
   "id": "asian-sally",
   "metadata": {},
   "source": []
  }
 ],
 "metadata": {
  "kernelspec": {
   "display_name": "Python [conda-kd]",
   "language": "python",
   "name": "conda-env-conda-kd-py"
  }
 },
 "nbformat": 4,
 "nbformat_minor": 5
}
