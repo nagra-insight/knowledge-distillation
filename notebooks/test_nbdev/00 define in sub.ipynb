{
 "cells": [
  {
   "cell_type": "code",
   "execution_count": null,
   "id": "electoral-coordination",
   "metadata": {},
   "outputs": [],
   "source": [
    "#default_exp nbdev_tests.defined_in_sub"
   ]
  },
  {
   "cell_type": "markdown",
   "id": "following-assembly",
   "metadata": {},
   "source": [
    "# Test if we can define a function in a subfolder"
   ]
  },
  {
   "cell_type": "code",
   "execution_count": null,
   "id": "owned-thong",
   "metadata": {},
   "outputs": [],
   "source": [
    "#export \n",
    "def defined_in_subfolder():\n",
    "    print(\"This function was defined in a subfolder\")"
   ]
  },
  {
   "cell_type": "code",
   "execution_count": null,
   "id": "precise-techno",
   "metadata": {},
   "outputs": [],
   "source": []
  }
 ],
 "metadata": {
  "kernelspec": {
   "display_name": "Python [conda-kd]",
   "language": "python",
   "name": "conda-env-conda-kd-py"
  }
 },
 "nbformat": 4,
 "nbformat_minor": 5
}
