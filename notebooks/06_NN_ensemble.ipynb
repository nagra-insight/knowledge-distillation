{
 "cells": [
  {
   "cell_type": "code",
   "execution_count": null,
   "id": "democratic-empty",
   "metadata": {},
   "outputs": [],
   "source": [
    "%load_ext autoreload\n",
    "%autoreload 2"
   ]
  },
  {
   "cell_type": "code",
   "execution_count": null,
   "id": "aquatic-cardiff",
   "metadata": {
    "tags": [
     "parameters"
    ]
   },
   "outputs": [],
   "source": [
    "random_seed = 0\n",
    "save_to_disk = False\n",
    "model_prefix = 'nn'\n",
    "ensemble_logits = True\n",
    "train_on_logits = True"
   ]
  },
  {
   "cell_type": "code",
   "execution_count": null,
   "id": "impossible-friendly",
   "metadata": {},
   "outputs": [],
   "source": [
    "target = 'logit' if train_on_logits else 'hard'\n",
    "ensemble_pred = 'ensemble-logit' if train_on_logits else 'ensemble-hard'\n",
    "\n",
    "model_name = f'{model_prefix}_{target}_{ensemble_pred}_{random_seed}_distilled'"
   ]
  },
  {
   "cell_type": "code",
   "execution_count": null,
   "id": "opposite-alexandria",
   "metadata": {},
   "outputs": [],
   "source": [
    "from numpy.random import seed\n",
    "seed(random_seed)\n",
    "from tensorflow.random import set_seed\n",
    "set_seed(random_seed)"
   ]
  },
  {
   "cell_type": "code",
   "execution_count": null,
   "id": "technical-helena",
   "metadata": {},
   "outputs": [],
   "source": [
    "from dataclasses import dataclass\n",
    "import numpy as np\n",
    "import pandas as pd\n",
    "from sklearn.base import BaseEstimator\n",
    "from sklearn.metrics import classification_report\n",
    "from sklearn.model_selection import train_test_split\n",
    "from sklearn.ensemble import StackingClassifier\n",
    "from typing import List\n",
    "import glob\n"
   ]
  },
  {
   "cell_type": "code",
   "execution_count": null,
   "id": "retained-version",
   "metadata": {},
   "outputs": [
    {
     "name": "stderr",
     "output_type": "stream",
     "text": [
      "/home/jupyterlab/ni-workspace/conda/envs/kd/lib/python3.8/site-packages/torch/cuda/__init__.py:52: UserWarning: CUDA initialization: Found no NVIDIA driver on your system. Please check that you have an NVIDIA GPU and installed a driver from http://www.nvidia.com/Download/index.aspx (Triggered internally at  /opt/conda/conda-bld/pytorch_1607370172916/work/c10/cuda/CUDAFunctions.cpp:100.)\n",
      "  return torch._C._cuda_getDeviceCount() > 0\n"
     ]
    }
   ],
   "source": [
    "from knowledge_distillation.io import *\n",
    "from knowledge_distillation.ensemble import UnbiasedAverage\n",
    "from knowledge_distillation.processing import * \n",
    "from knowledge_distillation.nn import *"
   ]
  },
  {
   "cell_type": "code",
   "execution_count": null,
   "id": "documentary-blogger",
   "metadata": {},
   "outputs": [],
   "source": [
    "import tensorflow as tf\n",
    "from tensorflow import keras\n",
    "from tensorflow.keras.wrappers.scikit_learn import KerasClassifier"
   ]
  },
  {
   "cell_type": "markdown",
   "id": "spanish-style",
   "metadata": {},
   "source": [
    "# Load data"
   ]
  },
  {
   "cell_type": "code",
   "execution_count": null,
   "id": "falling-funds",
   "metadata": {},
   "outputs": [],
   "source": [
    "df = load_adult()"
   ]
  },
  {
   "cell_type": "markdown",
   "id": "greatest-royal",
   "metadata": {},
   "source": [
    "# Preprocessing"
   ]
  },
  {
   "cell_type": "code",
   "execution_count": null,
   "id": "abroad-regression",
   "metadata": {},
   "outputs": [],
   "source": [
    "X, y, target_names = scale_fastai(df, target='salary')\n",
    "\n",
    "X_train, X_test, y_train, y_test = split_with_seed(X, y)"
   ]
  },
  {
   "cell_type": "markdown",
   "id": "false-patio",
   "metadata": {},
   "source": [
    "# Load models"
   ]
  },
  {
   "cell_type": "code",
   "execution_count": null,
   "id": "increased-pastor",
   "metadata": {},
   "outputs": [],
   "source": [
    "model_paths = sorted(glob.glob(f\"{ASSETS_PATH / model_prefix}_*.tf\"))"
   ]
  },
  {
   "cell_type": "code",
   "execution_count": null,
   "id": "sunrise-collectible",
   "metadata": {},
   "outputs": [
    {
     "data": {
      "text/plain": [
       "['nn_1',\n",
       " 'nn_10',\n",
       " 'nn_2',\n",
       " 'nn_3',\n",
       " 'nn_4',\n",
       " 'nn_5',\n",
       " 'nn_6',\n",
       " 'nn_7',\n",
       " 'nn_8',\n",
       " 'nn_9']"
      ]
     },
     "execution_count": null,
     "metadata": {},
     "output_type": "execute_result"
    }
   ],
   "source": [
    "model_names = [p.split('/')[-1].split('.')[0] for p in model_paths]\n",
    "model_names"
   ]
  },
  {
   "cell_type": "code",
   "execution_count": null,
   "id": "identical-collar",
   "metadata": {},
   "outputs": [],
   "source": [
    "# load models\n",
    "models = [load_keras_classifier(name) for name in model_names]    "
   ]
  },
  {
   "cell_type": "code",
   "execution_count": null,
   "id": "latin-issue",
   "metadata": {},
   "outputs": [
    {
     "name": "stderr",
     "output_type": "stream",
     "text": [
      "/home/jupyterlab/ni-workspace/conda/envs/kd/lib/python3.8/site-packages/tensorflow/python/keras/engine/sequential.py:450: UserWarning: `model.predict_classes()` is deprecated and will be removed after 2021-01-01. Please use instead:* `np.argmax(model.predict(x), axis=-1)`,   if your model does multi-class classification   (e.g. if it uses a `softmax` last-layer activation).* `(model.predict(x) > 0.5).astype(\"int32\")`,   if your model does binary classification   (e.g. if it uses a `sigmoid` last-layer activation).\n",
      "  warnings.warn('`model.predict_classes()` is deprecated and '\n"
     ]
    }
   ],
   "source": [
    "first = models[0]\n",
    "assert len(first.predict(X_test.head(5))) == 5"
   ]
  },
  {
   "cell_type": "code",
   "execution_count": null,
   "id": "agreed-south",
   "metadata": {},
   "outputs": [
    {
     "name": "stderr",
     "output_type": "stream",
     "text": [
      "/home/jupyterlab/ni-workspace/conda/envs/kd/lib/python3.8/site-packages/tensorflow/python/keras/engine/sequential.py:425: UserWarning: `model.predict_proba()` is deprecated and will be removed after 2021-01-01. Please use `model.predict()` instead.\n",
      "  warnings.warn('`model.predict_proba()` is deprecated and '\n",
      "/home/jupyterlab/ni-workspace/conda/envs/kd/lib/python3.8/site-packages/tensorflow/python/keras/engine/sequential.py:450: UserWarning: `model.predict_classes()` is deprecated and will be removed after 2021-01-01. Please use instead:* `np.argmax(model.predict(x), axis=-1)`,   if your model does multi-class classification   (e.g. if it uses a `softmax` last-layer activation).* `(model.predict(x) > 0.5).astype(\"int32\")`,   if your model does binary classification   (e.g. if it uses a `sigmoid` last-layer activation).\n",
      "  warnings.warn('`model.predict_classes()` is deprecated and '\n"
     ]
    },
    {
     "data": {
      "text/plain": [
       "(array([0.01872203, 0.14924997, 0.33599758, 0.04015872, 0.05391678],\n",
       "       dtype=float32),\n",
       " array([[0],\n",
       "        [0],\n",
       "        [0],\n",
       "        [0],\n",
       "        [0]], dtype=int8))"
      ]
     },
     "execution_count": null,
     "metadata": {},
     "output_type": "execute_result"
    }
   ],
   "source": [
    "first.predict_proba(X_test.head(5))[:,1], first.predict(X_test.head(5))"
   ]
  },
  {
   "cell_type": "code",
   "execution_count": null,
   "id": "circular-logic",
   "metadata": {},
   "outputs": [
    {
     "name": "stderr",
     "output_type": "stream",
     "text": [
      "/home/jupyterlab/ni-workspace/conda/envs/kd/lib/python3.8/site-packages/tensorflow/python/keras/engine/sequential.py:425: UserWarning: `model.predict_proba()` is deprecated and will be removed after 2021-01-01. Please use `model.predict()` instead.\n",
      "  warnings.warn('`model.predict_proba()` is deprecated and '\n"
     ]
    },
    {
     "data": {
      "text/plain": [
       "array([0.01872203, 0.14924997, 0.33599758, 0.04015872, 0.05391678],\n",
       "      dtype=float32)"
      ]
     },
     "execution_count": null,
     "metadata": {},
     "output_type": "execute_result"
    }
   ],
   "source": [
    "first.predict_proba(X_test.head(5))[:,1]"
   ]
  },
  {
   "cell_type": "markdown",
   "id": "ordinary-providence",
   "metadata": {},
   "source": [
    "# Evaluate ensemble predictions"
   ]
  },
  {
   "cell_type": "code",
   "execution_count": null,
   "id": "romantic-offset",
   "metadata": {},
   "outputs": [
    {
     "name": "stderr",
     "output_type": "stream",
     "text": [
      "/home/jupyterlab/ni-workspace/conda/envs/kd/lib/python3.8/site-packages/tensorflow/python/keras/engine/sequential.py:425: UserWarning: `model.predict_proba()` is deprecated and will be removed after 2021-01-01. Please use `model.predict()` instead.\n",
      "  warnings.warn('`model.predict_proba()` is deprecated and '\n"
     ]
    }
   ],
   "source": [
    "z = first.predict_proba(X_test.head(5))[:,1]"
   ]
  },
  {
   "cell_type": "code",
   "execution_count": null,
   "id": "nasty-replication",
   "metadata": {},
   "outputs": [
    {
     "data": {
      "text/plain": [
       "array([[0.01872203, 0.01872203, 0.14924997, 0.14924997, 0.33599758,\n",
       "        0.33599758, 0.04015872, 0.04015872, 0.05391678, 0.05391678]],\n",
       "      dtype=float32)"
      ]
     },
     "execution_count": null,
     "metadata": {},
     "output_type": "execute_result"
    }
   ],
   "source": [
    "s = z\n",
    "s = np.dstack((s, z))\n",
    "s.reshape((s.shape[0], s.shape[1]*s.shape[2]))\n",
    "# np.dstack((s, z))"
   ]
  },
  {
   "cell_type": "code",
   "execution_count": null,
   "id": "contained-taylor",
   "metadata": {},
   "outputs": [],
   "source": [
    "def stack_predictions(members, inputX, logits=False):\n",
    "    stack = []\n",
    "    for model in members:\n",
    "        # make prediction\n",
    "        if logits:\n",
    "            yhat = model.predict_proba(inputX, verbose=0)[:,1].T\n",
    "        else:\n",
    "            yhat = model.predict(inputX, verbose=0).T \n",
    "                \n",
    "        # stack predictions into [rows, members, probabilities]\n",
    "        stack.append(yhat)\n",
    "        \n",
    "#     stackX = stackX.reshape((stackX.shape[0], stackX.shape[1]*stackX.shape[2]))\n",
    "    return np.vstack(stack).T"
   ]
  },
  {
   "cell_type": "code",
   "execution_count": null,
   "id": "entertaining-evidence",
   "metadata": {},
   "outputs": [
    {
     "name": "stderr",
     "output_type": "stream",
     "text": [
      "/home/jupyterlab/ni-workspace/conda/envs/kd/lib/python3.8/site-packages/tensorflow/python/keras/engine/sequential.py:450: UserWarning: `model.predict_classes()` is deprecated and will be removed after 2021-01-01. Please use instead:* `np.argmax(model.predict(x), axis=-1)`,   if your model does multi-class classification   (e.g. if it uses a `softmax` last-layer activation).* `(model.predict(x) > 0.5).astype(\"int32\")`,   if your model does binary classification   (e.g. if it uses a `sigmoid` last-layer activation).\n",
      "  warnings.warn('`model.predict_classes()` is deprecated and '\n"
     ]
    },
    {
     "data": {
      "text/plain": [
       "array([[0, 0, 0, 0, 0]], dtype=int8)"
      ]
     },
     "execution_count": null,
     "metadata": {},
     "output_type": "execute_result"
    }
   ],
   "source": [
    "yhat = first.predict(X_train.head(5), verbose=0).T\n",
    "yhat"
   ]
  },
  {
   "cell_type": "code",
   "execution_count": null,
   "id": "positive-damage",
   "metadata": {},
   "outputs": [
    {
     "data": {
      "text/plain": [
       "array([0., 0., 0., 0., 0.])"
      ]
     },
     "execution_count": null,
     "metadata": {},
     "output_type": "execute_result"
    }
   ],
   "source": [
    "np.mean(np.vstack([yhat, yhat]).T, axis=1)"
   ]
  },
  {
   "cell_type": "code",
   "execution_count": null,
   "id": "cultural-pregnancy",
   "metadata": {},
   "outputs": [
    {
     "name": "stderr",
     "output_type": "stream",
     "text": [
      "/home/jupyterlab/ni-workspace/conda/envs/kd/lib/python3.8/site-packages/tensorflow/python/keras/engine/sequential.py:425: UserWarning: `model.predict_proba()` is deprecated and will be removed after 2021-01-01. Please use `model.predict()` instead.\n",
      "  warnings.warn('`model.predict_proba()` is deprecated and '\n",
      "/home/jupyterlab/ni-workspace/conda/envs/kd/lib/python3.8/site-packages/tensorflow/python/keras/engine/sequential.py:425: UserWarning: `model.predict_proba()` is deprecated and will be removed after 2021-01-01. Please use `model.predict()` instead.\n",
      "  warnings.warn('`model.predict_proba()` is deprecated and '\n",
      "/home/jupyterlab/ni-workspace/conda/envs/kd/lib/python3.8/site-packages/tensorflow/python/keras/engine/sequential.py:425: UserWarning: `model.predict_proba()` is deprecated and will be removed after 2021-01-01. Please use `model.predict()` instead.\n",
      "  warnings.warn('`model.predict_proba()` is deprecated and '\n"
     ]
    },
    {
     "data": {
      "text/plain": [
       "array([[0.07153332, 0.07153332, 0.07153332],\n",
       "       [0.30757236, 0.30757236, 0.30757236],\n",
       "       [0.0201382 , 0.0201382 , 0.0201382 ],\n",
       "       [0.04635373, 0.04635373, 0.04635373],\n",
       "       [0.05969843, 0.05969843, 0.05969843]], dtype=float32)"
      ]
     },
     "execution_count": null,
     "metadata": {},
     "output_type": "execute_result"
    }
   ],
   "source": [
    "stack_predictions([first, first, first], X_train.head(5), logits=True) "
   ]
  },
  {
   "cell_type": "code",
   "execution_count": null,
   "id": "homeless-oklahoma",
   "metadata": {},
   "outputs": [],
   "source": [
    "def ensemble_predict_proba(models, x, logits):\n",
    "    return np.mean(stack_predictions(models, x, logits=logits), axis=1)"
   ]
  },
  {
   "cell_type": "code",
   "execution_count": null,
   "id": "foreign-variation",
   "metadata": {},
   "outputs": [
    {
     "name": "stderr",
     "output_type": "stream",
     "text": [
      "/home/jupyterlab/ni-workspace/conda/envs/kd/lib/python3.8/site-packages/tensorflow/python/keras/engine/sequential.py:425: UserWarning: `model.predict_proba()` is deprecated and will be removed after 2021-01-01. Please use `model.predict()` instead.\n",
      "  warnings.warn('`model.predict_proba()` is deprecated and '\n",
      "/home/jupyterlab/ni-workspace/conda/envs/kd/lib/python3.8/site-packages/tensorflow/python/keras/engine/sequential.py:425: UserWarning: `model.predict_proba()` is deprecated and will be removed after 2021-01-01. Please use `model.predict()` instead.\n",
      "  warnings.warn('`model.predict_proba()` is deprecated and '\n",
      "/home/jupyterlab/ni-workspace/conda/envs/kd/lib/python3.8/site-packages/tensorflow/python/keras/engine/sequential.py:425: UserWarning: `model.predict_proba()` is deprecated and will be removed after 2021-01-01. Please use `model.predict()` instead.\n",
      "  warnings.warn('`model.predict_proba()` is deprecated and '\n",
      "/home/jupyterlab/ni-workspace/conda/envs/kd/lib/python3.8/site-packages/tensorflow/python/keras/engine/sequential.py:425: UserWarning: `model.predict_proba()` is deprecated and will be removed after 2021-01-01. Please use `model.predict()` instead.\n",
      "  warnings.warn('`model.predict_proba()` is deprecated and '\n",
      "/home/jupyterlab/ni-workspace/conda/envs/kd/lib/python3.8/site-packages/tensorflow/python/keras/engine/sequential.py:425: UserWarning: `model.predict_proba()` is deprecated and will be removed after 2021-01-01. Please use `model.predict()` instead.\n",
      "  warnings.warn('`model.predict_proba()` is deprecated and '\n",
      "/home/jupyterlab/ni-workspace/conda/envs/kd/lib/python3.8/site-packages/tensorflow/python/keras/engine/sequential.py:425: UserWarning: `model.predict_proba()` is deprecated and will be removed after 2021-01-01. Please use `model.predict()` instead.\n",
      "  warnings.warn('`model.predict_proba()` is deprecated and '\n",
      "/home/jupyterlab/ni-workspace/conda/envs/kd/lib/python3.8/site-packages/tensorflow/python/keras/engine/sequential.py:425: UserWarning: `model.predict_proba()` is deprecated and will be removed after 2021-01-01. Please use `model.predict()` instead.\n",
      "  warnings.warn('`model.predict_proba()` is deprecated and '\n",
      "/home/jupyterlab/ni-workspace/conda/envs/kd/lib/python3.8/site-packages/tensorflow/python/keras/engine/sequential.py:425: UserWarning: `model.predict_proba()` is deprecated and will be removed after 2021-01-01. Please use `model.predict()` instead.\n",
      "  warnings.warn('`model.predict_proba()` is deprecated and '\n",
      "/home/jupyterlab/ni-workspace/conda/envs/kd/lib/python3.8/site-packages/tensorflow/python/keras/engine/sequential.py:425: UserWarning: `model.predict_proba()` is deprecated and will be removed after 2021-01-01. Please use `model.predict()` instead.\n",
      "  warnings.warn('`model.predict_proba()` is deprecated and '\n",
      "/home/jupyterlab/ni-workspace/conda/envs/kd/lib/python3.8/site-packages/tensorflow/python/keras/engine/sequential.py:425: UserWarning: `model.predict_proba()` is deprecated and will be removed after 2021-01-01. Please use `model.predict()` instead.\n",
      "  warnings.warn('`model.predict_proba()` is deprecated and '\n"
     ]
    }
   ],
   "source": [
    "assert len(ensemble_predict_proba(models, X_train.head(10), logits=True) == 10), \"unexpected number of predictions\""
   ]
  },
  {
   "cell_type": "code",
   "execution_count": null,
   "id": "blond-longitude",
   "metadata": {},
   "outputs": [],
   "source": [
    "@dataclass\n",
    "class TrainedKerasEnsemble():\n",
    "    keras_estimators:List[KerasClassifier]\n",
    "    ensemble_logits:bool\n",
    "    \n",
    "    def predict_proba(self, X):\n",
    "        return ensemble_predict_proba(self.keras_estimators, X, logits=self.ensemble_logits)\n",
    "#         individual_preds = [model.predict_proba(X) for model in self.keras_estimators]\n",
    "#         individual_preds = np.stack(individual_preds, axis=1)\n",
    "        \n",
    "#         return self.final_estimator.predict_proba(individual_preds)\n",
    "    \n",
    "    def predict(self, X):\n",
    "        return ensemble_predict_proba(self.keras_estimators, X, logits=self.ensemble_logits).astype(int)\n",
    "    \n",
    "    "
   ]
  },
  {
   "cell_type": "code",
   "execution_count": null,
   "id": "literary-zoning",
   "metadata": {},
   "outputs": [],
   "source": [
    "ensemble = TrainedKerasEnsemble(models, ensemble_logits=ensemble_logits)"
   ]
  },
  {
   "cell_type": "code",
   "execution_count": null,
   "id": "expired-editor",
   "metadata": {},
   "outputs": [
    {
     "name": "stderr",
     "output_type": "stream",
     "text": [
      "/home/jupyterlab/ni-workspace/conda/envs/kd/lib/python3.8/site-packages/tensorflow/python/keras/engine/sequential.py:425: UserWarning: `model.predict_proba()` is deprecated and will be removed after 2021-01-01. Please use `model.predict()` instead.\n",
      "  warnings.warn('`model.predict_proba()` is deprecated and '\n",
      "/home/jupyterlab/ni-workspace/conda/envs/kd/lib/python3.8/site-packages/tensorflow/python/keras/engine/sequential.py:425: UserWarning: `model.predict_proba()` is deprecated and will be removed after 2021-01-01. Please use `model.predict()` instead.\n",
      "  warnings.warn('`model.predict_proba()` is deprecated and '\n",
      "/home/jupyterlab/ni-workspace/conda/envs/kd/lib/python3.8/site-packages/tensorflow/python/keras/engine/sequential.py:425: UserWarning: `model.predict_proba()` is deprecated and will be removed after 2021-01-01. Please use `model.predict()` instead.\n",
      "  warnings.warn('`model.predict_proba()` is deprecated and '\n",
      "/home/jupyterlab/ni-workspace/conda/envs/kd/lib/python3.8/site-packages/tensorflow/python/keras/engine/sequential.py:425: UserWarning: `model.predict_proba()` is deprecated and will be removed after 2021-01-01. Please use `model.predict()` instead.\n",
      "  warnings.warn('`model.predict_proba()` is deprecated and '\n",
      "/home/jupyterlab/ni-workspace/conda/envs/kd/lib/python3.8/site-packages/tensorflow/python/keras/engine/sequential.py:425: UserWarning: `model.predict_proba()` is deprecated and will be removed after 2021-01-01. Please use `model.predict()` instead.\n",
      "  warnings.warn('`model.predict_proba()` is deprecated and '\n",
      "/home/jupyterlab/ni-workspace/conda/envs/kd/lib/python3.8/site-packages/tensorflow/python/keras/engine/sequential.py:425: UserWarning: `model.predict_proba()` is deprecated and will be removed after 2021-01-01. Please use `model.predict()` instead.\n",
      "  warnings.warn('`model.predict_proba()` is deprecated and '\n",
      "/home/jupyterlab/ni-workspace/conda/envs/kd/lib/python3.8/site-packages/tensorflow/python/keras/engine/sequential.py:425: UserWarning: `model.predict_proba()` is deprecated and will be removed after 2021-01-01. Please use `model.predict()` instead.\n",
      "  warnings.warn('`model.predict_proba()` is deprecated and '\n",
      "/home/jupyterlab/ni-workspace/conda/envs/kd/lib/python3.8/site-packages/tensorflow/python/keras/engine/sequential.py:425: UserWarning: `model.predict_proba()` is deprecated and will be removed after 2021-01-01. Please use `model.predict()` instead.\n",
      "  warnings.warn('`model.predict_proba()` is deprecated and '\n",
      "/home/jupyterlab/ni-workspace/conda/envs/kd/lib/python3.8/site-packages/tensorflow/python/keras/engine/sequential.py:425: UserWarning: `model.predict_proba()` is deprecated and will be removed after 2021-01-01. Please use `model.predict()` instead.\n",
      "  warnings.warn('`model.predict_proba()` is deprecated and '\n",
      "/home/jupyterlab/ni-workspace/conda/envs/kd/lib/python3.8/site-packages/tensorflow/python/keras/engine/sequential.py:425: UserWarning: `model.predict_proba()` is deprecated and will be removed after 2021-01-01. Please use `model.predict()` instead.\n",
      "  warnings.warn('`model.predict_proba()` is deprecated and '\n",
      "/home/jupyterlab/ni-workspace/conda/envs/kd/lib/python3.8/site-packages/tensorflow/python/keras/engine/sequential.py:425: UserWarning: `model.predict_proba()` is deprecated and will be removed after 2021-01-01. Please use `model.predict()` instead.\n",
      "  warnings.warn('`model.predict_proba()` is deprecated and '\n",
      "/home/jupyterlab/ni-workspace/conda/envs/kd/lib/python3.8/site-packages/tensorflow/python/keras/engine/sequential.py:425: UserWarning: `model.predict_proba()` is deprecated and will be removed after 2021-01-01. Please use `model.predict()` instead.\n",
      "  warnings.warn('`model.predict_proba()` is deprecated and '\n",
      "/home/jupyterlab/ni-workspace/conda/envs/kd/lib/python3.8/site-packages/tensorflow/python/keras/engine/sequential.py:425: UserWarning: `model.predict_proba()` is deprecated and will be removed after 2021-01-01. Please use `model.predict()` instead.\n",
      "  warnings.warn('`model.predict_proba()` is deprecated and '\n",
      "/home/jupyterlab/ni-workspace/conda/envs/kd/lib/python3.8/site-packages/tensorflow/python/keras/engine/sequential.py:425: UserWarning: `model.predict_proba()` is deprecated and will be removed after 2021-01-01. Please use `model.predict()` instead.\n",
      "  warnings.warn('`model.predict_proba()` is deprecated and '\n",
      "/home/jupyterlab/ni-workspace/conda/envs/kd/lib/python3.8/site-packages/tensorflow/python/keras/engine/sequential.py:425: UserWarning: `model.predict_proba()` is deprecated and will be removed after 2021-01-01. Please use `model.predict()` instead.\n",
      "  warnings.warn('`model.predict_proba()` is deprecated and '\n",
      "/home/jupyterlab/ni-workspace/conda/envs/kd/lib/python3.8/site-packages/tensorflow/python/keras/engine/sequential.py:425: UserWarning: `model.predict_proba()` is deprecated and will be removed after 2021-01-01. Please use `model.predict()` instead.\n",
      "  warnings.warn('`model.predict_proba()` is deprecated and '\n",
      "/home/jupyterlab/ni-workspace/conda/envs/kd/lib/python3.8/site-packages/tensorflow/python/keras/engine/sequential.py:425: UserWarning: `model.predict_proba()` is deprecated and will be removed after 2021-01-01. Please use `model.predict()` instead.\n",
      "  warnings.warn('`model.predict_proba()` is deprecated and '\n",
      "/home/jupyterlab/ni-workspace/conda/envs/kd/lib/python3.8/site-packages/tensorflow/python/keras/engine/sequential.py:425: UserWarning: `model.predict_proba()` is deprecated and will be removed after 2021-01-01. Please use `model.predict()` instead.\n",
      "  warnings.warn('`model.predict_proba()` is deprecated and '\n",
      "/home/jupyterlab/ni-workspace/conda/envs/kd/lib/python3.8/site-packages/tensorflow/python/keras/engine/sequential.py:425: UserWarning: `model.predict_proba()` is deprecated and will be removed after 2021-01-01. Please use `model.predict()` instead.\n",
      "  warnings.warn('`model.predict_proba()` is deprecated and '\n",
      "/home/jupyterlab/ni-workspace/conda/envs/kd/lib/python3.8/site-packages/tensorflow/python/keras/engine/sequential.py:425: UserWarning: `model.predict_proba()` is deprecated and will be removed after 2021-01-01. Please use `model.predict()` instead.\n",
      "  warnings.warn('`model.predict_proba()` is deprecated and '\n"
     ]
    },
    {
     "name": "stdout",
     "output_type": "stream",
     "text": [
      "=== Train ===\n",
      "              precision    recall  f1-score   support\n",
      "\n",
      "       <=50K       0.76      1.00      0.87     19778\n",
      "        >50K       0.99      0.02      0.04      6270\n",
      "\n",
      "    accuracy                           0.76     26048\n",
      "   macro avg       0.88      0.51      0.45     26048\n",
      "weighted avg       0.82      0.76      0.67     26048\n",
      "\n",
      "\n",
      "=== Test ===\n",
      "              precision    recall  f1-score   support\n",
      "\n",
      "       <=50K       0.76      1.00      0.87      4942\n",
      "        >50K       1.00      0.02      0.05      1571\n",
      "\n",
      "    accuracy                           0.76      6513\n",
      "   macro avg       0.88      0.51      0.46      6513\n",
      "weighted avg       0.82      0.76      0.67      6513\n",
      "\n",
      "\n"
     ]
    },
    {
     "data": {
      "text/html": [
       "<div>\n",
       "<style scoped>\n",
       "    .dataframe tbody tr th:only-of-type {\n",
       "        vertical-align: middle;\n",
       "    }\n",
       "\n",
       "    .dataframe tbody tr th {\n",
       "        vertical-align: top;\n",
       "    }\n",
       "\n",
       "    .dataframe thead th {\n",
       "        text-align: right;\n",
       "    }\n",
       "</style>\n",
       "<table border=\"1\" class=\"dataframe\">\n",
       "  <thead>\n",
       "    <tr style=\"text-align: right;\">\n",
       "      <th></th>\n",
       "      <th>model_name</th>\n",
       "      <th>data</th>\n",
       "      <th>accuracy</th>\n",
       "      <th>precision</th>\n",
       "      <th>recall</th>\n",
       "      <th>f1</th>\n",
       "      <th>auc</th>\n",
       "    </tr>\n",
       "  </thead>\n",
       "  <tbody>\n",
       "    <tr>\n",
       "      <th>0</th>\n",
       "      <td>nn_logits_ensemble</td>\n",
       "      <td>train</td>\n",
       "      <td>0.763744</td>\n",
       "      <td>0.991525</td>\n",
       "      <td>0.018660</td>\n",
       "      <td>0.036631</td>\n",
       "      <td>0.509305</td>\n",
       "    </tr>\n",
       "    <tr>\n",
       "      <th>1</th>\n",
       "      <td>nn_logits_ensemble</td>\n",
       "      <td>test</td>\n",
       "      <td>0.764471</td>\n",
       "      <td>1.000000</td>\n",
       "      <td>0.023552</td>\n",
       "      <td>0.046020</td>\n",
       "      <td>0.511776</td>\n",
       "    </tr>\n",
       "  </tbody>\n",
       "</table>\n",
       "</div>"
      ],
      "text/plain": [
       "           model_name   data  accuracy  precision    recall        f1  \\\n",
       "0  nn_logits_ensemble  train  0.763744   0.991525  0.018660  0.036631   \n",
       "1  nn_logits_ensemble   test  0.764471   1.000000  0.023552  0.046020   \n",
       "\n",
       "        auc  \n",
       "0  0.509305  \n",
       "1  0.511776  "
      ]
     },
     "execution_count": null,
     "metadata": {},
     "output_type": "execute_result"
    }
   ],
   "source": [
    "\n",
    "evaluate_model(X_train, X_test, y_train, y_test, ensemble, \n",
    "               f\"{model_prefix}_{'logits' if ensemble_logits else 'hard'}_ensemble\", \n",
    "               save_to_disk=save_to_disk, target_names=target_names)\n"
   ]
  },
  {
   "cell_type": "markdown",
   "id": "legitimate-burlington",
   "metadata": {},
   "source": [
    "# Model distillation: train on ensemble output"
   ]
  },
  {
   "cell_type": "code",
   "execution_count": null,
   "id": "handled-netherlands",
   "metadata": {},
   "outputs": [],
   "source": [
    "# Create a single NN, identical to the ones in the ensemble\n",
    "model = KerasClassifier(\n",
    "    build_fn=create_nn,\n",
    "    **train_params,\n",
    "    verbose=1\n",
    ")\n"
   ]
  },
  {
   "cell_type": "code",
   "execution_count": null,
   "id": "invalid-nicholas",
   "metadata": {},
   "outputs": [
    {
     "name": "stderr",
     "output_type": "stream",
     "text": [
      "/home/jupyterlab/ni-workspace/conda/envs/kd/lib/python3.8/site-packages/tensorflow/python/keras/engine/sequential.py:450: UserWarning: `model.predict_classes()` is deprecated and will be removed after 2021-01-01. Please use instead:* `np.argmax(model.predict(x), axis=-1)`,   if your model does multi-class classification   (e.g. if it uses a `softmax` last-layer activation).* `(model.predict(x) > 0.5).astype(\"int32\")`,   if your model does binary classification   (e.g. if it uses a `sigmoid` last-layer activation).\n",
      "  warnings.warn('`model.predict_classes()` is deprecated and '\n",
      "/home/jupyterlab/ni-workspace/conda/envs/kd/lib/python3.8/site-packages/tensorflow/python/keras/engine/sequential.py:450: UserWarning: `model.predict_classes()` is deprecated and will be removed after 2021-01-01. Please use instead:* `np.argmax(model.predict(x), axis=-1)`,   if your model does multi-class classification   (e.g. if it uses a `softmax` last-layer activation).* `(model.predict(x) > 0.5).astype(\"int32\")`,   if your model does binary classification   (e.g. if it uses a `sigmoid` last-layer activation).\n",
      "  warnings.warn('`model.predict_classes()` is deprecated and '\n",
      "/home/jupyterlab/ni-workspace/conda/envs/kd/lib/python3.8/site-packages/tensorflow/python/keras/engine/sequential.py:450: UserWarning: `model.predict_classes()` is deprecated and will be removed after 2021-01-01. Please use instead:* `np.argmax(model.predict(x), axis=-1)`,   if your model does multi-class classification   (e.g. if it uses a `softmax` last-layer activation).* `(model.predict(x) > 0.5).astype(\"int32\")`,   if your model does binary classification   (e.g. if it uses a `sigmoid` last-layer activation).\n",
      "  warnings.warn('`model.predict_classes()` is deprecated and '\n",
      "/home/jupyterlab/ni-workspace/conda/envs/kd/lib/python3.8/site-packages/tensorflow/python/keras/engine/sequential.py:450: UserWarning: `model.predict_classes()` is deprecated and will be removed after 2021-01-01. Please use instead:* `np.argmax(model.predict(x), axis=-1)`,   if your model does multi-class classification   (e.g. if it uses a `softmax` last-layer activation).* `(model.predict(x) > 0.5).astype(\"int32\")`,   if your model does binary classification   (e.g. if it uses a `sigmoid` last-layer activation).\n",
      "  warnings.warn('`model.predict_classes()` is deprecated and '\n",
      "/home/jupyterlab/ni-workspace/conda/envs/kd/lib/python3.8/site-packages/tensorflow/python/keras/engine/sequential.py:450: UserWarning: `model.predict_classes()` is deprecated and will be removed after 2021-01-01. Please use instead:* `np.argmax(model.predict(x), axis=-1)`,   if your model does multi-class classification   (e.g. if it uses a `softmax` last-layer activation).* `(model.predict(x) > 0.5).astype(\"int32\")`,   if your model does binary classification   (e.g. if it uses a `sigmoid` last-layer activation).\n",
      "  warnings.warn('`model.predict_classes()` is deprecated and '\n",
      "/home/jupyterlab/ni-workspace/conda/envs/kd/lib/python3.8/site-packages/tensorflow/python/keras/engine/sequential.py:450: UserWarning: `model.predict_classes()` is deprecated and will be removed after 2021-01-01. Please use instead:* `np.argmax(model.predict(x), axis=-1)`,   if your model does multi-class classification   (e.g. if it uses a `softmax` last-layer activation).* `(model.predict(x) > 0.5).astype(\"int32\")`,   if your model does binary classification   (e.g. if it uses a `sigmoid` last-layer activation).\n",
      "  warnings.warn('`model.predict_classes()` is deprecated and '\n",
      "/home/jupyterlab/ni-workspace/conda/envs/kd/lib/python3.8/site-packages/tensorflow/python/keras/engine/sequential.py:450: UserWarning: `model.predict_classes()` is deprecated and will be removed after 2021-01-01. Please use instead:* `np.argmax(model.predict(x), axis=-1)`,   if your model does multi-class classification   (e.g. if it uses a `softmax` last-layer activation).* `(model.predict(x) > 0.5).astype(\"int32\")`,   if your model does binary classification   (e.g. if it uses a `sigmoid` last-layer activation).\n",
      "  warnings.warn('`model.predict_classes()` is deprecated and '\n",
      "/home/jupyterlab/ni-workspace/conda/envs/kd/lib/python3.8/site-packages/tensorflow/python/keras/engine/sequential.py:450: UserWarning: `model.predict_classes()` is deprecated and will be removed after 2021-01-01. Please use instead:* `np.argmax(model.predict(x), axis=-1)`,   if your model does multi-class classification   (e.g. if it uses a `softmax` last-layer activation).* `(model.predict(x) > 0.5).astype(\"int32\")`,   if your model does binary classification   (e.g. if it uses a `sigmoid` last-layer activation).\n",
      "  warnings.warn('`model.predict_classes()` is deprecated and '\n",
      "/home/jupyterlab/ni-workspace/conda/envs/kd/lib/python3.8/site-packages/tensorflow/python/keras/engine/sequential.py:450: UserWarning: `model.predict_classes()` is deprecated and will be removed after 2021-01-01. Please use instead:* `np.argmax(model.predict(x), axis=-1)`,   if your model does multi-class classification   (e.g. if it uses a `softmax` last-layer activation).* `(model.predict(x) > 0.5).astype(\"int32\")`,   if your model does binary classification   (e.g. if it uses a `sigmoid` last-layer activation).\n",
      "  warnings.warn('`model.predict_classes()` is deprecated and '\n",
      "/home/jupyterlab/ni-workspace/conda/envs/kd/lib/python3.8/site-packages/tensorflow/python/keras/engine/sequential.py:450: UserWarning: `model.predict_classes()` is deprecated and will be removed after 2021-01-01. Please use instead:* `np.argmax(model.predict(x), axis=-1)`,   if your model does multi-class classification   (e.g. if it uses a `softmax` last-layer activation).* `(model.predict(x) > 0.5).astype(\"int32\")`,   if your model does binary classification   (e.g. if it uses a `sigmoid` last-layer activation).\n",
      "  warnings.warn('`model.predict_classes()` is deprecated and '\n"
     ]
    },
    {
     "data": {
      "text/plain": [
       "array([0, 0, 0, 0, 0])"
      ]
     },
     "execution_count": null,
     "metadata": {},
     "output_type": "execute_result"
    }
   ],
   "source": [
    "if train_on_logits:\n",
    "    y_train_pred_ensemble = ensemble.predict_proba(X_train)\n",
    "else:\n",
    "    y_train_pred_ensemble = ensemble.predict(X_train)\n",
    "y_train_pred_ensemble[:5]"
   ]
  },
  {
   "cell_type": "code",
   "execution_count": null,
   "id": "moderate-sunset",
   "metadata": {},
   "outputs": [],
   "source": []
  },
  {
   "cell_type": "code",
   "execution_count": null,
   "id": "streaming-wagner",
   "metadata": {},
   "outputs": [
    {
     "name": "stdout",
     "output_type": "stream",
     "text": [
      "Epoch 1/15\n",
      "18/18 [==============================] - 4s 88ms/step - loss: 0.6624 - accuracy: 0.6664 - val_loss: 1.8154 - val_accuracy: 0.0845\n",
      "Epoch 2/15\n",
      "18/18 [==============================] - 1s 41ms/step - loss: 0.4416 - accuracy: 0.8952 - val_loss: 1.2374 - val_accuracy: 0.1527\n",
      "Epoch 3/15\n",
      "18/18 [==============================] - 1s 55ms/step - loss: 0.3281 - accuracy: 0.9475 - val_loss: 1.1388 - val_accuracy: 0.2237\n",
      "Epoch 4/15\n",
      "18/18 [==============================] - 1s 76ms/step - loss: 0.2560 - accuracy: 0.9583 - val_loss: 1.2445 - val_accuracy: 0.2411\n",
      "Epoch 5/15\n",
      "18/18 [==============================] - 1s 62ms/step - loss: 0.2079 - accuracy: 0.9632 - val_loss: 0.5464 - val_accuracy: 0.7267\n",
      "Epoch 6/15\n",
      "18/18 [==============================] - 1s 74ms/step - loss: 0.1671 - accuracy: 0.9747 - val_loss: 0.4525 - val_accuracy: 0.8366\n",
      "Epoch 7/15\n",
      "18/18 [==============================] - 1s 53ms/step - loss: 0.1357 - accuracy: 0.9807 - val_loss: 0.4261 - val_accuracy: 0.8369\n",
      "Epoch 8/15\n",
      "18/18 [==============================] - 1s 61ms/step - loss: 0.1200 - accuracy: 0.9763 - val_loss: 0.2019 - val_accuracy: 0.9606\n",
      "Epoch 9/15\n",
      "18/18 [==============================] - 1s 63ms/step - loss: 0.1055 - accuracy: 0.9799 - val_loss: 0.1442 - val_accuracy: 0.9575\n",
      "Epoch 10/15\n",
      "18/18 [==============================] - 1s 47ms/step - loss: 0.0922 - accuracy: 0.9778 - val_loss: 0.1493 - val_accuracy: 0.9703\n",
      "Epoch 11/15\n",
      "18/18 [==============================] - 1s 36ms/step - loss: 0.0712 - accuracy: 0.9858 - val_loss: 0.1112 - val_accuracy: 0.9663\n",
      "Epoch 12/15\n",
      "18/18 [==============================] - 1s 52ms/step - loss: 0.0667 - accuracy: 0.9835 - val_loss: 0.0887 - val_accuracy: 0.9774\n",
      "Epoch 13/15\n",
      "18/18 [==============================] - 1s 46ms/step - loss: 0.0589 - accuracy: 0.9861 - val_loss: 0.1290 - val_accuracy: 0.9640\n",
      "Epoch 14/15\n",
      "18/18 [==============================] - 1s 44ms/step - loss: 0.0530 - accuracy: 0.9866 - val_loss: 0.0840 - val_accuracy: 0.9771\n",
      "Epoch 15/15\n",
      "18/18 [==============================] - 1s 51ms/step - loss: 0.0480 - accuracy: 0.9881 - val_loss: 0.0710 - val_accuracy: 0.9780\n"
     ]
    },
    {
     "data": {
      "text/plain": [
       "<tensorflow.python.keras.callbacks.History at 0x7fccfc47ed60>"
      ]
     },
     "execution_count": null,
     "metadata": {},
     "output_type": "execute_result"
    }
   ],
   "source": [
    "# train the NN on the output of the ensemble\n",
    "model.fit(X_train, y_train_pred_ensemble)\n"
   ]
  },
  {
   "cell_type": "markdown",
   "id": "focused-yellow",
   "metadata": {},
   "source": [
    "# Evaluate distilled model"
   ]
  },
  {
   "cell_type": "code",
   "execution_count": null,
   "id": "varying-thong",
   "metadata": {},
   "outputs": [
    {
     "name": "stderr",
     "output_type": "stream",
     "text": [
      "/home/jupyterlab/ni-workspace/conda/envs/kd/lib/python3.8/site-packages/tensorflow/python/keras/engine/sequential.py:450: UserWarning: `model.predict_classes()` is deprecated and will be removed after 2021-01-01. Please use instead:* `np.argmax(model.predict(x), axis=-1)`,   if your model does multi-class classification   (e.g. if it uses a `softmax` last-layer activation).* `(model.predict(x) > 0.5).astype(\"int32\")`,   if your model does binary classification   (e.g. if it uses a `sigmoid` last-layer activation).\n",
      "  warnings.warn('`model.predict_classes()` is deprecated and '\n"
     ]
    },
    {
     "name": "stdout",
     "output_type": "stream",
     "text": [
      "26/26 [==============================] - 0s 7ms/step\n",
      "1/7 [===>..........................] - ETA: 0s"
     ]
    },
    {
     "name": "stderr",
     "output_type": "stream",
     "text": [
      "/home/jupyterlab/ni-workspace/conda/envs/kd/lib/python3.8/site-packages/tensorflow/python/keras/engine/sequential.py:450: UserWarning: `model.predict_classes()` is deprecated and will be removed after 2021-01-01. Please use instead:* `np.argmax(model.predict(x), axis=-1)`,   if your model does multi-class classification   (e.g. if it uses a `softmax` last-layer activation).* `(model.predict(x) > 0.5).astype(\"int32\")`,   if your model does binary classification   (e.g. if it uses a `sigmoid` last-layer activation).\n",
      "  warnings.warn('`model.predict_classes()` is deprecated and '\n"
     ]
    },
    {
     "name": "stdout",
     "output_type": "stream",
     "text": [
      "7/7 [==============================] - 0s 8ms/step\n",
      "=== Train ===\n",
      "              precision    recall  f1-score   support\n",
      "\n",
      "       <=50K       0.80      0.99      0.89     19778\n",
      "        >50K       0.91      0.24      0.38      6270\n",
      "\n",
      "    accuracy                           0.81     26048\n",
      "   macro avg       0.86      0.61      0.63     26048\n",
      "weighted avg       0.83      0.81      0.77     26048\n",
      "\n",
      "\n",
      "=== Test ===\n",
      "              precision    recall  f1-score   support\n",
      "\n",
      "       <=50K       0.80      0.99      0.89      4942\n",
      "        >50K       0.90      0.24      0.38      1571\n",
      "\n",
      "    accuracy                           0.81      6513\n",
      "   macro avg       0.85      0.62      0.63      6513\n",
      "weighted avg       0.83      0.81      0.76      6513\n",
      "\n",
      "\n"
     ]
    },
    {
     "data": {
      "text/html": [
       "<div>\n",
       "<style scoped>\n",
       "    .dataframe tbody tr th:only-of-type {\n",
       "        vertical-align: middle;\n",
       "    }\n",
       "\n",
       "    .dataframe tbody tr th {\n",
       "        vertical-align: top;\n",
       "    }\n",
       "\n",
       "    .dataframe thead th {\n",
       "        text-align: right;\n",
       "    }\n",
       "</style>\n",
       "<table border=\"1\" class=\"dataframe\">\n",
       "  <thead>\n",
       "    <tr style=\"text-align: right;\">\n",
       "      <th></th>\n",
       "      <th>model_name</th>\n",
       "      <th>data</th>\n",
       "      <th>accuracy</th>\n",
       "      <th>precision</th>\n",
       "      <th>recall</th>\n",
       "      <th>f1</th>\n",
       "      <th>auc</th>\n",
       "    </tr>\n",
       "  </thead>\n",
       "  <tbody>\n",
       "    <tr>\n",
       "      <th>0</th>\n",
       "      <td>nn_0_distilled</td>\n",
       "      <td>train</td>\n",
       "      <td>0.810926</td>\n",
       "      <td>0.913337</td>\n",
       "      <td>0.237002</td>\n",
       "      <td>0.376345</td>\n",
       "      <td>0.614936</td>\n",
       "    </tr>\n",
       "    <tr>\n",
       "      <th>1</th>\n",
       "      <td>nn_0_distilled</td>\n",
       "      <td>test</td>\n",
       "      <td>0.810226</td>\n",
       "      <td>0.903614</td>\n",
       "      <td>0.238701</td>\n",
       "      <td>0.377644</td>\n",
       "      <td>0.615304</td>\n",
       "    </tr>\n",
       "  </tbody>\n",
       "</table>\n",
       "</div>"
      ],
      "text/plain": [
       "       model_name   data  accuracy  precision    recall        f1       auc\n",
       "0  nn_0_distilled  train  0.810926   0.913337  0.237002  0.376345  0.614936\n",
       "1  nn_0_distilled   test  0.810226   0.903614  0.238701  0.377644  0.615304"
      ]
     },
     "execution_count": null,
     "metadata": {},
     "output_type": "execute_result"
    }
   ],
   "source": [
    "evaluate_model(X_train, X_test, y_train, y_test, model, model_name, save_to_disk=save_to_disk, target_names=target_names)\n"
   ]
  },
  {
   "cell_type": "code",
   "execution_count": null,
   "id": "nearby-newfoundland",
   "metadata": {},
   "outputs": [
    {
     "name": "stdout",
     "output_type": "stream",
     "text": [
      "17/32 [==============>...............] - ETA: 0s"
     ]
    },
    {
     "name": "stderr",
     "output_type": "stream",
     "text": [
      "/home/jupyterlab/ni-workspace/conda/envs/kd/lib/python3.8/site-packages/tensorflow/python/keras/engine/sequential.py:450: UserWarning: `model.predict_classes()` is deprecated and will be removed after 2021-01-01. Please use instead:* `np.argmax(model.predict(x), axis=-1)`,   if your model does multi-class classification   (e.g. if it uses a `softmax` last-layer activation).* `(model.predict(x) > 0.5).astype(\"int32\")`,   if your model does binary classification   (e.g. if it uses a `sigmoid` last-layer activation).\n",
      "  warnings.warn('`model.predict_classes()` is deprecated and '\n"
     ]
    },
    {
     "name": "stdout",
     "output_type": "stream",
     "text": [
      "32/32 [==============================] - 0s 6ms/step\n"
     ]
    },
    {
     "data": {
      "text/plain": [
       "array([[0],\n",
       "       [0],\n",
       "       [0],\n",
       "       ...,\n",
       "       [0],\n",
       "       [0],\n",
       "       [1]])"
      ]
     },
     "execution_count": null,
     "metadata": {},
     "output_type": "execute_result"
    }
   ],
   "source": [
    "model.predict(X)"
   ]
  },
  {
   "cell_type": "code",
   "execution_count": null,
   "id": "confirmed-height",
   "metadata": {},
   "outputs": [],
   "source": []
  }
 ],
 "metadata": {
  "kernelspec": {
   "display_name": "Python [conda-kd]",
   "language": "python",
   "name": "conda-env-conda-kd-py"
  }
 },
 "nbformat": 4,
 "nbformat_minor": 5
}
