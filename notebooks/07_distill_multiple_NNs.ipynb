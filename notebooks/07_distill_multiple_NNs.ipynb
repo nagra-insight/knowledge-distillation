{
 "cells": [
  {
   "cell_type": "code",
   "execution_count": null,
   "id": "armed-rebate",
   "metadata": {},
   "outputs": [],
   "source": [
    "# all_dont_test"
   ]
  },
  {
   "cell_type": "code",
   "execution_count": null,
   "id": "southern-israeli",
   "metadata": {},
   "outputs": [],
   "source": [
    "import papermill as pm\n",
    "from pathlib import Path"
   ]
  },
  {
   "cell_type": "code",
   "execution_count": null,
   "id": "parental-disclaimer",
   "metadata": {},
   "outputs": [
    {
     "name": "stdout",
     "output_type": "stream",
     "text": [
      "Installed kernelspec papermill-kernel in /home/jupyterlab/.local/share/jupyter/kernels/papermill-kernel\n"
     ]
    }
   ],
   "source": [
    "!ipython kernel install --user --name=papermill-kernel"
   ]
  },
  {
   "cell_type": "markdown",
   "id": "julian-project",
   "metadata": {},
   "source": [
    "# Distill 10 NN with different seeds"
   ]
  },
  {
   "cell_type": "code",
   "execution_count": null,
   "id": "subjective-anxiety",
   "metadata": {},
   "outputs": [
    {
     "data": {
      "application/vnd.jupyter.widget-view+json": {
       "model_id": "2189ec7755db422f902657df4ab30373",
       "version_major": 2,
       "version_minor": 0
      },
      "text/plain": [
       "Executing:   0%|          | 0/40 [00:00<?, ?cell/s]"
      ]
     },
     "metadata": {},
     "output_type": "display_data"
    },
    {
     "data": {
      "application/vnd.jupyter.widget-view+json": {
       "model_id": "b7c56a97ab644fffba2342f6dfbfbdea",
       "version_major": 2,
       "version_minor": 0
      },
      "text/plain": [
       "Executing:   0%|          | 0/40 [00:00<?, ?cell/s]"
      ]
     },
     "metadata": {},
     "output_type": "display_data"
    },
    {
     "data": {
      "application/vnd.jupyter.widget-view+json": {
       "model_id": "6916038b511f444381620243613c83e2",
       "version_major": 2,
       "version_minor": 0
      },
      "text/plain": [
       "Executing:   0%|          | 0/40 [00:00<?, ?cell/s]"
      ]
     },
     "metadata": {},
     "output_type": "display_data"
    },
    {
     "data": {
      "application/vnd.jupyter.widget-view+json": {
       "model_id": "a6e8c823a4bf40caa495f56b70908b3b",
       "version_major": 2,
       "version_minor": 0
      },
      "text/plain": [
       "Executing:   0%|          | 0/40 [00:00<?, ?cell/s]"
      ]
     },
     "metadata": {},
     "output_type": "display_data"
    },
    {
     "data": {
      "application/vnd.jupyter.widget-view+json": {
       "model_id": "fe4f326375f6419eb4e77446e6107975",
       "version_major": 2,
       "version_minor": 0
      },
      "text/plain": [
       "Executing:   0%|          | 0/40 [00:00<?, ?cell/s]"
      ]
     },
     "metadata": {},
     "output_type": "display_data"
    }
   ],
   "source": [
    "for seed in range(5):\n",
    "    parameters = {\n",
    "        'random_seed': seed,\n",
    "        'save_to_disk': True,\n",
    "        'train_on_logits': True,\n",
    "        'ensemble_logits': True,\n",
    "        'model_prefix': f'nn',\n",
    "    }\n",
    "    \n",
    "    _ = pm.execute_notebook(\n",
    "        '06_NN_ensemble.ipynb',\n",
    "        '_tmp_last_execution.ipynb',\n",
    "        parameters=parameters,\n",
    "        kernel_name='kd')"
   ]
  },
  {
   "cell_type": "code",
   "execution_count": null,
   "id": "sunset-academy",
   "metadata": {},
   "outputs": [
    {
     "data": {
      "application/vnd.jupyter.widget-view+json": {
       "model_id": "08208500f9584ff3b09a5363594867d4",
       "version_major": 2,
       "version_minor": 0
      },
      "text/plain": [
       "Executing:   0%|          | 0/40 [00:00<?, ?cell/s]"
      ]
     },
     "metadata": {},
     "output_type": "display_data"
    },
    {
     "data": {
      "application/vnd.jupyter.widget-view+json": {
       "model_id": "fb88e8b16a0d4dcfa3a58ba63147884a",
       "version_major": 2,
       "version_minor": 0
      },
      "text/plain": [
       "Executing:   0%|          | 0/40 [00:00<?, ?cell/s]"
      ]
     },
     "metadata": {},
     "output_type": "display_data"
    },
    {
     "data": {
      "application/vnd.jupyter.widget-view+json": {
       "model_id": "838b47d29cca4c449faf38490e038001",
       "version_major": 2,
       "version_minor": 0
      },
      "text/plain": [
       "Executing:   0%|          | 0/40 [00:00<?, ?cell/s]"
      ]
     },
     "metadata": {},
     "output_type": "display_data"
    },
    {
     "data": {
      "application/vnd.jupyter.widget-view+json": {
       "model_id": "aa50b2e4e05346dc96ff8fc4d3c1e00b",
       "version_major": 2,
       "version_minor": 0
      },
      "text/plain": [
       "Executing:   0%|          | 0/40 [00:00<?, ?cell/s]"
      ]
     },
     "metadata": {},
     "output_type": "display_data"
    },
    {
     "data": {
      "application/vnd.jupyter.widget-view+json": {
       "model_id": "619a790c1f994329b94df5c31db9ee6c",
       "version_major": 2,
       "version_minor": 0
      },
      "text/plain": [
       "Executing:   0%|          | 0/40 [00:00<?, ?cell/s]"
      ]
     },
     "metadata": {},
     "output_type": "display_data"
    }
   ],
   "source": [
    "for seed in range(5):\n",
    "    parameters = {\n",
    "        'random_seed': seed,\n",
    "        'save_to_disk': True,\n",
    "        'train_on_logits': False,\n",
    "        'ensemble_logits': True,\n",
    "        'model_prefix': f'nn',\n",
    "    }\n",
    "    \n",
    "    _ = pm.execute_notebook(\n",
    "        '06_NN_ensemble.ipynb',\n",
    "        '_tmp_last_execution.ipynb',\n",
    "        parameters=parameters,\n",
    "        kernel_name='kd')"
   ]
  },
  {
   "cell_type": "code",
   "execution_count": null,
   "id": "reasonable-liquid",
   "metadata": {},
   "outputs": [
    {
     "data": {
      "application/vnd.jupyter.widget-view+json": {
       "model_id": "37157e32ec944b3c970a45d22f80244a",
       "version_major": 2,
       "version_minor": 0
      },
      "text/plain": [
       "Executing:   0%|          | 0/40 [00:00<?, ?cell/s]"
      ]
     },
     "metadata": {},
     "output_type": "display_data"
    },
    {
     "data": {
      "application/vnd.jupyter.widget-view+json": {
       "model_id": "e76da717b88142bf9fabcad1240e4e43",
       "version_major": 2,
       "version_minor": 0
      },
      "text/plain": [
       "Executing:   0%|          | 0/40 [00:00<?, ?cell/s]"
      ]
     },
     "metadata": {},
     "output_type": "display_data"
    },
    {
     "data": {
      "application/vnd.jupyter.widget-view+json": {
       "model_id": "820aee25b5344c2e837463de89bbd14b",
       "version_major": 2,
       "version_minor": 0
      },
      "text/plain": [
       "Executing:   0%|          | 0/40 [00:00<?, ?cell/s]"
      ]
     },
     "metadata": {},
     "output_type": "display_data"
    },
    {
     "data": {
      "application/vnd.jupyter.widget-view+json": {
       "model_id": "9580a33babdf42ef943825cda0565984",
       "version_major": 2,
       "version_minor": 0
      },
      "text/plain": [
       "Executing:   0%|          | 0/40 [00:00<?, ?cell/s]"
      ]
     },
     "metadata": {},
     "output_type": "display_data"
    },
    {
     "data": {
      "application/vnd.jupyter.widget-view+json": {
       "model_id": "07bb523052ed4e7e9dd8eac0cedc279b",
       "version_major": 2,
       "version_minor": 0
      },
      "text/plain": [
       "Executing:   0%|          | 0/40 [00:00<?, ?cell/s]"
      ]
     },
     "metadata": {},
     "output_type": "display_data"
    }
   ],
   "source": [
    "for seed in range(5):\n",
    "    parameters = {\n",
    "        'random_seed': seed,\n",
    "        'save_to_disk': True,\n",
    "        'train_on_logits': True,\n",
    "        'ensemble_logits': False,\n",
    "        'model_prefix': f'nn',\n",
    "    }\n",
    "    \n",
    "    _ = pm.execute_notebook(\n",
    "        '06_NN_ensemble.ipynb',\n",
    "        '_tmp_last_execution.ipynb',\n",
    "        parameters=parameters,\n",
    "        kernel_name='kd')"
   ]
  },
  {
   "cell_type": "code",
   "execution_count": null,
   "id": "rolled-assistant",
   "metadata": {},
   "outputs": [
    {
     "data": {
      "application/vnd.jupyter.widget-view+json": {
       "model_id": "2217c0c3640444528b60219262ff2fb9",
       "version_major": 2,
       "version_minor": 0
      },
      "text/plain": [
       "Executing:   0%|          | 0/40 [00:00<?, ?cell/s]"
      ]
     },
     "metadata": {},
     "output_type": "display_data"
    },
    {
     "data": {
      "application/vnd.jupyter.widget-view+json": {
       "model_id": "f3395dd0081d43c089b5f05d00889421",
       "version_major": 2,
       "version_minor": 0
      },
      "text/plain": [
       "Executing:   0%|          | 0/40 [00:00<?, ?cell/s]"
      ]
     },
     "metadata": {},
     "output_type": "display_data"
    },
    {
     "data": {
      "application/vnd.jupyter.widget-view+json": {
       "model_id": "1b5a6a1dddfc4b5197d3ba7ac6089e24",
       "version_major": 2,
       "version_minor": 0
      },
      "text/plain": [
       "Executing:   0%|          | 0/40 [00:00<?, ?cell/s]"
      ]
     },
     "metadata": {},
     "output_type": "display_data"
    },
    {
     "data": {
      "application/vnd.jupyter.widget-view+json": {
       "model_id": "0a171b3d3c88465093be01301271d815",
       "version_major": 2,
       "version_minor": 0
      },
      "text/plain": [
       "Executing:   0%|          | 0/40 [00:00<?, ?cell/s]"
      ]
     },
     "metadata": {},
     "output_type": "display_data"
    },
    {
     "data": {
      "application/vnd.jupyter.widget-view+json": {
       "model_id": "37c0d8e5028f4b50bcd3834b2823df92",
       "version_major": 2,
       "version_minor": 0
      },
      "text/plain": [
       "Executing:   0%|          | 0/40 [00:00<?, ?cell/s]"
      ]
     },
     "metadata": {},
     "output_type": "display_data"
    }
   ],
   "source": [
    "for seed in range(5):\n",
    "    parameters = {\n",
    "        'random_seed': seed,\n",
    "        'save_to_disk': True,\n",
    "        'train_on_logits': False,\n",
    "        'ensemble_logits': False,\n",
    "        'model_prefix': f'nn',\n",
    "    }\n",
    "    \n",
    "    _ = pm.execute_notebook(\n",
    "        '06_NN_ensemble.ipynb',\n",
    "        '_tmp_last_execution.ipynb',\n",
    "        parameters=parameters,\n",
    "        kernel_name='kd')"
   ]
  },
  {
   "cell_type": "code",
   "execution_count": null,
   "id": "functional-johns",
   "metadata": {},
   "outputs": [],
   "source": []
  }
 ],
 "metadata": {
  "kernelspec": {
   "display_name": "Python [conda-kd]",
   "language": "python",
   "name": "conda-env-conda-kd-py"
  }
 },
 "nbformat": 4,
 "nbformat_minor": 5
}
