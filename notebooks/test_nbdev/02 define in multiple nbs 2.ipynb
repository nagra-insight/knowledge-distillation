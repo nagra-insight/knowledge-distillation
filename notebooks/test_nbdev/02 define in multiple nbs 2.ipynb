{
 "cells": [
  {
   "cell_type": "code",
   "execution_count": null,
   "id": "rotary-management",
   "metadata": {},
   "outputs": [],
   "source": [
    "#default_exp nbdev_tests.multiple"
   ]
  },
  {
   "cell_type": "markdown",
   "id": "consolidated-malaysia",
   "metadata": {},
   "source": [
    "# Test if we can re-define the same function on different notebooks"
   ]
  },
  {
   "cell_type": "code",
   "execution_count": null,
   "id": "prospective-sherman",
   "metadata": {},
   "outputs": [],
   "source": [
    "#export\n",
    "\n",
    "def defined_in_multiple_nbs():\n",
    "    print(\"This function was defined on notebook 02\")"
   ]
  },
  {
   "cell_type": "code",
   "execution_count": null,
   "id": "internal-conversion",
   "metadata": {},
   "outputs": [],
   "source": []
  }
 ],
 "metadata": {
  "kernelspec": {
   "display_name": "Python [conda-kd]",
   "language": "python",
   "name": "conda-env-conda-kd-py"
  }
 },
 "nbformat": 4,
 "nbformat_minor": 5
}
