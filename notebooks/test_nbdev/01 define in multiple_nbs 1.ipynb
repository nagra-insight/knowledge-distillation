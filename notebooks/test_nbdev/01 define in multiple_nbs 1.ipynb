{
 "cells": [
  {
   "cell_type": "code",
   "execution_count": null,
   "id": "systematic-specialist",
   "metadata": {},
   "outputs": [],
   "source": [
    "#default_exp nbdev_tests.multiple"
   ]
  },
  {
   "cell_type": "markdown",
   "id": "fatal-elder",
   "metadata": {},
   "source": [
    "# Test if we can define the same function on different notebooks"
   ]
  },
  {
   "cell_type": "code",
   "execution_count": null,
   "id": "leading-board",
   "metadata": {},
   "outputs": [],
   "source": [
    "#export\n",
    "\n",
    "def defined_in_multiple_nbs():\n",
    "    print(\"This function was defined on notebook 01\")"
   ]
  },
  {
   "cell_type": "code",
   "execution_count": null,
   "id": "refined-search",
   "metadata": {},
   "outputs": [],
   "source": []
  }
 ],
 "metadata": {
  "kernelspec": {
   "display_name": "Python [conda-kd]",
   "language": "python",
   "name": "conda-env-conda-kd-py"
  }
 },
 "nbformat": 4,
 "nbformat_minor": 5
}
