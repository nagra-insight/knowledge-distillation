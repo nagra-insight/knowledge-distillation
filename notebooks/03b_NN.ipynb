{
 "cells": [
  {
   "cell_type": "code",
   "execution_count": null,
   "id": "consolidated-mediterranean",
   "metadata": {},
   "outputs": [],
   "source": [
    "# default_exp nn"
   ]
  },
  {
   "cell_type": "code",
   "execution_count": null,
   "id": "found-sullivan",
   "metadata": {},
   "outputs": [],
   "source": [
    "%load_ext autoreload\n",
    "%autoreload 2"
   ]
  },
  {
   "cell_type": "code",
   "execution_count": null,
   "id": "immediate-month",
   "metadata": {},
   "outputs": [],
   "source": [
    "%load_ext tensorboard"
   ]
  },
  {
   "cell_type": "code",
   "execution_count": null,
   "id": "hungry-houston",
   "metadata": {},
   "outputs": [],
   "source": [
    "import pandas as pd\n",
    "from sklearn.metrics import classification_report\n",
    "from sklearn.model_selection import train_test_split\n",
    "from sklearn.ensemble import StackingClassifier\n",
    "import matplotlib.pyplot as plt\n"
   ]
  },
  {
   "cell_type": "code",
   "execution_count": null,
   "id": "consistent-pepper",
   "metadata": {},
   "outputs": [],
   "source": [
    "#export\n",
    "from knowledge_distillation.io import *"
   ]
  },
  {
   "cell_type": "code",
   "execution_count": null,
   "id": "seven-treasurer",
   "metadata": {},
   "outputs": [
    {
     "name": "stderr",
     "output_type": "stream",
     "text": [
      "/home/jupyterlab/ni-workspace/conda/envs/kd/lib/python3.8/site-packages/torch/cuda/__init__.py:52: UserWarning: CUDA initialization: Found no NVIDIA driver on your system. Please check that you have an NVIDIA GPU and installed a driver from http://www.nvidia.com/Download/index.aspx (Triggered internally at  /opt/conda/conda-bld/pytorch_1607370172916/work/c10/cuda/CUDAFunctions.cpp:100.)\n",
      "  return torch._C._cuda_getDeviceCount() > 0\n"
     ]
    }
   ],
   "source": [
    "from knowledge_distillation.ensemble import UnbiasedAverage\n",
    "from knowledge_distillation.processing import * "
   ]
  },
  {
   "cell_type": "code",
   "execution_count": null,
   "id": "breeding-surface",
   "metadata": {},
   "outputs": [],
   "source": [
    "import warnings\n",
    "warnings.simplefilter(\"ignore\", category=FutureWarning)\n",
    "warnings.simplefilter(\"ignore\", category=UserWarning)"
   ]
  },
  {
   "cell_type": "code",
   "execution_count": null,
   "id": "middle-evolution",
   "metadata": {},
   "outputs": [],
   "source": [
    "# export\n",
    "import numpy as np\n",
    "import pickle\n",
    "\n",
    "import tensorflow as tf\n",
    "from tensorflow import keras\n",
    "from tensorflow.keras import Input\n",
    "from tensorflow.keras import layers\n",
    "from tensorflow.keras.layers import Dense, Dropout, BatchNormalization, Activation, Embedding\n",
    "from tensorflow.keras import regularizers, optimizers\n",
    "from tensorflow.keras.wrappers.scikit_learn import KerasClassifier\n",
    "from tensorflow.keras.callbacks import EarlyStopping, ModelCheckpoint\n",
    "from tensorflow.keras.utils import to_categorical"
   ]
  },
  {
   "cell_type": "markdown",
   "id": "divided-elite",
   "metadata": {},
   "source": [
    "# Load data"
   ]
  },
  {
   "cell_type": "code",
   "execution_count": null,
   "id": "ancient-replica",
   "metadata": {},
   "outputs": [],
   "source": [
    "df = load_adult()"
   ]
  },
  {
   "cell_type": "markdown",
   "id": "sustained-substitute",
   "metadata": {},
   "source": [
    "# Preprocessing"
   ]
  },
  {
   "cell_type": "code",
   "execution_count": null,
   "id": "velvet-bracelet",
   "metadata": {},
   "outputs": [],
   "source": [
    "# X, y, target_names = scale_onehot(df, target='salary')\n",
    "\n",
    "\n",
    "# y = to_categorical(y, max(y) + 1)\n",
    "\n",
    "X, y, target_names = scale_fastai(df, target='salary')\n",
    "\n",
    "X_train, X_test, y_train, y_test = split_with_seed(X, y)"
   ]
  },
  {
   "cell_type": "code",
   "execution_count": null,
   "id": "ethical-stability",
   "metadata": {},
   "outputs": [
    {
     "data": {
      "text/plain": [
       "array([1, 1, 0, 0, 0], dtype=int8)"
      ]
     },
     "execution_count": null,
     "metadata": {},
     "output_type": "execute_result"
    }
   ],
   "source": [
    "y_train[:5]"
   ]
  },
  {
   "cell_type": "markdown",
   "id": "naughty-causing",
   "metadata": {},
   "source": [
    "# Train a simple fully connected NN"
   ]
  },
  {
   "cell_type": "code",
   "execution_count": null,
   "id": "answering-minimum",
   "metadata": {},
   "outputs": [],
   "source": [
    "# export\n",
    "def create_nn(\n",
    "    size_layer_1, \n",
    "    size_layer_2, \n",
    "    size_layer_3, \n",
    "    n_class, \n",
    "    learning_rate,\n",
    "    activation='relu', \n",
    "    l2=0, \n",
    "    dropout=0,\n",
    "):\n",
    "    \"\"\"Keras NN.\"\"\"\n",
    "    nn = keras.Sequential()\n",
    "    nn.add(Dense(size_layer_1))\n",
    "    nn.add(Activation(activation))\n",
    "    nn.add(BatchNormalization())\n",
    "#     nn.add(Dropout(dropout))\n",
    "    \n",
    "    nn.add(Dense(size_layer_2))\n",
    "    nn.add(Activation(activation))\n",
    "    nn.add(BatchNormalization())\n",
    "    \n",
    "    nn.add(Dense(size_layer_3))\n",
    "    nn.add(Activation(activation))\n",
    "    nn.add(BatchNormalization())\n",
    "#     nn.add(Dropout(dropout))\n",
    "    \n",
    "    if n_class == 1:\n",
    "        nn.add(Dense(n_class, activation='sigmoid'))\n",
    "        loss = 'binary_crossentropy'\n",
    "    elif n_class == 2:\n",
    "        nn.add(Dense(n_class, activation='linear'))\n",
    "        loss = 'binary_crossentropy'\n",
    "    elif n_class > 2:\n",
    "        nn.add(Dense(n_class, activation='linear'))\n",
    "        loss = 'categorical_crossentropy'\n",
    "    \n",
    "    nn.compile(loss=loss,\n",
    "               optimizer=optimizers.Adam(learning_rate=learning_rate),\n",
    "               metrics=[\n",
    "                   'accuracy', \n",
    "               ]\n",
    "              )\n",
    "    return nn\n",
    "\n"
   ]
  },
  {
   "cell_type": "code",
   "execution_count": null,
   "id": "refined-tokyo",
   "metadata": {},
   "outputs": [],
   "source": [
    "# export\n",
    "\n",
    "# es = EarlyStopping(monitor='val_loss', mode='min', verbose=1, patience=20)\n",
    "# mc = ModelCheckpoint('best_model.h5', monitor='val_accuracy', mode='max', verbose=1, save_best_only=True)\n",
    "\n",
    "# tensorboard = tf.keras.callbacks.TensorBoard(log_dir='logs/fit', histogram_freq=1)\n",
    "\n",
    "\n",
    "train_params = {\n",
    "    \"epochs\": 15, \n",
    "    \"batch_size\": 1024,\n",
    "    \"validation_split\":.3,\n",
    "    \"size_layer_1\":200,\n",
    "    \"size_layer_2\":100,\n",
    "    \"size_layer_3\":50,\n",
    "    \"n_class\":1,\n",
    "    \"learning_rate\":0.001,\n",
    "#     \"callbacks\": [tensorboard]\n",
    "}"
   ]
  },
  {
   "cell_type": "code",
   "execution_count": null,
   "id": "quality-rendering",
   "metadata": {},
   "outputs": [
    {
     "data": {
      "text/plain": [
       "(32561, 15)"
      ]
     },
     "execution_count": null,
     "metadata": {},
     "output_type": "execute_result"
    }
   ],
   "source": [
    "df.shape"
   ]
  },
  {
   "cell_type": "code",
   "execution_count": null,
   "id": "confused-genesis",
   "metadata": {},
   "outputs": [],
   "source": [
    "model = KerasClassifier(\n",
    "    build_fn=create_nn,\n",
    "    verbose=1,\n",
    "    **train_params\n",
    ")"
   ]
  },
  {
   "cell_type": "code",
   "execution_count": null,
   "id": "competitive-aspect",
   "metadata": {},
   "outputs": [
    {
     "name": "stdout",
     "output_type": "stream",
     "text": [
      "Epoch 1/15\n",
      "18/18 [==============================] - 3s 68ms/step - loss: 0.6619 - accuracy: 0.6523 - val_loss: 4.0410 - val_accuracy: 0.2430\n",
      "Epoch 2/15\n",
      "18/18 [==============================] - 1s 44ms/step - loss: 0.4800 - accuracy: 0.7974 - val_loss: 3.6646 - val_accuracy: 0.2520\n",
      "Epoch 3/15\n",
      "18/18 [==============================] - 1s 50ms/step - loss: 0.4198 - accuracy: 0.8264 - val_loss: 3.0804 - val_accuracy: 0.2645\n",
      "Epoch 4/15\n",
      "18/18 [==============================] - 1s 56ms/step - loss: 0.3809 - accuracy: 0.8427 - val_loss: 2.6848 - val_accuracy: 0.2891\n",
      "Epoch 5/15\n",
      "18/18 [==============================] - 1s 55ms/step - loss: 0.3621 - accuracy: 0.8461 - val_loss: 1.6940 - val_accuracy: 0.3011\n",
      "Epoch 6/15\n",
      "18/18 [==============================] - 1s 54ms/step - loss: 0.3492 - accuracy: 0.8470 - val_loss: 1.3422 - val_accuracy: 0.3125\n",
      "Epoch 7/15\n",
      "18/18 [==============================] - 1s 46ms/step - loss: 0.3365 - accuracy: 0.8533 - val_loss: 0.7632 - val_accuracy: 0.5216\n",
      "Epoch 8/15\n",
      "18/18 [==============================] - 1s 48ms/step - loss: 0.3251 - accuracy: 0.8550 - val_loss: 0.6415 - val_accuracy: 0.6583\n",
      "Epoch 9/15\n",
      "18/18 [==============================] - 1s 50ms/step - loss: 0.3311 - accuracy: 0.8488 - val_loss: 0.4983 - val_accuracy: 0.7794\n",
      "Epoch 10/15\n",
      "18/18 [==============================] - 1s 51ms/step - loss: 0.3208 - accuracy: 0.8527 - val_loss: 0.4359 - val_accuracy: 0.8036\n",
      "Epoch 11/15\n",
      "18/18 [==============================] - 1s 51ms/step - loss: 0.3149 - accuracy: 0.8571 - val_loss: 0.3804 - val_accuracy: 0.8298\n",
      "Epoch 12/15\n",
      "18/18 [==============================] - 1s 45ms/step - loss: 0.3097 - accuracy: 0.8579 - val_loss: 0.3677 - val_accuracy: 0.8390\n",
      "Epoch 13/15\n",
      "18/18 [==============================] - 1s 49ms/step - loss: 0.3088 - accuracy: 0.8607 - val_loss: 0.3465 - val_accuracy: 0.8412\n",
      "Epoch 14/15\n",
      "18/18 [==============================] - 1s 45ms/step - loss: 0.2985 - accuracy: 0.8646 - val_loss: 0.3536 - val_accuracy: 0.8328\n",
      "Epoch 15/15\n",
      "18/18 [==============================] - 1s 41ms/step - loss: 0.3079 - accuracy: 0.8599 - val_loss: 0.3444 - val_accuracy: 0.8394\n"
     ]
    }
   ],
   "source": [
    "history = model.fit(X_train, y_train)"
   ]
  },
  {
   "cell_type": "code",
   "execution_count": null,
   "id": "least-brief",
   "metadata": {},
   "outputs": [
    {
     "data": {
      "image/png": "[encoded data removed]",
      "text/plain": [
       "<Figure size 432x288 with 1 Axes>"
      ]
     },
     "metadata": {
      "needs_background": "light"
     },
     "output_type": "display_data"
    }
   ],
   "source": [
    "plt.plot(history.history['loss'], label='train')\n",
    "plt.plot(history.history['val_loss'], label='test')\n",
    "plt.title('Loss')\n",
    "plt.legend();"
   ]
  },
  {
   "cell_type": "code",
   "execution_count": null,
   "id": "spiritual-balloon",
   "metadata": {},
   "outputs": [
    {
     "data": {
      "text/plain": [
       "<matplotlib.legend.Legend at 0x7f3958cbbd90>"
      ]
     },
     "execution_count": null,
     "metadata": {},
     "output_type": "execute_result"
    },
    {
     "data": {
      "image/png": "[encoded data removed]",
      "text/plain": [
       "<Figure size 432x288 with 1 Axes>"
      ]
     },
     "metadata": {
      "needs_background": "light"
     },
     "output_type": "display_data"
    }
   ],
   "source": [
    "plt.plot(history.history['accuracy'], label='train')\n",
    "plt.plot(history.history['val_accuracy'], label='test')\n",
    "plt.title('Accuracy')\n",
    "plt.legend()"
   ]
  },
  {
   "cell_type": "code",
   "execution_count": null,
   "id": "proved-village",
   "metadata": {},
   "outputs": [
    {
     "name": "stdout",
     "output_type": "stream",
     "text": [
      "Model: \"sequential_5\"\n",
      "_________________________________________________________________\n",
      "Layer (type)                 Output Shape              Param #   \n",
      "=================================================================\n",
      "dense_19 (Dense)             (None, 200)               3000      \n",
      "_________________________________________________________________\n",
      "activation_14 (Activation)   (None, 200)               0         \n",
      "_________________________________________________________________\n",
      "batch_normalization_14 (Batc (None, 200)               800       \n",
      "_________________________________________________________________\n",
      "dense_20 (Dense)             (None, 100)               20100     \n",
      "_________________________________________________________________\n",
      "activation_15 (Activation)   (None, 100)               0         \n",
      "_________________________________________________________________\n",
      "batch_normalization_15 (Batc (None, 100)               400       \n",
      "_________________________________________________________________\n",
      "dense_21 (Dense)             (None, 50)                5050      \n",
      "_________________________________________________________________\n",
      "activation_16 (Activation)   (None, 50)                0         \n",
      "_________________________________________________________________\n",
      "batch_normalization_16 (Batc (None, 50)                200       \n",
      "_________________________________________________________________\n",
      "dense_22 (Dense)             (None, 1)                 51        \n",
      "=================================================================\n",
      "Total params: 29,601\n",
      "Trainable params: 28,901\n",
      "Non-trainable params: 700\n",
      "_________________________________________________________________\n"
     ]
    }
   ],
   "source": [
    "model.model.summary()"
   ]
  },
  {
   "cell_type": "code",
   "execution_count": null,
   "id": "alien-grocery",
   "metadata": {},
   "outputs": [],
   "source": [
    "# keras.utils.plot_model(model.model, show_shapes=True, dpi=100, rankdir=\"LR\")"
   ]
  },
  {
   "cell_type": "code",
   "execution_count": null,
   "id": "prepared-drive",
   "metadata": {},
   "outputs": [
    {
     "name": "stdout",
     "output_type": "stream",
     "text": [
      "1/1 [==============================] - 0s 224ms/step\n"
     ]
    },
    {
     "data": {
      "text/plain": [
       "array([[0.7708421 , 0.2291579 ],\n",
       "       [0.01479876, 0.98520124],\n",
       "       [0.9836832 , 0.0163168 ],\n",
       "       [0.9718217 , 0.02817827],\n",
       "       [0.98941123, 0.01058877]], dtype=float32)"
      ]
     },
     "execution_count": null,
     "metadata": {},
     "output_type": "execute_result"
    }
   ],
   "source": [
    "model.predict_proba(X_test.sample(5))"
   ]
  },
  {
   "cell_type": "markdown",
   "id": "amazing-supply",
   "metadata": {},
   "source": [
    "# Save model"
   ]
  },
  {
   "cell_type": "code",
   "execution_count": null,
   "id": "postal-revelation",
   "metadata": {},
   "outputs": [],
   "source": [
    "# export \n",
    "\n",
    "def keras_model_and_classes_paths(name, path=ASSETS_PATH):\n",
    "    \"\"\"Get the paths for a keras model and classes\"\"\"\n",
    "    \n",
    "    model_path = path / f'{name}.tf'\n",
    "    classes_path = path / f'{name}_classes.pkl'\n",
    "    return model_path, classes_path\n",
    "\n",
    "def save_keras_classifier(model, name, path=ASSETS_PATH):\n",
    "    \"\"\"Save a Keras model to disk\"\"\"\n",
    "    model_path, classes_path = keras_model_and_classes_paths(name)\n",
    "    \n",
    "    pickle.dump(model.classes_, open(classes_path,'wb'))\n",
    "    model.model.save(model_path)\n"
   ]
  },
  {
   "cell_type": "code",
   "execution_count": null,
   "id": "seventh-canyon",
   "metadata": {},
   "outputs": [
    {
     "name": "stdout",
     "output_type": "stream",
     "text": [
      "INFO:tensorflow:Assets written to: /home/jupyterlab/ni-workspace/notebooks/notebooks/../assets/test_keras.tf/assets\n"
     ]
    }
   ],
   "source": [
    "save_keras_classifier(model, 'test_keras')"
   ]
  },
  {
   "cell_type": "markdown",
   "id": "coordinated-parent",
   "metadata": {},
   "source": [
    "# Load model"
   ]
  },
  {
   "cell_type": "code",
   "execution_count": null,
   "id": "bronze-rubber",
   "metadata": {},
   "outputs": [],
   "source": [
    "#export \n",
    "def do_nothing():\n",
    "    return \n",
    "\n",
    "def load_keras_classifier(name, path=ASSETS_PATH):\n",
    "    \"\"\"Load a Keras model from disk, as KerasClassifier (sklearn wrapper)\"\"\"\n",
    "    model_path, classes_path = keras_model_and_classes_paths(name)\n",
    "    \n",
    "    nn = KerasClassifier(build_fn=do_nothing)\n",
    "    \n",
    "    # load model and classes\n",
    "    nn.model = keras.models.load_model(model_path)\n",
    "    classes = pickle.load(open(classes_path, 'rb'))\n",
    "    \n",
    "    # required for sklearn to believe that the model is trained\n",
    "    nn._estimator_type = \"classifier\"\n",
    "    nn.classes_ = classes\n",
    "    \n",
    "    return nn\n"
   ]
  },
  {
   "cell_type": "code",
   "execution_count": null,
   "id": "documentary-pulse",
   "metadata": {},
   "outputs": [],
   "source": [
    "model = load_keras_classifier(name='test_keras')"
   ]
  },
  {
   "cell_type": "markdown",
   "id": "earned-decimal",
   "metadata": {},
   "source": [
    "# Evaluate single model"
   ]
  },
  {
   "cell_type": "code",
   "execution_count": null,
   "id": "fitting-amsterdam",
   "metadata": {},
   "outputs": [
    {
     "name": "stdout",
     "output_type": "stream",
     "text": [
      "=== Train ===\n",
      "              precision    recall  f1-score   support\n",
      "\n",
      "       <=50K       0.86      0.95      0.90     19778\n",
      "        >50K       0.77      0.52      0.62      6270\n",
      "\n",
      "    accuracy                           0.85     26048\n",
      "   macro avg       0.82      0.74      0.76     26048\n",
      "weighted avg       0.84      0.85      0.84     26048\n",
      "\n",
      "\n",
      "=== Test ===\n",
      "              precision    recall  f1-score   support\n",
      "\n",
      "       <=50K       0.86      0.95      0.90      4942\n",
      "        >50K       0.76      0.52      0.61      1571\n",
      "\n",
      "    accuracy                           0.84      6513\n",
      "   macro avg       0.81      0.73      0.76      6513\n",
      "weighted avg       0.84      0.84      0.83      6513\n",
      "\n",
      "\n"
     ]
    },
    {
     "data": {
      "text/html": [
       "<div>\n",
       "<style scoped>\n",
       "    .dataframe tbody tr th:only-of-type {\n",
       "        vertical-align: middle;\n",
       "    }\n",
       "\n",
       "    .dataframe tbody tr th {\n",
       "        vertical-align: top;\n",
       "    }\n",
       "\n",
       "    .dataframe thead th {\n",
       "        text-align: right;\n",
       "    }\n",
       "</style>\n",
       "<table border=\"1\" class=\"dataframe\">\n",
       "  <thead>\n",
       "    <tr style=\"text-align: right;\">\n",
       "      <th></th>\n",
       "      <th>model_name</th>\n",
       "      <th>data</th>\n",
       "      <th>accuracy</th>\n",
       "      <th>precision</th>\n",
       "      <th>recall</th>\n",
       "      <th>f1</th>\n",
       "      <th>auc</th>\n",
       "    </tr>\n",
       "  </thead>\n",
       "  <tbody>\n",
       "    <tr>\n",
       "      <th>0</th>\n",
       "      <td>nn</td>\n",
       "      <td>train</td>\n",
       "      <td>0.847512</td>\n",
       "      <td>0.769592</td>\n",
       "      <td>0.523126</td>\n",
       "      <td>0.622864</td>\n",
       "      <td>0.736737</td>\n",
       "    </tr>\n",
       "    <tr>\n",
       "      <th>1</th>\n",
       "      <td>nn</td>\n",
       "      <td>test</td>\n",
       "      <td>0.843237</td>\n",
       "      <td>0.755576</td>\n",
       "      <td>0.517505</td>\n",
       "      <td>0.614280</td>\n",
       "      <td>0.732144</td>\n",
       "    </tr>\n",
       "  </tbody>\n",
       "</table>\n",
       "</div>"
      ],
      "text/plain": [
       "  model_name   data  accuracy  precision    recall        f1       auc\n",
       "0         nn  train  0.847512   0.769592  0.523126  0.622864  0.736737\n",
       "1         nn   test  0.843237   0.755576  0.517505  0.614280  0.732144"
      ]
     },
     "execution_count": null,
     "metadata": {},
     "output_type": "execute_result"
    }
   ],
   "source": [
    "evaluate_model(X_train, X_test, y_train, y_test, model, 'nn', save_to_disk=False, \n",
    "               target_names=target_names)"
   ]
  },
  {
   "cell_type": "code",
   "execution_count": null,
   "id": "other-certificate",
   "metadata": {},
   "outputs": [
    {
     "name": "stdout",
     "output_type": "stream",
     "text": [
      "=== Train ===\n",
      "              precision    recall  f1-score   support\n",
      "\n",
      "       <=50K       0.86      0.95      0.90     19778\n",
      "        >50K       0.77      0.52      0.62      6270\n",
      "\n",
      "    accuracy                           0.85     26048\n",
      "   macro avg       0.82      0.74      0.76     26048\n",
      "weighted avg       0.84      0.85      0.84     26048\n",
      "\n",
      "\n",
      "=== Test ===\n",
      "              precision    recall  f1-score   support\n",
      "\n",
      "       <=50K       0.86      0.95      0.90      4942\n",
      "        >50K       0.76      0.52      0.61      1571\n",
      "\n",
      "    accuracy                           0.84      6513\n",
      "   macro avg       0.81      0.73      0.76      6513\n",
      "weighted avg       0.84      0.84      0.83      6513\n",
      "\n",
      "\n"
     ]
    },
    {
     "data": {
      "text/html": [
       "<div>\n",
       "<style scoped>\n",
       "    .dataframe tbody tr th:only-of-type {\n",
       "        vertical-align: middle;\n",
       "    }\n",
       "\n",
       "    .dataframe tbody tr th {\n",
       "        vertical-align: top;\n",
       "    }\n",
       "\n",
       "    .dataframe thead th {\n",
       "        text-align: right;\n",
       "    }\n",
       "</style>\n",
       "<table border=\"1\" class=\"dataframe\">\n",
       "  <thead>\n",
       "    <tr style=\"text-align: right;\">\n",
       "      <th></th>\n",
       "      <th>model_name</th>\n",
       "      <th>data</th>\n",
       "      <th>accuracy</th>\n",
       "      <th>precision</th>\n",
       "      <th>recall</th>\n",
       "      <th>f1</th>\n",
       "      <th>auc</th>\n",
       "    </tr>\n",
       "  </thead>\n",
       "  <tbody>\n",
       "    <tr>\n",
       "      <th>0</th>\n",
       "      <td>nn</td>\n",
       "      <td>train</td>\n",
       "      <td>0.847512</td>\n",
       "      <td>0.769592</td>\n",
       "      <td>0.523126</td>\n",
       "      <td>0.622864</td>\n",
       "      <td>0.736737</td>\n",
       "    </tr>\n",
       "    <tr>\n",
       "      <th>1</th>\n",
       "      <td>nn</td>\n",
       "      <td>test</td>\n",
       "      <td>0.843237</td>\n",
       "      <td>0.755576</td>\n",
       "      <td>0.517505</td>\n",
       "      <td>0.614280</td>\n",
       "      <td>0.732144</td>\n",
       "    </tr>\n",
       "  </tbody>\n",
       "</table>\n",
       "</div>"
      ],
      "text/plain": [
       "  model_name   data  accuracy  precision    recall        f1       auc\n",
       "0         nn  train  0.847512   0.769592  0.523126  0.622864  0.736737\n",
       "1         nn   test  0.843237   0.755576  0.517505  0.614280  0.732144"
      ]
     },
     "execution_count": null,
     "metadata": {},
     "output_type": "execute_result"
    }
   ],
   "source": [
    "evaluate_model(X_train, X_test, y_train, y_test, model, 'nn', save_to_disk=False, \n",
    "               target_names=target_names)"
   ]
  },
  {
   "cell_type": "code",
   "execution_count": null,
   "id": "unlike-columbia",
   "metadata": {},
   "outputs": [
    {
     "name": "stdout",
     "output_type": "stream",
     "text": [
      "Converted 00_io.ipynb.\n",
      "Converted 01_processing.ipynb.\n",
      "Converted 02_ensemble.ipynb.\n",
      "Converted 03a_logistic.ipynb.\n",
      "Converted 03b_NN.ipynb.\n",
      "Converted 03c_bag_of_trees.ipynb.\n",
      "Converted 04_train_NN.ipynb.\n",
      "Converted 05_train_multiple_NNs.ipynb.\n",
      "Converted 05a_train_identical_seed.ipynb.\n",
      "Converted 06_NN_ensemble.ipynb.\n",
      "Converted 07_distill_multiple_NNs.ipynb.\n",
      "Converted 07a_train_and_distill_multiple_NNs.ipynb.\n",
      "Converted 08_compare.ipynb.\n",
      "Converted index.ipynb.\n"
     ]
    }
   ],
   "source": [
    "from nbdev.export import notebook2script\n",
    "notebook2script()"
   ]
  },
  {
   "cell_type": "code",
   "execution_count": null,
   "id": "funny-fraud",
   "metadata": {},
   "outputs": [],
   "source": []
  }
 ],
 "metadata": {
  "kernelspec": {
   "display_name": "Python [conda-kd]",
   "language": "python",
   "name": "conda-env-conda-kd-py"
  }
 },
 "nbformat": 4,
 "nbformat_minor": 5
}
