{
 "cells": [
  {
   "cell_type": "code",
   "execution_count": null,
   "id": "decreased-reviewer",
   "metadata": {},
   "outputs": [],
   "source": [
    "# default_exp processing"
   ]
  },
  {
   "cell_type": "code",
   "execution_count": null,
   "id": "selected-insured",
   "metadata": {},
   "outputs": [],
   "source": [
    "from knowledge_distillation import io"
   ]
  },
  {
   "cell_type": "code",
   "execution_count": null,
   "id": "developed-consequence",
   "metadata": {},
   "outputs": [],
   "source": [
    "from pandas.api.types import is_numeric_dtype\n",
    "\n",
    "from knowledge_distillation.ensemble import *"
   ]
  },
  {
   "cell_type": "code",
   "execution_count": null,
   "id": "typical-paintball",
   "metadata": {},
   "outputs": [
    {
     "name": "stderr",
     "output_type": "stream",
     "text": [
      "/home/jupyterlab/ni-workspace/conda/envs/kd/lib/python3.8/site-packages/torch/cuda/__init__.py:52: UserWarning: CUDA initialization: Found no NVIDIA driver on your system. Please check that you have an NVIDIA GPU and installed a driver from http://www.nvidia.com/Download/index.aspx (Triggered internally at  /opt/conda/conda-bld/pytorch_1607370172916/work/c10/cuda/CUDAFunctions.cpp:100.)\n",
      "  return torch._C._cuda_getDeviceCount() > 0\n"
     ]
    }
   ],
   "source": [
    "# export\n",
    "import numpy as np\n",
    "from numpy.testing import assert_array_equal\n",
    "import pandas as pd\n",
    "from sklearn.ensemble import StackingClassifier\n",
    "from sklearn.dummy import DummyClassifier\n",
    "from sklearn.impute import SimpleImputer\n",
    "from sklearn.metrics import accuracy_score, precision_score, recall_score, roc_auc_score, f1_score, classification_report\n",
    "from sklearn.model_selection import train_test_split\n",
    "from sklearn.preprocessing import StandardScaler\n",
    "from tensorflow.keras.wrappers.scikit_learn import KerasClassifier\n",
    "\n",
    "from category_encoders import OneHotEncoder, OrdinalEncoder\n",
    "from sklearn_pandas import DataFrameMapper, gen_features\n",
    "from fastai.tabular.all import *\n",
    "\n",
    "from knowledge_distillation.io import *"
   ]
  },
  {
   "cell_type": "markdown",
   "id": "least-suicide",
   "metadata": {},
   "source": [
    "# Load data"
   ]
  },
  {
   "cell_type": "code",
   "execution_count": null,
   "id": "heard-fluid",
   "metadata": {},
   "outputs": [],
   "source": [
    "df = load_adult()\n",
    "assert df.shape == (32561, 15)"
   ]
  },
  {
   "cell_type": "code",
   "execution_count": null,
   "id": "medium-contents",
   "metadata": {},
   "outputs": [
    {
     "data": {
      "text/html": [
       "<div>\n",
       "<style scoped>\n",
       "    .dataframe tbody tr th:only-of-type {\n",
       "        vertical-align: middle;\n",
       "    }\n",
       "\n",
       "    .dataframe tbody tr th {\n",
       "        vertical-align: top;\n",
       "    }\n",
       "\n",
       "    .dataframe thead th {\n",
       "        text-align: right;\n",
       "    }\n",
       "</style>\n",
       "<table border=\"1\" class=\"dataframe\">\n",
       "  <thead>\n",
       "    <tr style=\"text-align: right;\">\n",
       "      <th></th>\n",
       "      <th>age</th>\n",
       "      <th>workclass</th>\n",
       "      <th>fnlwgt</th>\n",
       "      <th>education</th>\n",
       "      <th>education-num</th>\n",
       "      <th>marital-status</th>\n",
       "      <th>occupation</th>\n",
       "      <th>relationship</th>\n",
       "      <th>race</th>\n",
       "      <th>sex</th>\n",
       "      <th>capital-gain</th>\n",
       "      <th>capital-loss</th>\n",
       "      <th>hours-per-week</th>\n",
       "      <th>native-country</th>\n",
       "      <th>salary</th>\n",
       "    </tr>\n",
       "  </thead>\n",
       "  <tbody>\n",
       "    <tr>\n",
       "      <th>0</th>\n",
       "      <td>39</td>\n",
       "      <td>State-gov</td>\n",
       "      <td>77516</td>\n",
       "      <td>Bachelors</td>\n",
       "      <td>13</td>\n",
       "      <td>Never-married</td>\n",
       "      <td>Adm-clerical</td>\n",
       "      <td>Not-in-family</td>\n",
       "      <td>White</td>\n",
       "      <td>Male</td>\n",
       "      <td>2174</td>\n",
       "      <td>0</td>\n",
       "      <td>40</td>\n",
       "      <td>United-States</td>\n",
       "      <td>&lt;=50K</td>\n",
       "    </tr>\n",
       "    <tr>\n",
       "      <th>1</th>\n",
       "      <td>50</td>\n",
       "      <td>Self-emp-not-inc</td>\n",
       "      <td>83311</td>\n",
       "      <td>Bachelors</td>\n",
       "      <td>13</td>\n",
       "      <td>Married-civ-spouse</td>\n",
       "      <td>Exec-managerial</td>\n",
       "      <td>Husband</td>\n",
       "      <td>White</td>\n",
       "      <td>Male</td>\n",
       "      <td>0</td>\n",
       "      <td>0</td>\n",
       "      <td>13</td>\n",
       "      <td>United-States</td>\n",
       "      <td>&lt;=50K</td>\n",
       "    </tr>\n",
       "    <tr>\n",
       "      <th>2</th>\n",
       "      <td>38</td>\n",
       "      <td>Private</td>\n",
       "      <td>215646</td>\n",
       "      <td>HS-grad</td>\n",
       "      <td>9</td>\n",
       "      <td>Divorced</td>\n",
       "      <td>Handlers-cleaners</td>\n",
       "      <td>Not-in-family</td>\n",
       "      <td>White</td>\n",
       "      <td>Male</td>\n",
       "      <td>0</td>\n",
       "      <td>0</td>\n",
       "      <td>40</td>\n",
       "      <td>United-States</td>\n",
       "      <td>&lt;=50K</td>\n",
       "    </tr>\n",
       "    <tr>\n",
       "      <th>3</th>\n",
       "      <td>53</td>\n",
       "      <td>Private</td>\n",
       "      <td>234721</td>\n",
       "      <td>11th</td>\n",
       "      <td>7</td>\n",
       "      <td>Married-civ-spouse</td>\n",
       "      <td>Handlers-cleaners</td>\n",
       "      <td>Husband</td>\n",
       "      <td>Black</td>\n",
       "      <td>Male</td>\n",
       "      <td>0</td>\n",
       "      <td>0</td>\n",
       "      <td>40</td>\n",
       "      <td>United-States</td>\n",
       "      <td>&lt;=50K</td>\n",
       "    </tr>\n",
       "    <tr>\n",
       "      <th>4</th>\n",
       "      <td>28</td>\n",
       "      <td>Private</td>\n",
       "      <td>338409</td>\n",
       "      <td>Bachelors</td>\n",
       "      <td>13</td>\n",
       "      <td>Married-civ-spouse</td>\n",
       "      <td>Prof-specialty</td>\n",
       "      <td>Wife</td>\n",
       "      <td>Black</td>\n",
       "      <td>Female</td>\n",
       "      <td>0</td>\n",
       "      <td>0</td>\n",
       "      <td>40</td>\n",
       "      <td>Cuba</td>\n",
       "      <td>&lt;=50K</td>\n",
       "    </tr>\n",
       "  </tbody>\n",
       "</table>\n",
       "</div>"
      ],
      "text/plain": [
       "   age          workclass  fnlwgt   education  education-num  \\\n",
       "0   39          State-gov   77516   Bachelors             13   \n",
       "1   50   Self-emp-not-inc   83311   Bachelors             13   \n",
       "2   38            Private  215646     HS-grad              9   \n",
       "3   53            Private  234721        11th              7   \n",
       "4   28            Private  338409   Bachelors             13   \n",
       "\n",
       "        marital-status          occupation    relationship    race      sex  \\\n",
       "0        Never-married        Adm-clerical   Not-in-family   White     Male   \n",
       "1   Married-civ-spouse     Exec-managerial         Husband   White     Male   \n",
       "2             Divorced   Handlers-cleaners   Not-in-family   White     Male   \n",
       "3   Married-civ-spouse   Handlers-cleaners         Husband   Black     Male   \n",
       "4   Married-civ-spouse      Prof-specialty            Wife   Black   Female   \n",
       "\n",
       "   capital-gain  capital-loss  hours-per-week  native-country  salary  \n",
       "0          2174             0              40   United-States   <=50K  \n",
       "1             0             0              13   United-States   <=50K  \n",
       "2             0             0              40   United-States   <=50K  \n",
       "3             0             0              40   United-States   <=50K  \n",
       "4             0             0              40            Cuba   <=50K  "
      ]
     },
     "execution_count": null,
     "metadata": {},
     "output_type": "execute_result"
    }
   ],
   "source": [
    "df.head()"
   ]
  },
  {
   "cell_type": "markdown",
   "id": "centered-eight",
   "metadata": {},
   "source": [
    "# Quick and dirty"
   ]
  },
  {
   "cell_type": "code",
   "execution_count": null,
   "id": "specific-corporation",
   "metadata": {},
   "outputs": [
    {
     "data": {
      "text/plain": [
       " <=50K    24720\n",
       " >50K      7841\n",
       "Name: salary, dtype: int64"
      ]
     },
     "execution_count": null,
     "metadata": {},
     "output_type": "execute_result"
    }
   ],
   "source": [
    "df.salary.value_counts(dropna=False)"
   ]
  },
  {
   "cell_type": "code",
   "execution_count": null,
   "id": "applicable-floating",
   "metadata": {},
   "outputs": [],
   "source": [
    "df_code = df.assign(salary = lambda x: x.salary == ' >50K')"
   ]
  },
  {
   "cell_type": "markdown",
   "id": "paperback-arnold",
   "metadata": {},
   "source": [
    "## capital-gain"
   ]
  },
  {
   "cell_type": "code",
   "execution_count": null,
   "id": "increased-customs",
   "metadata": {},
   "outputs": [
    {
     "data": {
      "image/png": "[encoded data removed]",
      "text/plain": [
       "<Figure size 432x288 with 1 Axes>"
      ]
     },
     "metadata": {
      "needs_background": "light"
     },
     "output_type": "display_data"
    }
   ],
   "source": [
    "df_code[df_code['capital-gain'] != 0]['capital-gain'].hist(bins=100)\n",
    "plt.title('capital-gain');"
   ]
  },
  {
   "cell_type": "code",
   "execution_count": null,
   "id": "psychological-office",
   "metadata": {},
   "outputs": [
    {
     "data": {
      "text/plain": [
       "0         2174\n",
       "1            0\n",
       "2            0\n",
       "3            0\n",
       "4            0\n",
       "         ...  \n",
       "32556        0\n",
       "32557        0\n",
       "32558        0\n",
       "32559        0\n",
       "32560    15024\n",
       "Name: capital-gain, Length: 32561, dtype: int64"
      ]
     },
     "execution_count": null,
     "metadata": {},
     "output_type": "execute_result"
    }
   ],
   "source": [
    "df_code['capital-gain']"
   ]
  },
  {
   "cell_type": "code",
   "execution_count": null,
   "id": "infectious-thermal",
   "metadata": {},
   "outputs": [],
   "source": [
    "cgain_binned = pd.cut(df_code['capital-gain'], bins=[0, 1, 5_000, 10_000, 20_000, float('inf')], include_lowest=True)"
   ]
  },
  {
   "cell_type": "code",
   "execution_count": null,
   "id": "cooked-underwear",
   "metadata": {},
   "outputs": [
    {
     "data": {
      "text/plain": [
       "<AxesSubplot:xlabel='capital-gain'>"
      ]
     },
     "execution_count": null,
     "metadata": {},
     "output_type": "execute_result"
    },
    {
     "data": {
      "image/png": "[encoded data removed]",
      "text/plain": [
       "<Figure size 432x288 with 1 Axes>"
      ]
     },
     "metadata": {
      "needs_background": "light"
     },
     "output_type": "display_data"
    }
   ],
   "source": [
    "df_code.groupby(cgain_binned).salary.mean().plot.bar()\n",
    "# plt.title('salary by capital gain');"
   ]
  },
  {
   "cell_type": "markdown",
   "id": "electric-tattoo",
   "metadata": {},
   "source": [
    "## capital loss"
   ]
  },
  {
   "cell_type": "code",
   "execution_count": null,
   "id": "velvet-tourism",
   "metadata": {},
   "outputs": [
    {
     "data": {
      "image/png": "[encoded data removed]",
      "text/plain": [
       "<Figure size 432x288 with 1 Axes>"
      ]
     },
     "metadata": {
      "needs_background": "light"
     },
     "output_type": "display_data"
    }
   ],
   "source": [
    "df_code[df_code['capital-loss'] != 0]['capital-loss'].hist(bins=100)\n",
    "plt.title('capital-loss');"
   ]
  },
  {
   "cell_type": "code",
   "execution_count": null,
   "id": "unauthorized-telling",
   "metadata": {},
   "outputs": [],
   "source": [
    "closs_binned = pd.cut(df_code['capital-loss'], bins=[0, 1000, 2_000, float('inf')], include_lowest=True)"
   ]
  },
  {
   "cell_type": "code",
   "execution_count": null,
   "id": "every-hygiene",
   "metadata": {},
   "outputs": [
    {
     "data": {
      "image/png": "[encoded data removed]",
      "text/plain": [
       "<Figure size 432x288 with 1 Axes>"
      ]
     },
     "metadata": {
      "needs_background": "light"
     },
     "output_type": "display_data"
    }
   ],
   "source": [
    "df_code.groupby(closs_binned).salary.mean().plot.bar()\n",
    "plt.title('salary by capital loss');"
   ]
  },
  {
   "cell_type": "markdown",
   "id": "tropical-validation",
   "metadata": {},
   "source": [
    "# Preprocessing"
   ]
  },
  {
   "cell_type": "code",
   "execution_count": null,
   "id": "demographic-wallpaper",
   "metadata": {},
   "outputs": [],
   "source": [
    "# export\n",
    "\n",
    "def scale_onehot(df, target):\n",
    "    \"\"\"Perform basic scaling and one-hot encoding\"\"\"\n",
    "    \n",
    "    features = df.drop(target, axis=1)\n",
    "    \n",
    "    categorical_cols = [[f] for f in features.select_dtypes('object').columns]\n",
    "    categorical_pipe = gen_features(\n",
    "        columns=categorical_cols, \n",
    "        classes=[{'class':SimpleImputer, 'strategy':'constant', 'fill_value':'Na'}, \n",
    "                 OneHotEncoder\n",
    "                ])\n",
    "\n",
    "    numerical_cols = [[f] for f in features.select_dtypes('number').columns]\n",
    "    numerical_pipe = gen_features(\n",
    "        columns=numerical_cols, \n",
    "        classes=[SimpleImputer, StandardScaler]\n",
    "    )\n",
    "    \n",
    "    mapper = DataFrameMapper(categorical_pipe + numerical_pipe, df_out=True)\n",
    "    \n",
    "    X = mapper.fit_transform(df)\n",
    "    \n",
    "    y = df[target]\n",
    "    \n",
    "    target_names = sorted(y.unique())\n",
    "    \n",
    "    y = pd.Categorical(y, categories=target_names, ordered=True)\n",
    "    y = y.codes\n",
    "    \n",
    "    return X, y, target_names"
   ]
  },
  {
   "cell_type": "code",
   "execution_count": null,
   "id": "falling-multimedia",
   "metadata": {},
   "outputs": [
    {
     "name": "stderr",
     "output_type": "stream",
     "text": [
      "/home/jupyterlab/ni-workspace/conda/envs/kd/lib/python3.8/site-packages/category_encoders/utils.py:21: FutureWarning: is_categorical is deprecated and will be removed in a future version.  Use is_categorical_dtype instead\n",
      "  elif pd.api.types.is_categorical(cols):\n",
      "/home/jupyterlab/ni-workspace/conda/envs/kd/lib/python3.8/site-packages/category_encoders/utils.py:21: FutureWarning: is_categorical is deprecated and will be removed in a future version.  Use is_categorical_dtype instead\n",
      "  elif pd.api.types.is_categorical(cols):\n",
      "/home/jupyterlab/ni-workspace/conda/envs/kd/lib/python3.8/site-packages/category_encoders/utils.py:21: FutureWarning: is_categorical is deprecated and will be removed in a future version.  Use is_categorical_dtype instead\n",
      "  elif pd.api.types.is_categorical(cols):\n",
      "/home/jupyterlab/ni-workspace/conda/envs/kd/lib/python3.8/site-packages/category_encoders/utils.py:21: FutureWarning: is_categorical is deprecated and will be removed in a future version.  Use is_categorical_dtype instead\n",
      "  elif pd.api.types.is_categorical(cols):\n",
      "/home/jupyterlab/ni-workspace/conda/envs/kd/lib/python3.8/site-packages/category_encoders/utils.py:21: FutureWarning: is_categorical is deprecated and will be removed in a future version.  Use is_categorical_dtype instead\n",
      "  elif pd.api.types.is_categorical(cols):\n",
      "/home/jupyterlab/ni-workspace/conda/envs/kd/lib/python3.8/site-packages/category_encoders/utils.py:21: FutureWarning: is_categorical is deprecated and will be removed in a future version.  Use is_categorical_dtype instead\n",
      "  elif pd.api.types.is_categorical(cols):\n",
      "/home/jupyterlab/ni-workspace/conda/envs/kd/lib/python3.8/site-packages/category_encoders/utils.py:21: FutureWarning: is_categorical is deprecated and will be removed in a future version.  Use is_categorical_dtype instead\n",
      "  elif pd.api.types.is_categorical(cols):\n",
      "/home/jupyterlab/ni-workspace/conda/envs/kd/lib/python3.8/site-packages/category_encoders/utils.py:21: FutureWarning: is_categorical is deprecated and will be removed in a future version.  Use is_categorical_dtype instead\n",
      "  elif pd.api.types.is_categorical(cols):\n"
     ]
    }
   ],
   "source": [
    "X, y, target_names = scale_onehot(df, target='salary')\n",
    "\n",
    "assert all([is_numeric_dtype(X[c]) for c in X.columns]), \"Some column is not numeric\"\n",
    "\n",
    "assert X.shape[0] == df.shape[0], \"Some rows lost in the preprocessing\"\n",
    "\n",
    "assert len(np.unique(y)) == 2\n",
    "\n",
    "assert len(target_names) == len(np.unique(y))"
   ]
  },
  {
   "cell_type": "markdown",
   "id": "abstract-increase",
   "metadata": {},
   "source": [
    "# Preprocess with fastai.tabular"
   ]
  },
  {
   "cell_type": "code",
   "execution_count": null,
   "id": "distinct-economics",
   "metadata": {},
   "outputs": [
    {
     "data": {
      "text/plain": [
       "age                int64\n",
       "workclass         object\n",
       "fnlwgt             int64\n",
       "education         object\n",
       "education-num      int64\n",
       "marital-status    object\n",
       "occupation        object\n",
       "relationship      object\n",
       "race              object\n",
       "sex               object\n",
       "capital-gain       int64\n",
       "capital-loss       int64\n",
       "hours-per-week     int64\n",
       "native-country    object\n",
       "salary            object\n",
       "dtype: object"
      ]
     },
     "execution_count": null,
     "metadata": {},
     "output_type": "execute_result"
    }
   ],
   "source": [
    "df.dtypes"
   ]
  },
  {
   "cell_type": "code",
   "execution_count": null,
   "id": "immune-avenue",
   "metadata": {},
   "outputs": [
    {
     "data": {
      "text/plain": [
       "['education',\n",
       " 'marital-status',\n",
       " 'native-country',\n",
       " 'occupation',\n",
       " 'race',\n",
       " 'relationship',\n",
       " 'sex',\n",
       " 'workclass']"
      ]
     },
     "execution_count": null,
     "metadata": {},
     "output_type": "execute_result"
    }
   ],
   "source": [
    "sorted(df.drop(columns=['salary']).select_dtypes('object').columns)\n"
   ]
  },
  {
   "cell_type": "code",
   "execution_count": null,
   "id": "helpful-grant",
   "metadata": {},
   "outputs": [
    {
     "data": {
      "text/plain": [
       "['age',\n",
       " 'capital-gain',\n",
       " 'capital-loss',\n",
       " 'education-num',\n",
       " 'fnlwgt',\n",
       " 'hours-per-week']"
      ]
     },
     "execution_count": null,
     "metadata": {},
     "output_type": "execute_result"
    }
   ],
   "source": [
    "sorted(df.select_dtypes('int64').columns)\n"
   ]
  },
  {
   "cell_type": "code",
   "execution_count": null,
   "id": "particular-memorabilia",
   "metadata": {},
   "outputs": [],
   "source": [
    "cont_names, cat_names = cont_cat_split(df.drop('salary', axis=1))"
   ]
  },
  {
   "cell_type": "code",
   "execution_count": null,
   "id": "rocky-stupid",
   "metadata": {},
   "outputs": [],
   "source": [
    "assert len(df.columns) == 1 + len(cat_names + cont_names)"
   ]
  },
  {
   "cell_type": "code",
   "execution_count": null,
   "id": "artificial-australia",
   "metadata": {},
   "outputs": [],
   "source": [
    "procs = [Categorify, FillMissing, Normalize]"
   ]
  },
  {
   "cell_type": "code",
   "execution_count": null,
   "id": "configured-indonesia",
   "metadata": {},
   "outputs": [],
   "source": [
    "tp = TabularPandas(df, \n",
    "              procs=procs, \n",
    "              cat_names=cat_names,\n",
    "              cont_names=cont_names,\n",
    "              y_names='salary'\n",
    "             )"
   ]
  },
  {
   "cell_type": "code",
   "execution_count": null,
   "id": "refined-passage",
   "metadata": {},
   "outputs": [
    {
     "data": {
      "text/html": [
       "<div>\n",
       "<style scoped>\n",
       "    .dataframe tbody tr th:only-of-type {\n",
       "        vertical-align: middle;\n",
       "    }\n",
       "\n",
       "    .dataframe tbody tr th {\n",
       "        vertical-align: top;\n",
       "    }\n",
       "\n",
       "    .dataframe thead th {\n",
       "        text-align: right;\n",
       "    }\n",
       "</style>\n",
       "<table border=\"1\" class=\"dataframe\">\n",
       "  <thead>\n",
       "    <tr style=\"text-align: right;\">\n",
       "      <th></th>\n",
       "      <th>age</th>\n",
       "      <th>workclass</th>\n",
       "      <th>fnlwgt</th>\n",
       "      <th>education</th>\n",
       "      <th>education-num</th>\n",
       "      <th>marital-status</th>\n",
       "      <th>occupation</th>\n",
       "      <th>relationship</th>\n",
       "      <th>race</th>\n",
       "      <th>sex</th>\n",
       "      <th>capital-gain</th>\n",
       "      <th>capital-loss</th>\n",
       "      <th>hours-per-week</th>\n",
       "      <th>native-country</th>\n",
       "      <th>salary</th>\n",
       "    </tr>\n",
       "  </thead>\n",
       "  <tbody>\n",
       "    <tr>\n",
       "      <th>0</th>\n",
       "      <td>39</td>\n",
       "      <td>State-gov</td>\n",
       "      <td>77516</td>\n",
       "      <td>Bachelors</td>\n",
       "      <td>13</td>\n",
       "      <td>Never-married</td>\n",
       "      <td>Adm-clerical</td>\n",
       "      <td>Not-in-family</td>\n",
       "      <td>White</td>\n",
       "      <td>Male</td>\n",
       "      <td>2174</td>\n",
       "      <td>0</td>\n",
       "      <td>40</td>\n",
       "      <td>United-States</td>\n",
       "      <td>&lt;=50K</td>\n",
       "    </tr>\n",
       "    <tr>\n",
       "      <th>1</th>\n",
       "      <td>50</td>\n",
       "      <td>Self-emp-not-inc</td>\n",
       "      <td>83311</td>\n",
       "      <td>Bachelors</td>\n",
       "      <td>13</td>\n",
       "      <td>Married-civ-spouse</td>\n",
       "      <td>Exec-managerial</td>\n",
       "      <td>Husband</td>\n",
       "      <td>White</td>\n",
       "      <td>Male</td>\n",
       "      <td>0</td>\n",
       "      <td>0</td>\n",
       "      <td>13</td>\n",
       "      <td>United-States</td>\n",
       "      <td>&lt;=50K</td>\n",
       "    </tr>\n",
       "    <tr>\n",
       "      <th>2</th>\n",
       "      <td>38</td>\n",
       "      <td>Private</td>\n",
       "      <td>215646</td>\n",
       "      <td>HS-grad</td>\n",
       "      <td>9</td>\n",
       "      <td>Divorced</td>\n",
       "      <td>Handlers-cleaners</td>\n",
       "      <td>Not-in-family</td>\n",
       "      <td>White</td>\n",
       "      <td>Male</td>\n",
       "      <td>0</td>\n",
       "      <td>0</td>\n",
       "      <td>40</td>\n",
       "      <td>United-States</td>\n",
       "      <td>&lt;=50K</td>\n",
       "    </tr>\n",
       "    <tr>\n",
       "      <th>3</th>\n",
       "      <td>53</td>\n",
       "      <td>Private</td>\n",
       "      <td>234721</td>\n",
       "      <td>11th</td>\n",
       "      <td>7</td>\n",
       "      <td>Married-civ-spouse</td>\n",
       "      <td>Handlers-cleaners</td>\n",
       "      <td>Husband</td>\n",
       "      <td>Black</td>\n",
       "      <td>Male</td>\n",
       "      <td>0</td>\n",
       "      <td>0</td>\n",
       "      <td>40</td>\n",
       "      <td>United-States</td>\n",
       "      <td>&lt;=50K</td>\n",
       "    </tr>\n",
       "    <tr>\n",
       "      <th>4</th>\n",
       "      <td>28</td>\n",
       "      <td>Private</td>\n",
       "      <td>338409</td>\n",
       "      <td>Bachelors</td>\n",
       "      <td>13</td>\n",
       "      <td>Married-civ-spouse</td>\n",
       "      <td>Prof-specialty</td>\n",
       "      <td>Wife</td>\n",
       "      <td>Black</td>\n",
       "      <td>Female</td>\n",
       "      <td>0</td>\n",
       "      <td>0</td>\n",
       "      <td>40</td>\n",
       "      <td>Cuba</td>\n",
       "      <td>&lt;=50K</td>\n",
       "    </tr>\n",
       "  </tbody>\n",
       "</table>\n",
       "</div>"
      ],
      "text/plain": [
       "   age          workclass  fnlwgt   education  education-num  \\\n",
       "0   39          State-gov   77516   Bachelors             13   \n",
       "1   50   Self-emp-not-inc   83311   Bachelors             13   \n",
       "2   38            Private  215646     HS-grad              9   \n",
       "3   53            Private  234721        11th              7   \n",
       "4   28            Private  338409   Bachelors             13   \n",
       "\n",
       "        marital-status          occupation    relationship    race      sex  \\\n",
       "0        Never-married        Adm-clerical   Not-in-family   White     Male   \n",
       "1   Married-civ-spouse     Exec-managerial         Husband   White     Male   \n",
       "2             Divorced   Handlers-cleaners   Not-in-family   White     Male   \n",
       "3   Married-civ-spouse   Handlers-cleaners         Husband   Black     Male   \n",
       "4   Married-civ-spouse      Prof-specialty            Wife   Black   Female   \n",
       "\n",
       "   capital-gain  capital-loss  hours-per-week  native-country  salary  \n",
       "0          2174             0              40   United-States   <=50K  \n",
       "1             0             0              13   United-States   <=50K  \n",
       "2             0             0              40   United-States   <=50K  \n",
       "3             0             0              40   United-States   <=50K  \n",
       "4             0             0              40            Cuba   <=50K  "
      ]
     },
     "execution_count": null,
     "metadata": {},
     "output_type": "execute_result"
    }
   ],
   "source": [
    "df.head()"
   ]
  },
  {
   "cell_type": "code",
   "execution_count": null,
   "id": "acquired-insert",
   "metadata": {},
   "outputs": [
    {
     "data": {
      "text/html": [
       "<div>\n",
       "<style scoped>\n",
       "    .dataframe tbody tr th:only-of-type {\n",
       "        vertical-align: middle;\n",
       "    }\n",
       "\n",
       "    .dataframe tbody tr th {\n",
       "        vertical-align: top;\n",
       "    }\n",
       "\n",
       "    .dataframe thead th {\n",
       "        text-align: right;\n",
       "    }\n",
       "</style>\n",
       "<table border=\"1\" class=\"dataframe\">\n",
       "  <thead>\n",
       "    <tr style=\"text-align: right;\">\n",
       "      <th></th>\n",
       "      <th>salary</th>\n",
       "    </tr>\n",
       "  </thead>\n",
       "  <tbody>\n",
       "    <tr>\n",
       "      <th>0</th>\n",
       "      <td>0</td>\n",
       "    </tr>\n",
       "    <tr>\n",
       "      <th>1</th>\n",
       "      <td>0</td>\n",
       "    </tr>\n",
       "    <tr>\n",
       "      <th>2</th>\n",
       "      <td>0</td>\n",
       "    </tr>\n",
       "    <tr>\n",
       "      <th>3</th>\n",
       "      <td>0</td>\n",
       "    </tr>\n",
       "    <tr>\n",
       "      <th>4</th>\n",
       "      <td>0</td>\n",
       "    </tr>\n",
       "  </tbody>\n",
       "</table>\n",
       "</div>"
      ],
      "text/plain": [
       "   salary\n",
       "0       0\n",
       "1       0\n",
       "2       0\n",
       "3       0\n",
       "4       0"
      ]
     },
     "execution_count": null,
     "metadata": {},
     "output_type": "execute_result"
    }
   ],
   "source": [
    "tp.ys[:5]"
   ]
  },
  {
   "cell_type": "code",
   "execution_count": null,
   "id": "important-horror",
   "metadata": {},
   "outputs": [
    {
     "data": {
      "text/html": [
       "<div>\n",
       "<style scoped>\n",
       "    .dataframe tbody tr th:only-of-type {\n",
       "        vertical-align: middle;\n",
       "    }\n",
       "\n",
       "    .dataframe tbody tr th {\n",
       "        vertical-align: top;\n",
       "    }\n",
       "\n",
       "    .dataframe thead th {\n",
       "        text-align: right;\n",
       "    }\n",
       "</style>\n",
       "<table border=\"1\" class=\"dataframe\">\n",
       "  <thead>\n",
       "    <tr style=\"text-align: right;\">\n",
       "      <th></th>\n",
       "      <th>salary</th>\n",
       "    </tr>\n",
       "  </thead>\n",
       "  <tbody>\n",
       "    <tr>\n",
       "      <th>0</th>\n",
       "      <td>&lt;=50K</td>\n",
       "    </tr>\n",
       "    <tr>\n",
       "      <th>1</th>\n",
       "      <td>&lt;=50K</td>\n",
       "    </tr>\n",
       "    <tr>\n",
       "      <th>2</th>\n",
       "      <td>&lt;=50K</td>\n",
       "    </tr>\n",
       "    <tr>\n",
       "      <th>3</th>\n",
       "      <td>&lt;=50K</td>\n",
       "    </tr>\n",
       "    <tr>\n",
       "      <th>4</th>\n",
       "      <td>&lt;=50K</td>\n",
       "    </tr>\n",
       "  </tbody>\n",
       "</table>\n",
       "</div>"
      ],
      "text/plain": [
       "   salary\n",
       "0   <=50K\n",
       "1   <=50K\n",
       "2   <=50K\n",
       "3   <=50K\n",
       "4   <=50K"
      ]
     },
     "execution_count": null,
     "metadata": {},
     "output_type": "execute_result"
    }
   ],
   "source": [
    "tp.decode()\n",
    "tp.ys[:5]"
   ]
  },
  {
   "cell_type": "code",
   "execution_count": null,
   "id": "victorian-place",
   "metadata": {},
   "outputs": [],
   "source": [
    "# export\n",
    "\n",
    "def scale_fastai(df, target):\n",
    "    \"\"\"Perform scaling, fill missing and category codification, null_cols\"\"\"\n",
    "    \n",
    "    procs = [Categorify, FillMissing, Normalize]\n",
    "    \n",
    "    cont_names, cat_names = cont_cat_split(df.drop(target, axis=1))\n",
    "    \n",
    "    tp = TabularPandas(df, \n",
    "              procs=procs, \n",
    "              cat_names=cat_names,\n",
    "              cont_names=cont_names,\n",
    "              y_names=target\n",
    "             )\n",
    "    \n",
    "    X_train, y_train = tp.train.xs, tp.train.ys.values.ravel()\n",
    "\n",
    "    # Maybe this is wrong\n",
    "    target_names = sorted(df[target].unique())\n",
    "    \n",
    "    return X_train, y_train, target_names"
   ]
  },
  {
   "cell_type": "code",
   "execution_count": null,
   "id": "durable-governor",
   "metadata": {},
   "outputs": [],
   "source": [
    "X, y, target_names = scale_fastai(df, target='salary')\n",
    "\n",
    "assert all([is_numeric_dtype(X[c]) for c in X.columns]), \"Some column is not numeric\"\n",
    "\n",
    "assert X.shape[0] == df.shape[0], \"Some rows lost in the preprocessing\"\n",
    "\n",
    "assert len(np.unique(y)) == 2\n",
    "\n",
    "assert len(target_names) == len(np.unique(y))\n",
    "\n",
    "assert_array_equal((df.salary == target_names[1]).astype(int), y, 'name mapping is incorrect')"
   ]
  },
  {
   "cell_type": "markdown",
   "id": "anonymous-comedy",
   "metadata": {},
   "source": [
    "# Reproducible splits"
   ]
  },
  {
   "cell_type": "code",
   "execution_count": null,
   "id": "popular-engineer",
   "metadata": {},
   "outputs": [],
   "source": [
    "# export\n",
    "\n",
    "def split_with_seed(X, y, test_size=.2):\n",
    "    X_train, X_test, y_train, y_test = train_test_split(\n",
    "        X, \n",
    "        y, \n",
    "        test_size=test_size, \n",
    "        random_state=42)\n",
    "\n",
    "    return X_train, X_test, y_train, y_test\n",
    "    "
   ]
  },
  {
   "cell_type": "code",
   "execution_count": null,
   "id": "formed-showcase",
   "metadata": {},
   "outputs": [],
   "source": [
    "X_train, X_test, y_train, y_test = split_with_seed(X, y)\n",
    "\n",
    "assert all([is_numeric_dtype(X_train[c]) for c in X_train.columns]), \"Some column is not numeric\"\n",
    "\n",
    "\n",
    "assert X_train.shape[0] + X_test.shape[0] == df.shape[0], \"Some rows haave been lost in the preprocessing\"\n",
    "\n",
    "assert len(np.unique(y_train)) == 2\n",
    "assert len(np.unique(y_test)) == 2"
   ]
  },
  {
   "cell_type": "markdown",
   "id": "computational-architecture",
   "metadata": {},
   "source": [
    "# Dummy training (baseline)"
   ]
  },
  {
   "cell_type": "code",
   "execution_count": null,
   "id": "celtic-maldives",
   "metadata": {},
   "outputs": [],
   "source": [
    "clf = DummyClassifier(strategy='most_frequent')"
   ]
  },
  {
   "cell_type": "code",
   "execution_count": null,
   "id": "western-equilibrium",
   "metadata": {},
   "outputs": [
    {
     "data": {
      "text/plain": [
       "DummyClassifier(strategy='most_frequent')"
      ]
     },
     "execution_count": null,
     "metadata": {},
     "output_type": "execute_result"
    }
   ],
   "source": [
    "clf.fit(X_train, y_train)"
   ]
  },
  {
   "cell_type": "markdown",
   "id": "intermediate-gazette",
   "metadata": {},
   "source": [
    "# Evaluate"
   ]
  },
  {
   "cell_type": "code",
   "execution_count": null,
   "id": "moving-memory",
   "metadata": {},
   "outputs": [],
   "source": [
    "# export\n",
    "\n",
    "def evaluate_model(X_train, X_test, y_train, y_test, model, model_name, save_to_disk, print_report=True, target_names=None):\n",
    "    y_train_pred = model.predict(X_train).astype(int)\n",
    "    y_test_pred = model.predict(X_test).astype(int)\n",
    "    \n",
    "#     # if the y input is 2D (ie. one-hot encoded input), convert it to 1D\n",
    "#     if y_train.ndim > 1:\n",
    "#         y_train = np.nonzero(y_train)[1]\n",
    "#         y_test = np.nonzero(y_test)[1]\n",
    "        \n",
    "#     elif y_train_pred.ndim > 1:\n",
    "#         # if the y input is 2D (ie. one-hot encoded target), convert it to 1D\n",
    "#         y_train_pred = np.nonzero(y_train_pred)[1]\n",
    "#         y_test_pred = np.nonzero(y_test_pred)[1]\n",
    "            \n",
    "    preds = [(y_train, y_train_pred), (y_test, y_test_pred)]\n",
    "\n",
    "    df = pd.DataFrame(\n",
    "        dict(\n",
    "            model_name = [model_name, model_name],\n",
    "            data = ['train', 'test'],\n",
    "            accuracy = [accuracy_score(y_true, y_pred) for y_true, y_pred in preds],\n",
    "            precision = [precision_score(y_true, y_pred) for y_true, y_pred in preds],\n",
    "            recall = [recall_score(y_true, y_pred) for y_true, y_pred in preds],\n",
    "            f1 = [f1_score(y_true, y_pred) for y_true, y_pred in preds],\n",
    "            auc = [roc_auc_score(y_true, y_pred) for y_true, y_pred in preds],\n",
    "        )\n",
    "    )\n",
    "    \n",
    "    df.to_csv(ASSETS_PATH / f\"{model_name}_evaluation.csv\", index=False)\n",
    "    if print_report:\n",
    "        print(\"=== Train ===\")\n",
    "        print(classification_report(*preds[0], labels=[0, 1], target_names=target_names))\n",
    "        print(\"\\n=== Test ===\")\n",
    "        print(classification_report(*preds[1], labels=[0, 1], target_names=target_names))\n",
    "        print()\n",
    "    \n",
    "    return df"
   ]
  },
  {
   "cell_type": "code",
   "execution_count": null,
   "id": "surrounded-adventure",
   "metadata": {},
   "outputs": [
    {
     "name": "stdout",
     "output_type": "stream",
     "text": [
      "=== Train ===\n",
      "              precision    recall  f1-score   support\n",
      "\n",
      "       <=50K       0.76      1.00      0.86     19778\n",
      "        >50K       0.00      0.00      0.00      6270\n",
      "\n",
      "    accuracy                           0.76     26048\n",
      "   macro avg       0.38      0.50      0.43     26048\n",
      "weighted avg       0.58      0.76      0.66     26048\n",
      "\n",
      "\n",
      "=== Test ===\n",
      "              precision    recall  f1-score   support\n",
      "\n",
      "       <=50K       0.76      1.00      0.86      4942\n",
      "        >50K       0.00      0.00      0.00      1571\n",
      "\n",
      "    accuracy                           0.76      6513\n",
      "   macro avg       0.38      0.50      0.43      6513\n",
      "weighted avg       0.58      0.76      0.65      6513\n",
      "\n",
      "\n"
     ]
    },
    {
     "name": "stderr",
     "output_type": "stream",
     "text": [
      "/home/jupyterlab/ni-workspace/conda/envs/kd/lib/python3.8/site-packages/sklearn/metrics/_classification.py:1245: UndefinedMetricWarning: Precision is ill-defined and being set to 0.0 due to no predicted samples. Use `zero_division` parameter to control this behavior.\n",
      "  _warn_prf(average, modifier, msg_start, len(result))\n",
      "/home/jupyterlab/ni-workspace/conda/envs/kd/lib/python3.8/site-packages/sklearn/metrics/_classification.py:1245: UndefinedMetricWarning: Precision is ill-defined and being set to 0.0 due to no predicted samples. Use `zero_division` parameter to control this behavior.\n",
      "  _warn_prf(average, modifier, msg_start, len(result))\n",
      "/home/jupyterlab/ni-workspace/conda/envs/kd/lib/python3.8/site-packages/sklearn/metrics/_classification.py:1245: UndefinedMetricWarning: Precision and F-score are ill-defined and being set to 0.0 in labels with no predicted samples. Use `zero_division` parameter to control this behavior.\n",
      "  _warn_prf(average, modifier, msg_start, len(result))\n",
      "/home/jupyterlab/ni-workspace/conda/envs/kd/lib/python3.8/site-packages/sklearn/metrics/_classification.py:1245: UndefinedMetricWarning: Precision and F-score are ill-defined and being set to 0.0 in labels with no predicted samples. Use `zero_division` parameter to control this behavior.\n",
      "  _warn_prf(average, modifier, msg_start, len(result))\n",
      "/home/jupyterlab/ni-workspace/conda/envs/kd/lib/python3.8/site-packages/sklearn/metrics/_classification.py:1245: UndefinedMetricWarning: Precision and F-score are ill-defined and being set to 0.0 in labels with no predicted samples. Use `zero_division` parameter to control this behavior.\n",
      "  _warn_prf(average, modifier, msg_start, len(result))\n",
      "/home/jupyterlab/ni-workspace/conda/envs/kd/lib/python3.8/site-packages/sklearn/metrics/_classification.py:1245: UndefinedMetricWarning: Precision and F-score are ill-defined and being set to 0.0 in labels with no predicted samples. Use `zero_division` parameter to control this behavior.\n",
      "  _warn_prf(average, modifier, msg_start, len(result))\n",
      "/home/jupyterlab/ni-workspace/conda/envs/kd/lib/python3.8/site-packages/sklearn/metrics/_classification.py:1245: UndefinedMetricWarning: Precision and F-score are ill-defined and being set to 0.0 in labels with no predicted samples. Use `zero_division` parameter to control this behavior.\n",
      "  _warn_prf(average, modifier, msg_start, len(result))\n",
      "/home/jupyterlab/ni-workspace/conda/envs/kd/lib/python3.8/site-packages/sklearn/metrics/_classification.py:1245: UndefinedMetricWarning: Precision and F-score are ill-defined and being set to 0.0 in labels with no predicted samples. Use `zero_division` parameter to control this behavior.\n",
      "  _warn_prf(average, modifier, msg_start, len(result))\n"
     ]
    },
    {
     "data": {
      "text/html": [
       "<div>\n",
       "<style scoped>\n",
       "    .dataframe tbody tr th:only-of-type {\n",
       "        vertical-align: middle;\n",
       "    }\n",
       "\n",
       "    .dataframe tbody tr th {\n",
       "        vertical-align: top;\n",
       "    }\n",
       "\n",
       "    .dataframe thead th {\n",
       "        text-align: right;\n",
       "    }\n",
       "</style>\n",
       "<table border=\"1\" class=\"dataframe\">\n",
       "  <thead>\n",
       "    <tr style=\"text-align: right;\">\n",
       "      <th></th>\n",
       "      <th>model_name</th>\n",
       "      <th>data</th>\n",
       "      <th>accuracy</th>\n",
       "      <th>precision</th>\n",
       "      <th>recall</th>\n",
       "      <th>f1</th>\n",
       "      <th>auc</th>\n",
       "    </tr>\n",
       "  </thead>\n",
       "  <tbody>\n",
       "    <tr>\n",
       "      <th>0</th>\n",
       "      <td>dummy</td>\n",
       "      <td>train</td>\n",
       "      <td>0.759291</td>\n",
       "      <td>0.0</td>\n",
       "      <td>0.0</td>\n",
       "      <td>0.0</td>\n",
       "      <td>0.5</td>\n",
       "    </tr>\n",
       "    <tr>\n",
       "      <th>1</th>\n",
       "      <td>dummy</td>\n",
       "      <td>test</td>\n",
       "      <td>0.758790</td>\n",
       "      <td>0.0</td>\n",
       "      <td>0.0</td>\n",
       "      <td>0.0</td>\n",
       "      <td>0.5</td>\n",
       "    </tr>\n",
       "  </tbody>\n",
       "</table>\n",
       "</div>"
      ],
      "text/plain": [
       "  model_name   data  accuracy  precision  recall   f1  auc\n",
       "0      dummy  train  0.759291        0.0     0.0  0.0  0.5\n",
       "1      dummy   test  0.758790        0.0     0.0  0.0  0.5"
      ]
     },
     "execution_count": null,
     "metadata": {},
     "output_type": "execute_result"
    }
   ],
   "source": [
    "evaluate_model(X_train, X_test, y_train, y_test, clf, 'dummy', save_to_disk=True, target_names=target_names)"
   ]
  },
  {
   "cell_type": "markdown",
   "id": "blank-republican",
   "metadata": {},
   "source": [
    "# Ensemble identical models with different random seed and average"
   ]
  },
  {
   "cell_type": "code",
   "execution_count": null,
   "id": "waiting-excess",
   "metadata": {},
   "outputs": [
    {
     "data": {
      "text/plain": [
       "StackingClassifier(estimators=[('dummy_1', DummyClassifier(random_state=1)),\n",
       "                               ('dummy_2', DummyClassifier(random_state=2)),\n",
       "                               ('dummy_3', DummyClassifier(random_state=3)),\n",
       "                               ('dummy_4', DummyClassifier(random_state=4)),\n",
       "                               ('dummy_5', DummyClassifier(random_state=5)),\n",
       "                               ('dummy_6', DummyClassifier(random_state=6)),\n",
       "                               ('dummy_7', DummyClassifier(random_state=7)),\n",
       "                               ('dummy_8', DummyClassifier(random_state=8)),\n",
       "                               ('dummy_9', DummyClassifier(random_state=9)),\n",
       "                               ('dummy_10', DummyClassifier(random_state=10))],\n",
       "                   final_estimator=UnbiasedAverage(), n_jobs=-1)"
      ]
     },
     "execution_count": null,
     "metadata": {},
     "output_type": "execute_result"
    }
   ],
   "source": [
    "# LR with random state 1..10\n",
    "estimators = [(f'dummy_{x}', DummyClassifier(random_state=x)) for x in range(1, 11)]\n",
    "\n",
    "stack = StackingClassifier(\n",
    "    estimators, \n",
    "    final_estimator=UnbiasedAverage(), \n",
    "    n_jobs=-1)\n",
    "\n",
    "stack.fit(X_train, y_train)"
   ]
  },
  {
   "cell_type": "code",
   "execution_count": null,
   "id": "white-beast",
   "metadata": {},
   "outputs": [
    {
     "name": "stdout",
     "output_type": "stream",
     "text": [
      "=== Train ===\n",
      "              precision    recall  f1-score   support\n",
      "\n",
      "       <=50K       0.76      1.00      0.86     19778\n",
      "        >50K       0.00      0.00      0.00      6270\n",
      "\n",
      "    accuracy                           0.76     26048\n",
      "   macro avg       0.38      0.50      0.43     26048\n",
      "weighted avg       0.58      0.76      0.66     26048\n",
      "\n",
      "\n",
      "=== Test ===\n",
      "              precision    recall  f1-score   support\n",
      "\n",
      "       <=50K       0.76      1.00      0.86      4942\n",
      "        >50K       0.00      0.00      0.00      1571\n",
      "\n",
      "    accuracy                           0.76      6513\n",
      "   macro avg       0.38      0.50      0.43      6513\n",
      "weighted avg       0.58      0.76      0.65      6513\n",
      "\n",
      "\n"
     ]
    },
    {
     "name": "stderr",
     "output_type": "stream",
     "text": [
      "/home/jupyterlab/ni-workspace/conda/envs/kd/lib/python3.8/site-packages/sklearn/metrics/_classification.py:1245: UndefinedMetricWarning: Precision is ill-defined and being set to 0.0 due to no predicted samples. Use `zero_division` parameter to control this behavior.\n",
      "  _warn_prf(average, modifier, msg_start, len(result))\n",
      "/home/jupyterlab/ni-workspace/conda/envs/kd/lib/python3.8/site-packages/sklearn/metrics/_classification.py:1245: UndefinedMetricWarning: Precision is ill-defined and being set to 0.0 due to no predicted samples. Use `zero_division` parameter to control this behavior.\n",
      "  _warn_prf(average, modifier, msg_start, len(result))\n",
      "/home/jupyterlab/ni-workspace/conda/envs/kd/lib/python3.8/site-packages/sklearn/metrics/_classification.py:1245: UndefinedMetricWarning: Precision and F-score are ill-defined and being set to 0.0 in labels with no predicted samples. Use `zero_division` parameter to control this behavior.\n",
      "  _warn_prf(average, modifier, msg_start, len(result))\n",
      "/home/jupyterlab/ni-workspace/conda/envs/kd/lib/python3.8/site-packages/sklearn/metrics/_classification.py:1245: UndefinedMetricWarning: Precision and F-score are ill-defined and being set to 0.0 in labels with no predicted samples. Use `zero_division` parameter to control this behavior.\n",
      "  _warn_prf(average, modifier, msg_start, len(result))\n",
      "/home/jupyterlab/ni-workspace/conda/envs/kd/lib/python3.8/site-packages/sklearn/metrics/_classification.py:1245: UndefinedMetricWarning: Precision and F-score are ill-defined and being set to 0.0 in labels with no predicted samples. Use `zero_division` parameter to control this behavior.\n",
      "  _warn_prf(average, modifier, msg_start, len(result))\n",
      "/home/jupyterlab/ni-workspace/conda/envs/kd/lib/python3.8/site-packages/sklearn/metrics/_classification.py:1245: UndefinedMetricWarning: Precision and F-score are ill-defined and being set to 0.0 in labels with no predicted samples. Use `zero_division` parameter to control this behavior.\n",
      "  _warn_prf(average, modifier, msg_start, len(result))\n",
      "/home/jupyterlab/ni-workspace/conda/envs/kd/lib/python3.8/site-packages/sklearn/metrics/_classification.py:1245: UndefinedMetricWarning: Precision and F-score are ill-defined and being set to 0.0 in labels with no predicted samples. Use `zero_division` parameter to control this behavior.\n",
      "  _warn_prf(average, modifier, msg_start, len(result))\n",
      "/home/jupyterlab/ni-workspace/conda/envs/kd/lib/python3.8/site-packages/sklearn/metrics/_classification.py:1245: UndefinedMetricWarning: Precision and F-score are ill-defined and being set to 0.0 in labels with no predicted samples. Use `zero_division` parameter to control this behavior.\n",
      "  _warn_prf(average, modifier, msg_start, len(result))\n"
     ]
    },
    {
     "data": {
      "text/html": [
       "<div>\n",
       "<style scoped>\n",
       "    .dataframe tbody tr th:only-of-type {\n",
       "        vertical-align: middle;\n",
       "    }\n",
       "\n",
       "    .dataframe tbody tr th {\n",
       "        vertical-align: top;\n",
       "    }\n",
       "\n",
       "    .dataframe thead th {\n",
       "        text-align: right;\n",
       "    }\n",
       "</style>\n",
       "<table border=\"1\" class=\"dataframe\">\n",
       "  <thead>\n",
       "    <tr style=\"text-align: right;\">\n",
       "      <th></th>\n",
       "      <th>model_name</th>\n",
       "      <th>data</th>\n",
       "      <th>accuracy</th>\n",
       "      <th>precision</th>\n",
       "      <th>recall</th>\n",
       "      <th>f1</th>\n",
       "      <th>auc</th>\n",
       "    </tr>\n",
       "  </thead>\n",
       "  <tbody>\n",
       "    <tr>\n",
       "      <th>0</th>\n",
       "      <td>dummy_ensemble</td>\n",
       "      <td>train</td>\n",
       "      <td>0.759291</td>\n",
       "      <td>0.0</td>\n",
       "      <td>0.0</td>\n",
       "      <td>0.0</td>\n",
       "      <td>0.5</td>\n",
       "    </tr>\n",
       "    <tr>\n",
       "      <th>1</th>\n",
       "      <td>dummy_ensemble</td>\n",
       "      <td>test</td>\n",
       "      <td>0.758790</td>\n",
       "      <td>0.0</td>\n",
       "      <td>0.0</td>\n",
       "      <td>0.0</td>\n",
       "      <td>0.5</td>\n",
       "    </tr>\n",
       "  </tbody>\n",
       "</table>\n",
       "</div>"
      ],
      "text/plain": [
       "       model_name   data  accuracy  precision  recall   f1  auc\n",
       "0  dummy_ensemble  train  0.759291        0.0     0.0  0.0  0.5\n",
       "1  dummy_ensemble   test  0.758790        0.0     0.0  0.0  0.5"
      ]
     },
     "execution_count": null,
     "metadata": {},
     "output_type": "execute_result"
    }
   ],
   "source": [
    "evaluate_model(X_train, X_test, y_train, y_test, stack, 'dummy_ensemble', save_to_disk=True, target_names=target_names)"
   ]
  },
  {
   "cell_type": "markdown",
   "id": "hazardous-history",
   "metadata": {},
   "source": [
    "# Export module"
   ]
  },
  {
   "cell_type": "code",
   "execution_count": null,
   "id": "aging-hanging",
   "metadata": {},
   "outputs": [
    {
     "name": "stdout",
     "output_type": "stream",
     "text": [
      "Converted 00_io.ipynb.\n",
      "Converted 01_processing.ipynb.\n",
      "Converted 02_ensemble.ipynb.\n",
      "Converted 03a_logistic.ipynb.\n",
      "Converted 03b_NN.ipynb.\n",
      "Converted 03c_bag_of_trees.ipynb.\n",
      "Converted 04_train_NN.ipynb.\n",
      "Converted 05_train_multiple_NNs.ipynb.\n",
      "Converted 05a_test_seed_is_working.ipynb.\n",
      "Converted 06_NN_ensemble.ipynb.\n",
      "Converted 07_distill_multiple_NNs.ipynb.\n",
      "Converted 07a_train_and_distill_multiple_NNs.ipynb.\n",
      "Converted 08_compare.ipynb.\n",
      "Converted index.ipynb.\n"
     ]
    }
   ],
   "source": [
    "from nbdev.export import notebook2script\n",
    "notebook2script()"
   ]
  },
  {
   "cell_type": "code",
   "execution_count": null,
   "id": "crazy-desperate",
   "metadata": {},
   "outputs": [],
   "source": []
  },
  {
   "cell_type": "code",
   "execution_count": null,
   "id": "simple-roommate",
   "metadata": {},
   "outputs": [],
   "source": []
  }
 ],
 "metadata": {
  "kernelspec": {
   "display_name": "Python [conda-kd]",
   "language": "python",
   "name": "conda-env-conda-kd-py"
  }
 },
 "nbformat": 4,
 "nbformat_minor": 5
}
