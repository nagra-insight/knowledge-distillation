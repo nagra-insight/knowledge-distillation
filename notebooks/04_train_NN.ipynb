{
 "cells": [
  {
   "cell_type": "markdown",
   "id": "administrative-lender",
   "metadata": {},
   "source": [
    "# Parameters"
   ]
  },
  {
   "cell_type": "code",
   "execution_count": null,
   "id": "personalized-hollow",
   "metadata": {
    "tags": [
     "parameters"
    ]
   },
   "outputs": [],
   "source": [
    "random_seed = 1\n",
    "save_to_disk = False\n",
    "model_name='test_nn'"
   ]
  },
  {
   "cell_type": "markdown",
   "id": "resident-benefit",
   "metadata": {},
   "source": [
    "# Set seed"
   ]
  },
  {
   "cell_type": "code",
   "execution_count": null,
   "id": "acquired-contribution",
   "metadata": {},
   "outputs": [],
   "source": [
    "from numpy.random import seed\n",
    "seed(random_seed)\n",
    "from tensorflow.random import set_seed\n",
    "set_seed(random_seed)"
   ]
  },
  {
   "cell_type": "code",
   "execution_count": null,
   "id": "outstanding-partition",
   "metadata": {},
   "outputs": [],
   "source": [
    "import pandas as pd\n",
    "from sklearn.metrics import classification_report\n",
    "from sklearn.model_selection import train_test_split\n",
    "from sklearn.ensemble import StackingClassifier"
   ]
  },
  {
   "cell_type": "code",
   "execution_count": null,
   "id": "revised-evolution",
   "metadata": {},
   "outputs": [
    {
     "name": "stderr",
     "output_type": "stream",
     "text": [
      "/home/jupyterlab/ni-workspace/conda/envs/kd/lib/python3.8/site-packages/torch/cuda/__init__.py:52: UserWarning: CUDA initialization: Found no NVIDIA driver on your system. Please check that you have an NVIDIA GPU and installed a driver from http://www.nvidia.com/Download/index.aspx (Triggered internally at  /opt/conda/conda-bld/pytorch_1607370172916/work/c10/cuda/CUDAFunctions.cpp:100.)\n",
      "  return torch._C._cuda_getDeviceCount() > 0\n"
     ]
    }
   ],
   "source": [
    "from knowledge_distillation.io import load_adult, ASSETS_PATH\n",
    "from knowledge_distillation.ensemble import UnbiasedAverage\n",
    "from knowledge_distillation.processing import *\n",
    "from knowledge_distillation.nn import *"
   ]
  },
  {
   "cell_type": "code",
   "execution_count": null,
   "id": "velvet-effort",
   "metadata": {},
   "outputs": [],
   "source": [
    "import tensorflow as tf\n",
    "from tensorflow import keras\n",
    "from tensorflow.keras import Input\n",
    "from tensorflow.keras import layers\n",
    "from tensorflow.keras.layers import Dense\n",
    "from tensorflow.keras.wrappers.scikit_learn import KerasClassifier"
   ]
  },
  {
   "cell_type": "markdown",
   "id": "underlying-single",
   "metadata": {},
   "source": [
    "# Load data"
   ]
  },
  {
   "cell_type": "code",
   "execution_count": null,
   "id": "outstanding-priest",
   "metadata": {},
   "outputs": [],
   "source": [
    "df = load_adult()"
   ]
  },
  {
   "cell_type": "markdown",
   "id": "upper-hybrid",
   "metadata": {},
   "source": [
    "# Preprocessing"
   ]
  },
  {
   "cell_type": "code",
   "execution_count": null,
   "id": "adult-buffalo",
   "metadata": {},
   "outputs": [],
   "source": [
    "X, y, target_names = scale_fastai(df, target='salary')\n",
    "\n",
    "X_train, X_test, y_train, y_test = split_with_seed(X, y)"
   ]
  },
  {
   "cell_type": "markdown",
   "id": "satellite-heart",
   "metadata": {},
   "source": [
    "# Train a simple fully connected NN"
   ]
  },
  {
   "cell_type": "code",
   "execution_count": null,
   "id": "heated-faith",
   "metadata": {},
   "outputs": [],
   "source": [
    "model = KerasClassifier(\n",
    "    build_fn=create_nn,\n",
    "    **train_params,\n",
    "    verbose=1\n",
    ")"
   ]
  },
  {
   "cell_type": "code",
   "execution_count": null,
   "id": "running-private",
   "metadata": {},
   "outputs": [
    {
     "name": "stdout",
     "output_type": "stream",
     "text": [
      "Epoch 1/15\n",
      "18/18 [==============================] - 4s 109ms/step - loss: 0.6757 - accuracy: 0.6367 - val_loss: 0.5173 - val_accuracy: 0.7607\n",
      "Epoch 2/15\n",
      "18/18 [==============================] - 1s 33ms/step - loss: 0.4979 - accuracy: 0.7906 - val_loss: 0.4751 - val_accuracy: 0.7821\n",
      "Epoch 3/15\n",
      "18/18 [==============================] - 1s 53ms/step - loss: 0.4425 - accuracy: 0.8209 - val_loss: 0.4659 - val_accuracy: 0.7845\n",
      "Epoch 4/15\n",
      "18/18 [==============================] - 1s 51ms/step - loss: 0.4012 - accuracy: 0.8361 - val_loss: 0.4432 - val_accuracy: 0.7907\n",
      "Epoch 5/15\n",
      "18/18 [==============================] - 1s 54ms/step - loss: 0.3757 - accuracy: 0.8394 - val_loss: 0.4554 - val_accuracy: 0.7872\n",
      "Epoch 6/15\n",
      "18/18 [==============================] - 1s 65ms/step - loss: 0.3589 - accuracy: 0.8446 - val_loss: 0.4249 - val_accuracy: 0.8052\n",
      "Epoch 7/15\n",
      "18/18 [==============================] - 1s 56ms/step - loss: 0.3419 - accuracy: 0.8521 - val_loss: 0.4367 - val_accuracy: 0.7967\n",
      "Epoch 8/15\n",
      "18/18 [==============================] - 1s 43ms/step - loss: 0.3342 - accuracy: 0.8499 - val_loss: 0.4010 - val_accuracy: 0.8113\n",
      "Epoch 9/15\n",
      "18/18 [==============================] - 1s 49ms/step - loss: 0.3271 - accuracy: 0.8505 - val_loss: 0.3936 - val_accuracy: 0.8120\n",
      "Epoch 10/15\n",
      "18/18 [==============================] - 1s 47ms/step - loss: 0.3236 - accuracy: 0.8510 - val_loss: 0.4136 - val_accuracy: 0.8041\n",
      "Epoch 11/15\n",
      "18/18 [==============================] - 1s 56ms/step - loss: 0.3175 - accuracy: 0.8555 - val_loss: 0.3686 - val_accuracy: 0.8301\n",
      "Epoch 12/15\n",
      "18/18 [==============================] - 1s 53ms/step - loss: 0.3131 - accuracy: 0.8569 - val_loss: 0.3608 - val_accuracy: 0.8331\n",
      "Epoch 13/15\n",
      "18/18 [==============================] - 1s 46ms/step - loss: 0.3050 - accuracy: 0.8626 - val_loss: 0.3619 - val_accuracy: 0.8338\n",
      "Epoch 14/15\n",
      "18/18 [==============================] - 1s 48ms/step - loss: 0.3025 - accuracy: 0.8619 - val_loss: 0.3596 - val_accuracy: 0.8324\n",
      "Epoch 15/15\n",
      "18/18 [==============================] - 1s 39ms/step - loss: 0.3105 - accuracy: 0.8568 - val_loss: 0.3524 - val_accuracy: 0.8371\n"
     ]
    },
    {
     "data": {
      "text/plain": [
       "<tensorflow.python.keras.callbacks.History at 0x7f2bbc116910>"
      ]
     },
     "execution_count": null,
     "metadata": {},
     "output_type": "execute_result"
    }
   ],
   "source": [
    "model.fit(X_train, y_train)"
   ]
  },
  {
   "cell_type": "code",
   "execution_count": null,
   "id": "driving-disclaimer",
   "metadata": {},
   "outputs": [
    {
     "name": "stdout",
     "output_type": "stream",
     "text": [
      "Model: \"sequential\"\n",
      "_________________________________________________________________\n",
      "Layer (type)                 Output Shape              Param #   \n",
      "=================================================================\n",
      "dense (Dense)                (None, 200)               3000      \n",
      "_________________________________________________________________\n",
      "activation (Activation)      (None, 200)               0         \n",
      "_________________________________________________________________\n",
      "batch_normalization (BatchNo (None, 200)               800       \n",
      "_________________________________________________________________\n",
      "dense_1 (Dense)              (None, 100)               20100     \n",
      "_________________________________________________________________\n",
      "activation_1 (Activation)    (None, 100)               0         \n",
      "_________________________________________________________________\n",
      "batch_normalization_1 (Batch (None, 100)               400       \n",
      "_________________________________________________________________\n",
      "dense_2 (Dense)              (None, 50)                5050      \n",
      "_________________________________________________________________\n",
      "activation_2 (Activation)    (None, 50)                0         \n",
      "_________________________________________________________________\n",
      "batch_normalization_2 (Batch (None, 50)                200       \n",
      "_________________________________________________________________\n",
      "dense_3 (Dense)              (None, 1)                 51        \n",
      "=================================================================\n",
      "Total params: 29,601\n",
      "Trainable params: 28,901\n",
      "Non-trainable params: 700\n",
      "_________________________________________________________________\n"
     ]
    }
   ],
   "source": [
    "model.model.summary()"
   ]
  },
  {
   "cell_type": "code",
   "execution_count": null,
   "id": "complicated-shark",
   "metadata": {},
   "outputs": [],
   "source": [
    "# keras.utils.plot_model(model.model, show_shapes=True, dpi=100, rankdir=\"LR\")"
   ]
  },
  {
   "cell_type": "markdown",
   "id": "assisted-queensland",
   "metadata": {},
   "source": [
    "# Evaluate single model"
   ]
  },
  {
   "cell_type": "code",
   "execution_count": null,
   "id": "fancy-inventory",
   "metadata": {},
   "outputs": [
    {
     "name": "stderr",
     "output_type": "stream",
     "text": [
      "/home/jupyterlab/ni-workspace/conda/envs/kd/lib/python3.8/site-packages/tensorflow/python/keras/engine/sequential.py:450: UserWarning: `model.predict_classes()` is deprecated and will be removed after 2021-01-01. Please use instead:* `np.argmax(model.predict(x), axis=-1)`,   if your model does multi-class classification   (e.g. if it uses a `softmax` last-layer activation).* `(model.predict(x) > 0.5).astype(\"int32\")`,   if your model does binary classification   (e.g. if it uses a `sigmoid` last-layer activation).\n",
      "  warnings.warn('`model.predict_classes()` is deprecated and '\n"
     ]
    },
    {
     "name": "stdout",
     "output_type": "stream",
     "text": [
      "26/26 [==============================] - 0s 7ms/step\n",
      "1/7 [===>..........................] - ETA: 0s"
     ]
    },
    {
     "name": "stderr",
     "output_type": "stream",
     "text": [
      "/home/jupyterlab/ni-workspace/conda/envs/kd/lib/python3.8/site-packages/tensorflow/python/keras/engine/sequential.py:450: UserWarning: `model.predict_classes()` is deprecated and will be removed after 2021-01-01. Please use instead:* `np.argmax(model.predict(x), axis=-1)`,   if your model does multi-class classification   (e.g. if it uses a `softmax` last-layer activation).* `(model.predict(x) > 0.5).astype(\"int32\")`,   if your model does binary classification   (e.g. if it uses a `sigmoid` last-layer activation).\n",
      "  warnings.warn('`model.predict_classes()` is deprecated and '\n"
     ]
    },
    {
     "name": "stdout",
     "output_type": "stream",
     "text": [
      "7/7 [==============================] - 0s 6ms/step\n",
      "=== Train ===\n",
      "              precision    recall  f1-score   support\n",
      "\n",
      "       <=50K       0.85      0.96      0.90     19778\n",
      "        >50K       0.78      0.47      0.59      6270\n",
      "\n",
      "    accuracy                           0.84     26048\n",
      "   macro avg       0.82      0.71      0.74     26048\n",
      "weighted avg       0.83      0.84      0.83     26048\n",
      "\n",
      "\n",
      "=== Test ===\n",
      "              precision    recall  f1-score   support\n",
      "\n",
      "       <=50K       0.85      0.96      0.90      4942\n",
      "        >50K       0.78      0.47      0.59      1571\n",
      "\n",
      "    accuracy                           0.84      6513\n",
      "   macro avg       0.82      0.71      0.74      6513\n",
      "weighted avg       0.83      0.84      0.83      6513\n",
      "\n",
      "\n"
     ]
    },
    {
     "data": {
      "text/html": [
       "<div>\n",
       "<style scoped>\n",
       "    .dataframe tbody tr th:only-of-type {\n",
       "        vertical-align: middle;\n",
       "    }\n",
       "\n",
       "    .dataframe tbody tr th {\n",
       "        vertical-align: top;\n",
       "    }\n",
       "\n",
       "    .dataframe thead th {\n",
       "        text-align: right;\n",
       "    }\n",
       "</style>\n",
       "<table border=\"1\" class=\"dataframe\">\n",
       "  <thead>\n",
       "    <tr style=\"text-align: right;\">\n",
       "      <th></th>\n",
       "      <th>model_name</th>\n",
       "      <th>data</th>\n",
       "      <th>accuracy</th>\n",
       "      <th>precision</th>\n",
       "      <th>recall</th>\n",
       "      <th>f1</th>\n",
       "      <th>auc</th>\n",
       "    </tr>\n",
       "  </thead>\n",
       "  <tbody>\n",
       "    <tr>\n",
       "      <th>0</th>\n",
       "      <td>test_nn</td>\n",
       "      <td>train</td>\n",
       "      <td>0.840602</td>\n",
       "      <td>0.780753</td>\n",
       "      <td>0.469697</td>\n",
       "      <td>0.586537</td>\n",
       "      <td>0.713941</td>\n",
       "    </tr>\n",
       "    <tr>\n",
       "      <th>1</th>\n",
       "      <td>test_nn</td>\n",
       "      <td>test</td>\n",
       "      <td>0.840934</td>\n",
       "      <td>0.783669</td>\n",
       "      <td>0.470401</td>\n",
       "      <td>0.587908</td>\n",
       "      <td>0.714561</td>\n",
       "    </tr>\n",
       "  </tbody>\n",
       "</table>\n",
       "</div>"
      ],
      "text/plain": [
       "  model_name   data  accuracy  precision    recall        f1       auc\n",
       "0    test_nn  train  0.840602   0.780753  0.469697  0.586537  0.713941\n",
       "1    test_nn   test  0.840934   0.783669  0.470401  0.587908  0.714561"
      ]
     },
     "execution_count": null,
     "metadata": {},
     "output_type": "execute_result"
    }
   ],
   "source": [
    "evaluate_model(X_train, X_test, y_train, y_test, model, model_name, save_to_disk=save_to_disk, target_names=target_names)\n"
   ]
  },
  {
   "cell_type": "code",
   "execution_count": null,
   "id": "incorrect-award",
   "metadata": {},
   "outputs": [
    {
     "name": "stdout",
     "output_type": "stream",
     "text": [
      "12/26 [============>.................] - ETA: 0s"
     ]
    },
    {
     "name": "stderr",
     "output_type": "stream",
     "text": [
      "/home/jupyterlab/ni-workspace/conda/envs/kd/lib/python3.8/site-packages/tensorflow/python/keras/engine/sequential.py:450: UserWarning: `model.predict_classes()` is deprecated and will be removed after 2021-01-01. Please use instead:* `np.argmax(model.predict(x), axis=-1)`,   if your model does multi-class classification   (e.g. if it uses a `softmax` last-layer activation).* `(model.predict(x) > 0.5).astype(\"int32\")`,   if your model does binary classification   (e.g. if it uses a `sigmoid` last-layer activation).\n",
      "  warnings.warn('`model.predict_classes()` is deprecated and '\n"
     ]
    },
    {
     "name": "stdout",
     "output_type": "stream",
     "text": [
      "26/26 [==============================] - 0s 8ms/step\n"
     ]
    }
   ],
   "source": [
    "z = classification_report(y_train, model.predict(X_train), labels=[0, 1], target_names=target_names)"
   ]
  },
  {
   "cell_type": "markdown",
   "id": "dirty-clerk",
   "metadata": {},
   "source": [
    "# Save model"
   ]
  },
  {
   "cell_type": "code",
   "execution_count": null,
   "id": "brilliant-senate",
   "metadata": {},
   "outputs": [],
   "source": [
    "if save_to_disk:\n",
    "    save_keras_classifier(model, model_name)"
   ]
  },
  {
   "cell_type": "code",
   "execution_count": null,
   "id": "developing-pacific",
   "metadata": {},
   "outputs": [],
   "source": []
  }
 ],
 "metadata": {
  "kernelspec": {
   "display_name": "Python [conda-kd]",
   "language": "python",
   "name": "conda-env-conda-kd-py"
  }
 },
 "nbformat": 4,
 "nbformat_minor": 5
}
