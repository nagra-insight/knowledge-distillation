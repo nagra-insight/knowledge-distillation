{
 "cells": [
  {
   "cell_type": "code",
   "execution_count": null,
   "id": "jewish-hotel",
   "metadata": {},
   "outputs": [],
   "source": [
    "# all_dont_test"
   ]
  },
  {
   "cell_type": "code",
   "execution_count": null,
   "id": "typical-citizen",
   "metadata": {},
   "outputs": [],
   "source": [
    "import papermill as pm\n",
    "from pathlib import Path"
   ]
  },
  {
   "cell_type": "code",
   "execution_count": null,
   "id": "viral-headset",
   "metadata": {},
   "outputs": [
    {
     "name": "stdout",
     "output_type": "stream",
     "text": [
      "Installed kernelspec papermill-kernel in /home/jupyterlab/.local/share/jupyter/kernels/papermill-kernel\n"
     ]
    }
   ],
   "source": [
    "!ipython kernel install --user --name=papermill-kernel"
   ]
  },
  {
   "cell_type": "markdown",
   "id": "noble-party",
   "metadata": {},
   "source": [
    "# Train 10 NN with different seeds"
   ]
  },
  {
   "cell_type": "code",
   "execution_count": null,
   "id": "right-childhood",
   "metadata": {},
   "outputs": [
    {
     "data": {
      "application/vnd.jupyter.widget-view+json": {
       "model_id": "0f756fbbbf9d49bb9b0ecdc9376bbf8f",
       "version_major": 2,
       "version_minor": 0
      },
      "text/plain": [
       "Executing:   0%|          | 0/23 [00:00<?, ?cell/s]"
      ]
     },
     "metadata": {},
     "output_type": "display_data"
    },
    {
     "name": "stderr",
     "output_type": "stream",
     "text": [
      "Task exception was never retrieved\n",
      "future: <Task finished name='Task-13' coro=<NotebookClient.async_execute_cell() done, defined at /home/jupyterlab/ni-workspace/conda/envs/kd/lib/python3.8/site-packages/nbclient/client.py:762> exception=CellExecutionError('An error occurred while executing the following cell:\\n------------------\\nfrom numpy.random import seed\\nseed(random_seed)\\nfrom tensorflow.random import set_seed\\nset_seed(random_seed)\\n------------------\\n\\n\\x1b[0;31m---------------------------------------------------------------------------\\x1b[0m\\n\\x1b[0;31mKeyboardInterrupt\\x1b[0m                         Traceback (most recent call last)\\n\\x1b[0;32m<ipython-input-3-fc150c190b29>\\x1b[0m in \\x1b[0;36m<module>\\x1b[0;34m\\x1b[0m\\n\\x1b[1;32m      1\\x1b[0m \\x1b[0;32mfrom\\x1b[0m \\x1b[0mnumpy\\x1b[0m\\x1b[0;34m.\\x1b[0m\\x1b[0mrandom\\x1b[0m \\x1b[0;32mimport\\x1b[0m \\x1b[0mseed\\x1b[0m\\x1b[0;34m\\x1b[0m\\x1b[0;34m\\x1b[0m\\x1b[0m\\n\\x1b[1;32m      2\\x1b[0m \\x1b[0mseed\\x1b[0m\\x1b[0;34m(\\x1b[0m\\x1b[0mrandom_seed\\x1b[0m\\x1b[0;34m)\\x1b[0m\\x1b[0;34m\\x1b[0m\\x1b[0;34m\\x1b[0m\\x1b[0m\\n\\x1b[0;32m----> 3\\x1b[0;31m \\x1b[0;32mfrom\\x1b[0m \\x1b[0mtensorflow\\x1b[0m\\x1b[0;34m.\\x1b[0m\\x1b[0mrandom\\x1b[0m \\x1b[0;32mimport\\x1b[0m \\x1b[0mset_seed\\x1b[0m\\x1b[0;34m\\x1b[0m\\x1b[0;34m\\x1b[0m\\x1b[0m\\n\\x1b[0m\\x1b[1;32m      4\\x1b[0m \\x1b[0mset_seed\\x1b[0m\\x1b[0;34m(\\x1b[0m\\x1b[0mrandom_seed\\x1b[0m\\x1b[0;34m)\\x1b[0m\\x1b[0;34m\\x1b[0m\\x1b[0;34m\\x1b[0m\\x1b[0m\\n\\n\\x1b[0;32m~/ni-workspace/conda/envs/kd/lib/python3.8/site-packages/tensorflow/__init__.py\\x1b[0m in \\x1b[0;36m<module>\\x1b[0;34m\\x1b[0m\\n\\x1b[1;32m     39\\x1b[0m \\x1b[0;32mimport\\x1b[0m \\x1b[0msys\\x1b[0m \\x1b[0;32mas\\x1b[0m \\x1b[0m_sys\\x1b[0m\\x1b[0;34m\\x1b[0m\\x1b[0;34m\\x1b[0m\\x1b[0m\\n\\x1b[1;32m     40\\x1b[0m \\x1b[0;34m\\x1b[0m\\x1b[0m\\n\\x1b[0;32m---> 41\\x1b[0;31m \\x1b[0;32mfrom\\x1b[0m \\x1b[0mtensorflow\\x1b[0m\\x1b[0;34m.\\x1b[0m\\x1b[0mpython\\x1b[0m\\x1b[0;34m.\\x1b[0m\\x1b[0mtools\\x1b[0m \\x1b[0;32mimport\\x1b[0m \\x1b[0mmodule_util\\x1b[0m \\x1b[0;32mas\\x1b[0m \\x1b[0m_module_util\\x1b[0m\\x1b[0;34m\\x1b[0m\\x1b[0;34m\\x1b[0m\\x1b[0m\\n\\x1b[0m\\x1b[1;32m     42\\x1b[0m \\x1b[0;32mfrom\\x1b[0m \\x1b[0mtensorflow\\x1b[0m\\x1b[0;34m.\\x1b[0m\\x1b[0mpython\\x1b[0m\\x1b[0;34m.\\x1b[0m\\x1b[0mutil\\x1b[0m\\x1b[0;34m.\\x1b[0m\\x1b[0mlazy_loader\\x1b[0m \\x1b[0;32mimport\\x1b[0m \\x1b[0mLazyLoader\\x1b[0m \\x1b[0;32mas\\x1b[0m \\x1b[0m_LazyLoader\\x1b[0m\\x1b[0;34m\\x1b[0m\\x1b[0;34m\\x1b[0m\\x1b[0m\\n\\x1b[1;32m     43\\x1b[0m \\x1b[0;34m\\x1b[0m\\x1b[0m\\n\\n\\x1b[0;32m~/ni-workspace/conda/envs/kd/lib/python3.8/site-packages/tensorflow/python/__init__.py\\x1b[0m in \\x1b[0;36m<module>\\x1b[0;34m\\x1b[0m\\n\\x1b[1;32m     46\\x1b[0m \\x1b[0;32mfrom\\x1b[0m \\x1b[0mtensorflow\\x1b[0m\\x1b[0;34m.\\x1b[0m\\x1b[0mpython\\x1b[0m \\x1b[0;32mimport\\x1b[0m \\x1b[0mdata\\x1b[0m\\x1b[0;34m\\x1b[0m\\x1b[0;34m\\x1b[0m\\x1b[0m\\n\\x1b[1;32m     47\\x1b[0m \\x1b[0;32mfrom\\x1b[0m \\x1b[0mtensorflow\\x1b[0m\\x1b[0;34m.\\x1b[0m\\x1b[0mpython\\x1b[0m \\x1b[0;32mimport\\x1b[0m \\x1b[0mdistribute\\x1b[0m\\x1b[0;34m\\x1b[0m\\x1b[0;34m\\x1b[0m\\x1b[0m\\n\\x1b[0;32m---> 48\\x1b[0;31m \\x1b[0;32mfrom\\x1b[0m \\x1b[0mtensorflow\\x1b[0m\\x1b[0;34m.\\x1b[0m\\x1b[0mpython\\x1b[0m \\x1b[0;32mimport\\x1b[0m \\x1b[0mkeras\\x1b[0m\\x1b[0;34m\\x1b[0m\\x1b[0;34m\\x1b[0m\\x1b[0m\\n\\x1b[0m\\x1b[1;32m     49\\x1b[0m \\x1b[0;32mfrom\\x1b[0m \\x1b[0mtensorflow\\x1b[0m\\x1b[0;34m.\\x1b[0m\\x1b[0mpython\\x1b[0m\\x1b[0;34m.\\x1b[0m\\x1b[0mfeature_column\\x1b[0m \\x1b[0;32mimport\\x1b[0m \\x1b[0mfeature_column_lib\\x1b[0m \\x1b[0;32mas\\x1b[0m \\x1b[0mfeature_column\\x1b[0m\\x1b[0;34m\\x1b[0m\\x1b[0;34m\\x1b[0m\\x1b[0m\\n\\x1b[1;32m     50\\x1b[0m \\x1b[0;32mfrom\\x1b[0m \\x1b[0mtensorflow\\x1b[0m\\x1b[0;34m.\\x1b[0m\\x1b[0mpython\\x1b[0m\\x1b[0;34m.\\x1b[0m\\x1b[0mlayers\\x1b[0m \\x1b[0;32mimport\\x1b[0m \\x1b[0mlayers\\x1b[0m\\x1b[0;34m\\x1b[0m\\x1b[0;34m\\x1b[0m\\x1b[0m\\n\\n\\x1b[0;32m~/ni-workspace/conda/envs/kd/lib/python3.8/site-packages/tensorflow/python/keras/__init__.py\\x1b[0m in \\x1b[0;36m<module>\\x1b[0;34m\\x1b[0m\\n\\x1b[1;32m     25\\x1b[0m \\x1b[0;34m\\x1b[0m\\x1b[0m\\n\\x1b[1;32m     26\\x1b[0m \\x1b[0;31m# See b/110718070#comment18 for more details about this import.\\x1b[0m\\x1b[0;34m\\x1b[0m\\x1b[0;34m\\x1b[0m\\x1b[0;34m\\x1b[0m\\x1b[0m\\n\\x1b[0;32m---> 27\\x1b[0;31m \\x1b[0;32mfrom\\x1b[0m \\x1b[0mtensorflow\\x1b[0m\\x1b[0;34m.\\x1b[0m\\x1b[0mpython\\x1b[0m\\x1b[0;34m.\\x1b[0m\\x1b[0mkeras\\x1b[0m \\x1b[0;32mimport\\x1b[0m \\x1b[0mmodels\\x1b[0m\\x1b[0;34m\\x1b[0m\\x1b[0;34m\\x1b[0m\\x1b[0m\\n\\x1b[0m\\x1b[1;32m     28\\x1b[0m \\x1b[0;34m\\x1b[0m\\x1b[0m\\n\\x1b[1;32m     29\\x1b[0m \\x1b[0;32mfrom\\x1b[0m \\x1b[0mtensorflow\\x1b[0m\\x1b[0;34m.\\x1b[0m\\x1b[0mpython\\x1b[0m\\x1b[0;34m.\\x1b[0m\\x1b[0mkeras\\x1b[0m\\x1b[0;34m.\\x1b[0m\\x1b[0mengine\\x1b[0m\\x1b[0;34m.\\x1b[0m\\x1b[0minput_layer\\x1b[0m \\x1b[0;32mimport\\x1b[0m \\x1b[0mInput\\x1b[0m\\x1b[0;34m\\x1b[0m\\x1b[0;34m\\x1b[0m\\x1b[0m\\n\\n\\x1b[0;32m~/ni-workspace/conda/envs/kd/lib/python3.8/site-packages/tensorflow/python/keras/models.py\\x1b[0m in \\x1b[0;36m<module>\\x1b[0;34m\\x1b[0m\\n\\x1b[1;32m     24\\x1b[0m \\x1b[0;32mfrom\\x1b[0m \\x1b[0mtensorflow\\x1b[0m\\x1b[0;34m.\\x1b[0m\\x1b[0mpython\\x1b[0m\\x1b[0;34m.\\x1b[0m\\x1b[0mkeras\\x1b[0m \\x1b[0;32mimport\\x1b[0m \\x1b[0mmetrics\\x1b[0m \\x1b[0;32mas\\x1b[0m \\x1b[0mmetrics_module\\x1b[0m\\x1b[0;34m\\x1b[0m\\x1b[0;34m\\x1b[0m\\x1b[0m\\n\\x1b[1;32m     25\\x1b[0m \\x1b[0;32mfrom\\x1b[0m \\x1b[0mtensorflow\\x1b[0m\\x1b[0;34m.\\x1b[0m\\x1b[0mpython\\x1b[0m\\x1b[0;34m.\\x1b[0m\\x1b[0mkeras\\x1b[0m \\x1b[0;32mimport\\x1b[0m \\x1b[0moptimizer_v1\\x1b[0m\\x1b[0;34m\\x1b[0m\\x1b[0;34m\\x1b[0m\\x1b[0m\\n\\x1b[0;32m---> 26\\x1b[0;31m \\x1b[0;32mfrom\\x1b[0m \\x1b[0mtensorflow\\x1b[0m\\x1b[0;34m.\\x1b[0m\\x1b[0mpython\\x1b[0m\\x1b[0;34m.\\x1b[0m\\x1b[0mkeras\\x1b[0m\\x1b[0;34m.\\x1b[0m\\x1b[0mengine\\x1b[0m \\x1b[0;32mimport\\x1b[0m \\x1b[0mfunctional\\x1b[0m\\x1b[0;34m\\x1b[0m\\x1b[0;34m\\x1b[0m\\x1b[0m\\n\\x1b[0m\\x1b[1;32m     27\\x1b[0m \\x1b[0;32mfrom\\x1b[0m \\x1b[0mtensorflow\\x1b[0m\\x1b[0;34m.\\x1b[0m\\x1b[0mpython\\x1b[0m\\x1b[0;34m.\\x1b[0m\\x1b[0mkeras\\x1b[0m\\x1b[0;34m.\\x1b[0m\\x1b[0mengine\\x1b[0m \\x1b[0;32mimport\\x1b[0m \\x1b[0msequential\\x1b[0m\\x1b[0;34m\\x1b[0m\\x1b[0;34m\\x1b[0m\\x1b[0m\\n\\x1b[1;32m     28\\x1b[0m \\x1b[0;32mfrom\\x1b[0m \\x1b[0mtensorflow\\x1b[0m\\x1b[0;34m.\\x1b[0m\\x1b[0mpython\\x1b[0m\\x1b[0;34m.\\x1b[0m\\x1b[0mkeras\\x1b[0m\\x1b[0;34m.\\x1b[0m\\x1b[0mengine\\x1b[0m \\x1b[0;32mimport\\x1b[0m \\x1b[0mtraining\\x1b[0m\\x1b[0;34m\\x1b[0m\\x1b[0;34m\\x1b[0m\\x1b[0m\\n\\n\\x1b[0;32m~/ni-workspace/conda/envs/kd/lib/python3.8/site-packages/tensorflow/python/keras/engine/functional.py\\x1b[0m in \\x1b[0;36m<module>\\x1b[0;34m\\x1b[0m\\n\\x1b[1;32m     36\\x1b[0m \\x1b[0;32mfrom\\x1b[0m \\x1b[0mtensorflow\\x1b[0m\\x1b[0;34m.\\x1b[0m\\x1b[0mpython\\x1b[0m\\x1b[0;34m.\\x1b[0m\\x1b[0mkeras\\x1b[0m\\x1b[0;34m.\\x1b[0m\\x1b[0mengine\\x1b[0m \\x1b[0;32mimport\\x1b[0m \\x1b[0mkeras_tensor\\x1b[0m\\x1b[0;34m\\x1b[0m\\x1b[0;34m\\x1b[0m\\x1b[0m\\n\\x1b[1;32m     37\\x1b[0m \\x1b[0;32mfrom\\x1b[0m \\x1b[0mtensorflow\\x1b[0m\\x1b[0;34m.\\x1b[0m\\x1b[0mpython\\x1b[0m\\x1b[0;34m.\\x1b[0m\\x1b[0mkeras\\x1b[0m\\x1b[0;34m.\\x1b[0m\\x1b[0mengine\\x1b[0m \\x1b[0;32mimport\\x1b[0m \\x1b[0mnode\\x1b[0m \\x1b[0;32mas\\x1b[0m \\x1b[0mnode_module\\x1b[0m\\x1b[0;34m\\x1b[0m\\x1b[0;34m\\x1b[0m\\x1b[0m\\n\\x1b[0;32m---> 38\\x1b[0;31m \\x1b[0;32mfrom\\x1b[0m \\x1b[0mtensorflow\\x1b[0m\\x1b[0;34m.\\x1b[0m\\x1b[0mpython\\x1b[0m\\x1b[0;34m.\\x1b[0m\\x1b[0mkeras\\x1b[0m\\x1b[0;34m.\\x1b[0m\\x1b[0mengine\\x1b[0m \\x1b[0;32mimport\\x1b[0m \\x1b[0mtraining\\x1b[0m \\x1b[0;32mas\\x1b[0m \\x1b[0mtraining_lib\\x1b[0m\\x1b[0;34m\\x1b[0m\\x1b[0;34m\\x1b[0m\\x1b[0m\\n\\x1b[0m\\x1b[1;32m     39\\x1b[0m \\x1b[0;32mfrom\\x1b[0m \\x1b[0mtensorflow\\x1b[0m\\x1b[0;34m.\\x1b[0m\\x1b[0mpython\\x1b[0m\\x1b[0;34m.\\x1b[0m\\x1b[0mkeras\\x1b[0m\\x1b[0;34m.\\x1b[0m\\x1b[0mengine\\x1b[0m \\x1b[0;32mimport\\x1b[0m \\x1b[0mtraining_utils\\x1b[0m\\x1b[0;34m\\x1b[0m\\x1b[0;34m\\x1b[0m\\x1b[0m\\n\\x1b[1;32m     40\\x1b[0m \\x1b[0;32mfrom\\x1b[0m \\x1b[0mtensorflow\\x1b[0m\\x1b[0;34m.\\x1b[0m\\x1b[0mpython\\x1b[0m\\x1b[0;34m.\\x1b[0m\\x1b[0mkeras\\x1b[0m\\x1b[0;34m.\\x1b[0m\\x1b[0msaving\\x1b[0m\\x1b[0;34m.\\x1b[0m\\x1b[0msaved_model\\x1b[0m \\x1b[0;32mimport\\x1b[0m \\x1b[0mnetwork_serialization\\x1b[0m\\x1b[0;34m\\x1b[0m\\x1b[0;34m\\x1b[0m\\x1b[0m\\n\\n\\x1b[0;32m~/ni-workspace/conda/envs/kd/lib/python3.8/site-packages/tensorflow/python/keras/engine/training.py\\x1b[0m in \\x1b[0;36m<module>\\x1b[0;34m\\x1b[0m\\n\\x1b[1;32m     50\\x1b[0m \\x1b[0;32mfrom\\x1b[0m \\x1b[0mtensorflow\\x1b[0m\\x1b[0;34m.\\x1b[0m\\x1b[0mpython\\x1b[0m\\x1b[0;34m.\\x1b[0m\\x1b[0mkeras\\x1b[0m\\x1b[0;34m.\\x1b[0m\\x1b[0mengine\\x1b[0m \\x1b[0;32mimport\\x1b[0m \\x1b[0mbase_layer_utils\\x1b[0m\\x1b[0;34m\\x1b[0m\\x1b[0;34m\\x1b[0m\\x1b[0m\\n\\x1b[1;32m     51\\x1b[0m \\x1b[0;32mfrom\\x1b[0m \\x1b[0mtensorflow\\x1b[0m\\x1b[0;34m.\\x1b[0m\\x1b[0mpython\\x1b[0m\\x1b[0;34m.\\x1b[0m\\x1b[0mkeras\\x1b[0m\\x1b[0;34m.\\x1b[0m\\x1b[0mengine\\x1b[0m \\x1b[0;32mimport\\x1b[0m \\x1b[0mcompile_utils\\x1b[0m\\x1b[0;34m\\x1b[0m\\x1b[0;34m\\x1b[0m\\x1b[0m\\n\\x1b[0;32m---> 52\\x1b[0;31m \\x1b[0;32mfrom\\x1b[0m \\x1b[0mtensorflow\\x1b[0m\\x1b[0;34m.\\x1b[0m\\x1b[0mpython\\x1b[0m\\x1b[0;34m.\\x1b[0m\\x1b[0mkeras\\x1b[0m\\x1b[0;34m.\\x1b[0m\\x1b[0mengine\\x1b[0m \\x1b[0;32mimport\\x1b[0m \\x1b[0mdata_adapter\\x1b[0m\\x1b[0;34m\\x1b[0m\\x1b[0;34m\\x1b[0m\\x1b[0m\\n\\x1b[0m\\x1b[1;32m     53\\x1b[0m \\x1b[0;32mfrom\\x1b[0m \\x1b[0mtensorflow\\x1b[0m\\x1b[0;34m.\\x1b[0m\\x1b[0mpython\\x1b[0m\\x1b[0;34m.\\x1b[0m\\x1b[0mkeras\\x1b[0m\\x1b[0;34m.\\x1b[0m\\x1b[0mengine\\x1b[0m \\x1b[0;32mimport\\x1b[0m \\x1b[0mtraining_utils\\x1b[0m\\x1b[0;34m\\x1b[0m\\x1b[0;34m\\x1b[0m\\x1b[0m\\n\\x1b[1;32m     54\\x1b[0m \\x1b[0;32mfrom\\x1b[0m \\x1b[0mtensorflow\\x1b[0m\\x1b[0;34m.\\x1b[0m\\x1b[0mpython\\x1b[0m\\x1b[0;34m.\\x1b[0m\\x1b[0mkeras\\x1b[0m\\x1b[0;34m.\\x1b[0m\\x1b[0mmixed_precision\\x1b[0m \\x1b[0;32mimport\\x1b[0m \\x1b[0mloss_scale_optimizer\\x1b[0m \\x1b[0;32mas\\x1b[0m \\x1b[0mlso\\x1b[0m\\x1b[0;34m\\x1b[0m\\x1b[0;34m\\x1b[0m\\x1b[0m\\n\\n\\x1b[0;32m~/ni-workspace/conda/envs/kd/lib/python3.8/site-packages/tensorflow/python/keras/engine/data_adapter.py\\x1b[0m in \\x1b[0;36m<module>\\x1b[0;34m\\x1b[0m\\n\\x1b[1;32m     63\\x1b[0m   \\x1b[0mscipy_sparse\\x1b[0m \\x1b[0;34m=\\x1b[0m \\x1b[0;32mNone\\x1b[0m\\x1b[0;34m\\x1b[0m\\x1b[0;34m\\x1b[0m\\x1b[0m\\n\\x1b[1;32m     64\\x1b[0m \\x1b[0;32mtry\\x1b[0m\\x1b[0;34m:\\x1b[0m\\x1b[0;34m\\x1b[0m\\x1b[0;34m\\x1b[0m\\x1b[0m\\n\\x1b[0;32m---> 65\\x1b[0;31m   \\x1b[0;32mimport\\x1b[0m \\x1b[0mpandas\\x1b[0m \\x1b[0;32mas\\x1b[0m \\x1b[0mpd\\x1b[0m  \\x1b[0;31m# pylint: disable=g-import-not-at-top\\x1b[0m\\x1b[0;34m\\x1b[0m\\x1b[0;34m\\x1b[0m\\x1b[0m\\n\\x1b[0m\\x1b[1;32m     66\\x1b[0m \\x1b[0;32mexcept\\x1b[0m \\x1b[0mImportError\\x1b[0m\\x1b[0;34m:\\x1b[0m\\x1b[0;34m\\x1b[0m\\x1b[0;34m\\x1b[0m\\x1b[0m\\n\\x1b[1;32m     67\\x1b[0m   \\x1b[0mpd\\x1b[0m \\x1b[0;34m=\\x1b[0m \\x1b[0;32mNone\\x1b[0m\\x1b[0;34m\\x1b[0m\\x1b[0;34m\\x1b[0m\\x1b[0m\\n\\n\\x1b[0;32m~/ni-workspace/conda/envs/kd/lib/python3.8/site-packages/pandas/__init__.py\\x1b[0m in \\x1b[0;36m<module>\\x1b[0;34m\\x1b[0m\\n\\x1b[1;32m     27\\x1b[0m \\x1b[0;34m\\x1b[0m\\x1b[0m\\n\\x1b[1;32m     28\\x1b[0m \\x1b[0;32mtry\\x1b[0m\\x1b[0;34m:\\x1b[0m\\x1b[0;34m\\x1b[0m\\x1b[0;34m\\x1b[0m\\x1b[0m\\n\\x1b[0;32m---> 29\\x1b[0;31m     \\x1b[0;32mfrom\\x1b[0m \\x1b[0mpandas\\x1b[0m\\x1b[0;34m.\\x1b[0m\\x1b[0m_libs\\x1b[0m \\x1b[0;32mimport\\x1b[0m \\x1b[0mhashtable\\x1b[0m \\x1b[0;32mas\\x1b[0m \\x1b[0m_hashtable\\x1b[0m\\x1b[0;34m,\\x1b[0m \\x1b[0mlib\\x1b[0m \\x1b[0;32mas\\x1b[0m \\x1b[0m_lib\\x1b[0m\\x1b[0;34m,\\x1b[0m \\x1b[0mtslib\\x1b[0m \\x1b[0;32mas\\x1b[0m \\x1b[0m_tslib\\x1b[0m\\x1b[0;34m\\x1b[0m\\x1b[0;34m\\x1b[0m\\x1b[0m\\n\\x1b[0m\\x1b[1;32m     30\\x1b[0m \\x1b[0;32mexcept\\x1b[0m \\x1b[0mImportError\\x1b[0m \\x1b[0;32mas\\x1b[0m \\x1b[0me\\x1b[0m\\x1b[0;34m:\\x1b[0m  \\x1b[0;31m# pragma: no cover\\x1b[0m\\x1b[0;34m\\x1b[0m\\x1b[0;34m\\x1b[0m\\x1b[0m\\n\\x1b[1;32m     31\\x1b[0m     \\x1b[0;31m# hack but overkill to use re\\x1b[0m\\x1b[0;34m\\x1b[0m\\x1b[0;34m\\x1b[0m\\x1b[0;34m\\x1b[0m\\x1b[0m\\n\\n\\x1b[0;32mpandas/_libs/lib.pyx\\x1b[0m in \\x1b[0;36minit pandas._libs.lib\\x1b[0;34m()\\x1b[0m\\n\\n\\x1b[0;32m~/ni-workspace/conda/envs/kd/lib/python3.8/importlib/_bootstrap.py\\x1b[0m in \\x1b[0;36m_lock_unlock_module\\x1b[0;34m(name)\\x1b[0m\\n\\n\\x1b[0;31mKeyboardInterrupt\\x1b[0m: \\nKeyboardInterrupt: \\n')>\n",
      "Traceback (most recent call last):\n",
      "  File \"/home/jupyterlab/ni-workspace/conda/envs/kd/lib/python3.8/site-packages/IPython/core/interactiveshell.py\", line 3437, in run_code\n",
      "    exec(code_obj, self.user_global_ns, self.user_ns)\n",
      "  File \"<ipython-input-4-4d71326acf4c>\", line 8, in <module>\n",
      "    _ = pm.execute_notebook(\n",
      "  File \"/home/jupyterlab/ni-workspace/conda/envs/kd/lib/python3.8/site-packages/papermill/execute.py\", line 107, in execute_notebook\n",
      "    nb = papermill_engines.execute_notebook_with_engine(\n",
      "  File \"/home/jupyterlab/ni-workspace/conda/envs/kd/lib/python3.8/site-packages/papermill/engines.py\", line 49, in execute_notebook_with_engine\n",
      "    return self.get_engine(engine_name).execute_notebook(nb, kernel_name, **kwargs)\n",
      "  File \"/home/jupyterlab/ni-workspace/conda/envs/kd/lib/python3.8/site-packages/papermill/engines.py\", line 343, in execute_notebook\n",
      "    cls.execute_managed_notebook(nb_man, kernel_name, log_output=log_output, **kwargs)\n",
      "  File \"/home/jupyterlab/ni-workspace/conda/envs/kd/lib/python3.8/site-packages/papermill/engines.py\", line 402, in execute_managed_notebook\n",
      "    return PapermillNotebookClient(nb_man, **final_kwargs).execute()\n",
      "  File \"/home/jupyterlab/ni-workspace/conda/envs/kd/lib/python3.8/site-packages/papermill/clientwrap.py\", line 45, in execute\n",
      "    self.papermill_execute_cells()\n",
      "  File \"/home/jupyterlab/ni-workspace/conda/envs/kd/lib/python3.8/site-packages/papermill/clientwrap.py\", line 72, in papermill_execute_cells\n",
      "    self.execute_cell(cell, index)\n",
      "  File \"/home/jupyterlab/ni-workspace/conda/envs/kd/lib/python3.8/site-packages/nbclient/util.py\", line 74, in wrapped\n",
      "    return just_run(coro(*args, **kwargs))\n",
      "  File \"/home/jupyterlab/ni-workspace/conda/envs/kd/lib/python3.8/site-packages/nbclient/util.py\", line 53, in just_run\n",
      "    return loop.run_until_complete(coro)\n",
      "  File \"/home/jupyterlab/ni-workspace/conda/envs/kd/lib/python3.8/site-packages/nest_asyncio.py\", line 64, in run_until_complete\n",
      "    self._run_once()\n",
      "  File \"/home/jupyterlab/ni-workspace/conda/envs/kd/lib/python3.8/site-packages/nest_asyncio.py\", line 87, in _run_once\n",
      "    event_list = self._selector.select(timeout)\n",
      "  File \"/home/jupyterlab/ni-workspace/conda/envs/kd/lib/python3.8/selectors.py\", line 468, in select\n",
      "    fd_event_list = self._selector.poll(timeout, max_ev)\n",
      "KeyboardInterrupt\n",
      "\n",
      "During handling of the above exception, another exception occurred:\n",
      "\n",
      "Traceback (most recent call last):\n",
      "  File \"/home/jupyterlab/ni-workspace/conda/envs/kd/lib/python3.8/asyncio/tasks.py\", line 280, in __step\n",
      "    result = coro.send(None)\n",
      "  File \"/home/jupyterlab/ni-workspace/conda/envs/kd/lib/python3.8/site-packages/nbclient/client.py\", line 857, in async_execute_cell\n",
      "    self._check_raise_for_error(cell, exec_reply)\n",
      "  File \"/home/jupyterlab/ni-workspace/conda/envs/kd/lib/python3.8/site-packages/nbclient/client.py\", line 760, in _check_raise_for_error\n",
      "    raise CellExecutionError.from_cell_and_msg(cell, exec_reply_content)\n",
      "nbclient.exceptions.CellExecutionError: An error occurred while executing the following cell:\n",
      "------------------\n",
      "from numpy.random import seed\n",
      "seed(random_seed)\n",
      "from tensorflow.random import set_seed\n",
      "set_seed(random_seed)\n",
      "------------------\n",
      "\n",
      "\u001b[0;31m---------------------------------------------------------------------------\u001b[0m\n",
      "\u001b[0;31mKeyboardInterrupt\u001b[0m                         Traceback (most recent call last)\n",
      "\u001b[0;32m<ipython-input-3-fc150c190b29>\u001b[0m in \u001b[0;36m<module>\u001b[0;34m\u001b[0m\n",
      "\u001b[1;32m      1\u001b[0m \u001b[0;32mfrom\u001b[0m \u001b[0mnumpy\u001b[0m\u001b[0;34m.\u001b[0m\u001b[0mrandom\u001b[0m \u001b[0;32mimport\u001b[0m \u001b[0mseed\u001b[0m\u001b[0;34m\u001b[0m\u001b[0;34m\u001b[0m\u001b[0m\n",
      "\u001b[1;32m      2\u001b[0m \u001b[0mseed\u001b[0m\u001b[0;34m(\u001b[0m\u001b[0mrandom_seed\u001b[0m\u001b[0;34m)\u001b[0m\u001b[0;34m\u001b[0m\u001b[0;34m\u001b[0m\u001b[0m\n",
      "\u001b[0;32m----> 3\u001b[0;31m \u001b[0;32mfrom\u001b[0m \u001b[0mtensorflow\u001b[0m\u001b[0;34m.\u001b[0m\u001b[0mrandom\u001b[0m \u001b[0;32mimport\u001b[0m \u001b[0mset_seed\u001b[0m\u001b[0;34m\u001b[0m\u001b[0;34m\u001b[0m\u001b[0m\n",
      "\u001b[0m\u001b[1;32m      4\u001b[0m \u001b[0mset_seed\u001b[0m\u001b[0;34m(\u001b[0m\u001b[0mrandom_seed\u001b[0m\u001b[0;34m)\u001b[0m\u001b[0;34m\u001b[0m\u001b[0;34m\u001b[0m\u001b[0m\n",
      "\n",
      "\u001b[0;32m~/ni-workspace/conda/envs/kd/lib/python3.8/site-packages/tensorflow/__init__.py\u001b[0m in \u001b[0;36m<module>\u001b[0;34m\u001b[0m\n",
      "\u001b[1;32m     39\u001b[0m \u001b[0;32mimport\u001b[0m \u001b[0msys\u001b[0m \u001b[0;32mas\u001b[0m \u001b[0m_sys\u001b[0m\u001b[0;34m\u001b[0m\u001b[0;34m\u001b[0m\u001b[0m\n",
      "\u001b[1;32m     40\u001b[0m \u001b[0;34m\u001b[0m\u001b[0m\n",
      "\u001b[0;32m---> 41\u001b[0;31m \u001b[0;32mfrom\u001b[0m \u001b[0mtensorflow\u001b[0m\u001b[0;34m.\u001b[0m\u001b[0mpython\u001b[0m\u001b[0;34m.\u001b[0m\u001b[0mtools\u001b[0m \u001b[0;32mimport\u001b[0m \u001b[0mmodule_util\u001b[0m \u001b[0;32mas\u001b[0m \u001b[0m_module_util\u001b[0m\u001b[0;34m\u001b[0m\u001b[0;34m\u001b[0m\u001b[0m\n",
      "\u001b[0m\u001b[1;32m     42\u001b[0m \u001b[0;32mfrom\u001b[0m \u001b[0mtensorflow\u001b[0m\u001b[0;34m.\u001b[0m\u001b[0mpython\u001b[0m\u001b[0;34m.\u001b[0m\u001b[0mutil\u001b[0m\u001b[0;34m.\u001b[0m\u001b[0mlazy_loader\u001b[0m \u001b[0;32mimport\u001b[0m \u001b[0mLazyLoader\u001b[0m \u001b[0;32mas\u001b[0m \u001b[0m_LazyLoader\u001b[0m\u001b[0;34m\u001b[0m\u001b[0;34m\u001b[0m\u001b[0m\n",
      "\u001b[1;32m     43\u001b[0m \u001b[0;34m\u001b[0m\u001b[0m\n",
      "\n",
      "\u001b[0;32m~/ni-workspace/conda/envs/kd/lib/python3.8/site-packages/tensorflow/python/__init__.py\u001b[0m in \u001b[0;36m<module>\u001b[0;34m\u001b[0m\n",
      "\u001b[1;32m     46\u001b[0m \u001b[0;32mfrom\u001b[0m \u001b[0mtensorflow\u001b[0m\u001b[0;34m.\u001b[0m\u001b[0mpython\u001b[0m \u001b[0;32mimport\u001b[0m \u001b[0mdata\u001b[0m\u001b[0;34m\u001b[0m\u001b[0;34m\u001b[0m\u001b[0m\n",
      "\u001b[1;32m     47\u001b[0m \u001b[0;32mfrom\u001b[0m \u001b[0mtensorflow\u001b[0m\u001b[0;34m.\u001b[0m\u001b[0mpython\u001b[0m \u001b[0;32mimport\u001b[0m \u001b[0mdistribute\u001b[0m\u001b[0;34m\u001b[0m\u001b[0;34m\u001b[0m\u001b[0m\n",
      "\u001b[0;32m---> 48\u001b[0;31m \u001b[0;32mfrom\u001b[0m \u001b[0mtensorflow\u001b[0m\u001b[0;34m.\u001b[0m\u001b[0mpython\u001b[0m \u001b[0;32mimport\u001b[0m \u001b[0mkeras\u001b[0m\u001b[0;34m\u001b[0m\u001b[0;34m\u001b[0m\u001b[0m\n",
      "\u001b[0m\u001b[1;32m     49\u001b[0m \u001b[0;32mfrom\u001b[0m \u001b[0mtensorflow\u001b[0m\u001b[0;34m.\u001b[0m\u001b[0mpython\u001b[0m\u001b[0;34m.\u001b[0m\u001b[0mfeature_column\u001b[0m \u001b[0;32mimport\u001b[0m \u001b[0mfeature_column_lib\u001b[0m \u001b[0;32mas\u001b[0m \u001b[0mfeature_column\u001b[0m\u001b[0;34m\u001b[0m\u001b[0;34m\u001b[0m\u001b[0m\n",
      "\u001b[1;32m     50\u001b[0m \u001b[0;32mfrom\u001b[0m \u001b[0mtensorflow\u001b[0m\u001b[0;34m.\u001b[0m\u001b[0mpython\u001b[0m\u001b[0;34m.\u001b[0m\u001b[0mlayers\u001b[0m \u001b[0;32mimport\u001b[0m \u001b[0mlayers\u001b[0m\u001b[0;34m\u001b[0m\u001b[0;34m\u001b[0m\u001b[0m\n",
      "\n",
      "\u001b[0;32m~/ni-workspace/conda/envs/kd/lib/python3.8/site-packages/tensorflow/python/keras/__init__.py\u001b[0m in \u001b[0;36m<module>\u001b[0;34m\u001b[0m\n",
      "\u001b[1;32m     25\u001b[0m \u001b[0;34m\u001b[0m\u001b[0m\n",
      "\u001b[1;32m     26\u001b[0m \u001b[0;31m# See b/110718070#comment18 for more details about this import.\u001b[0m\u001b[0;34m\u001b[0m\u001b[0;34m\u001b[0m\u001b[0;34m\u001b[0m\u001b[0m\n",
      "\u001b[0;32m---> 27\u001b[0;31m \u001b[0;32mfrom\u001b[0m \u001b[0mtensorflow\u001b[0m\u001b[0;34m.\u001b[0m\u001b[0mpython\u001b[0m\u001b[0;34m.\u001b[0m\u001b[0mkeras\u001b[0m \u001b[0;32mimport\u001b[0m \u001b[0mmodels\u001b[0m\u001b[0;34m\u001b[0m\u001b[0;34m\u001b[0m\u001b[0m\n",
      "\u001b[0m\u001b[1;32m     28\u001b[0m \u001b[0;34m\u001b[0m\u001b[0m\n",
      "\u001b[1;32m     29\u001b[0m \u001b[0;32mfrom\u001b[0m \u001b[0mtensorflow\u001b[0m\u001b[0;34m.\u001b[0m\u001b[0mpython\u001b[0m\u001b[0;34m.\u001b[0m\u001b[0mkeras\u001b[0m\u001b[0;34m.\u001b[0m\u001b[0mengine\u001b[0m\u001b[0;34m.\u001b[0m\u001b[0minput_layer\u001b[0m \u001b[0;32mimport\u001b[0m \u001b[0mInput\u001b[0m\u001b[0;34m\u001b[0m\u001b[0;34m\u001b[0m\u001b[0m\n",
      "\n",
      "\u001b[0;32m~/ni-workspace/conda/envs/kd/lib/python3.8/site-packages/tensorflow/python/keras/models.py\u001b[0m in \u001b[0;36m<module>\u001b[0;34m\u001b[0m\n",
      "\u001b[1;32m     24\u001b[0m \u001b[0;32mfrom\u001b[0m \u001b[0mtensorflow\u001b[0m\u001b[0;34m.\u001b[0m\u001b[0mpython\u001b[0m\u001b[0;34m.\u001b[0m\u001b[0mkeras\u001b[0m \u001b[0;32mimport\u001b[0m \u001b[0mmetrics\u001b[0m \u001b[0;32mas\u001b[0m \u001b[0mmetrics_module\u001b[0m\u001b[0;34m\u001b[0m\u001b[0;34m\u001b[0m\u001b[0m\n",
      "\u001b[1;32m     25\u001b[0m \u001b[0;32mfrom\u001b[0m \u001b[0mtensorflow\u001b[0m\u001b[0;34m.\u001b[0m\u001b[0mpython\u001b[0m\u001b[0;34m.\u001b[0m\u001b[0mkeras\u001b[0m \u001b[0;32mimport\u001b[0m \u001b[0moptimizer_v1\u001b[0m\u001b[0;34m\u001b[0m\u001b[0;34m\u001b[0m\u001b[0m\n",
      "\u001b[0;32m---> 26\u001b[0;31m \u001b[0;32mfrom\u001b[0m \u001b[0mtensorflow\u001b[0m\u001b[0;34m.\u001b[0m\u001b[0mpython\u001b[0m\u001b[0;34m.\u001b[0m\u001b[0mkeras\u001b[0m\u001b[0;34m.\u001b[0m\u001b[0mengine\u001b[0m \u001b[0;32mimport\u001b[0m \u001b[0mfunctional\u001b[0m\u001b[0;34m\u001b[0m\u001b[0;34m\u001b[0m\u001b[0m\n",
      "\u001b[0m\u001b[1;32m     27\u001b[0m \u001b[0;32mfrom\u001b[0m \u001b[0mtensorflow\u001b[0m\u001b[0;34m.\u001b[0m\u001b[0mpython\u001b[0m\u001b[0;34m.\u001b[0m\u001b[0mkeras\u001b[0m\u001b[0;34m.\u001b[0m\u001b[0mengine\u001b[0m \u001b[0;32mimport\u001b[0m \u001b[0msequential\u001b[0m\u001b[0;34m\u001b[0m\u001b[0;34m\u001b[0m\u001b[0m\n",
      "\u001b[1;32m     28\u001b[0m \u001b[0;32mfrom\u001b[0m \u001b[0mtensorflow\u001b[0m\u001b[0;34m.\u001b[0m\u001b[0mpython\u001b[0m\u001b[0;34m.\u001b[0m\u001b[0mkeras\u001b[0m\u001b[0;34m.\u001b[0m\u001b[0mengine\u001b[0m \u001b[0;32mimport\u001b[0m \u001b[0mtraining\u001b[0m\u001b[0;34m\u001b[0m\u001b[0;34m\u001b[0m\u001b[0m\n",
      "\n",
      "\u001b[0;32m~/ni-workspace/conda/envs/kd/lib/python3.8/site-packages/tensorflow/python/keras/engine/functional.py\u001b[0m in \u001b[0;36m<module>\u001b[0;34m\u001b[0m\n",
      "\u001b[1;32m     36\u001b[0m \u001b[0;32mfrom\u001b[0m \u001b[0mtensorflow\u001b[0m\u001b[0;34m.\u001b[0m\u001b[0mpython\u001b[0m\u001b[0;34m.\u001b[0m\u001b[0mkeras\u001b[0m\u001b[0;34m.\u001b[0m\u001b[0mengine\u001b[0m \u001b[0;32mimport\u001b[0m \u001b[0mkeras_tensor\u001b[0m\u001b[0;34m\u001b[0m\u001b[0;34m\u001b[0m\u001b[0m\n",
      "\u001b[1;32m     37\u001b[0m \u001b[0;32mfrom\u001b[0m \u001b[0mtensorflow\u001b[0m\u001b[0;34m.\u001b[0m\u001b[0mpython\u001b[0m\u001b[0;34m.\u001b[0m\u001b[0mkeras\u001b[0m\u001b[0;34m.\u001b[0m\u001b[0mengine\u001b[0m \u001b[0;32mimport\u001b[0m \u001b[0mnode\u001b[0m \u001b[0;32mas\u001b[0m \u001b[0mnode_module\u001b[0m\u001b[0;34m\u001b[0m\u001b[0;34m\u001b[0m\u001b[0m\n",
      "\u001b[0;32m---> 38\u001b[0;31m \u001b[0;32mfrom\u001b[0m \u001b[0mtensorflow\u001b[0m\u001b[0;34m.\u001b[0m\u001b[0mpython\u001b[0m\u001b[0;34m.\u001b[0m\u001b[0mkeras\u001b[0m\u001b[0;34m.\u001b[0m\u001b[0mengine\u001b[0m \u001b[0;32mimport\u001b[0m \u001b[0mtraining\u001b[0m \u001b[0;32mas\u001b[0m \u001b[0mtraining_lib\u001b[0m\u001b[0;34m\u001b[0m\u001b[0;34m\u001b[0m\u001b[0m\n",
      "\u001b[0m\u001b[1;32m     39\u001b[0m \u001b[0;32mfrom\u001b[0m \u001b[0mtensorflow\u001b[0m\u001b[0;34m.\u001b[0m\u001b[0mpython\u001b[0m\u001b[0;34m.\u001b[0m\u001b[0mkeras\u001b[0m\u001b[0;34m.\u001b[0m\u001b[0mengine\u001b[0m \u001b[0;32mimport\u001b[0m \u001b[0mtraining_utils\u001b[0m\u001b[0;34m\u001b[0m\u001b[0;34m\u001b[0m\u001b[0m\n",
      "\u001b[1;32m     40\u001b[0m \u001b[0;32mfrom\u001b[0m \u001b[0mtensorflow\u001b[0m\u001b[0;34m.\u001b[0m\u001b[0mpython\u001b[0m\u001b[0;34m.\u001b[0m\u001b[0mkeras\u001b[0m\u001b[0;34m.\u001b[0m\u001b[0msaving\u001b[0m\u001b[0;34m.\u001b[0m\u001b[0msaved_model\u001b[0m \u001b[0;32mimport\u001b[0m \u001b[0mnetwork_serialization\u001b[0m\u001b[0;34m\u001b[0m\u001b[0;34m\u001b[0m\u001b[0m\n",
      "\n",
      "\u001b[0;32m~/ni-workspace/conda/envs/kd/lib/python3.8/site-packages/tensorflow/python/keras/engine/training.py\u001b[0m in \u001b[0;36m<module>\u001b[0;34m\u001b[0m\n",
      "\u001b[1;32m     50\u001b[0m \u001b[0;32mfrom\u001b[0m \u001b[0mtensorflow\u001b[0m\u001b[0;34m.\u001b[0m\u001b[0mpython\u001b[0m\u001b[0;34m.\u001b[0m\u001b[0mkeras\u001b[0m\u001b[0;34m.\u001b[0m\u001b[0mengine\u001b[0m \u001b[0;32mimport\u001b[0m \u001b[0mbase_layer_utils\u001b[0m\u001b[0;34m\u001b[0m\u001b[0;34m\u001b[0m\u001b[0m\n",
      "\u001b[1;32m     51\u001b[0m \u001b[0;32mfrom\u001b[0m \u001b[0mtensorflow\u001b[0m\u001b[0;34m.\u001b[0m\u001b[0mpython\u001b[0m\u001b[0;34m.\u001b[0m\u001b[0mkeras\u001b[0m\u001b[0;34m.\u001b[0m\u001b[0mengine\u001b[0m \u001b[0;32mimport\u001b[0m \u001b[0mcompile_utils\u001b[0m\u001b[0;34m\u001b[0m\u001b[0;34m\u001b[0m\u001b[0m\n",
      "\u001b[0;32m---> 52\u001b[0;31m \u001b[0;32mfrom\u001b[0m \u001b[0mtensorflow\u001b[0m\u001b[0;34m.\u001b[0m\u001b[0mpython\u001b[0m\u001b[0;34m.\u001b[0m\u001b[0mkeras\u001b[0m\u001b[0;34m.\u001b[0m\u001b[0mengine\u001b[0m \u001b[0;32mimport\u001b[0m \u001b[0mdata_adapter\u001b[0m\u001b[0;34m\u001b[0m\u001b[0;34m\u001b[0m\u001b[0m\n",
      "\u001b[0m\u001b[1;32m     53\u001b[0m \u001b[0;32mfrom\u001b[0m \u001b[0mtensorflow\u001b[0m\u001b[0;34m.\u001b[0m\u001b[0mpython\u001b[0m\u001b[0;34m.\u001b[0m\u001b[0mkeras\u001b[0m\u001b[0;34m.\u001b[0m\u001b[0mengine\u001b[0m \u001b[0;32mimport\u001b[0m \u001b[0mtraining_utils\u001b[0m\u001b[0;34m\u001b[0m\u001b[0;34m\u001b[0m\u001b[0m\n",
      "\u001b[1;32m     54\u001b[0m \u001b[0;32mfrom\u001b[0m \u001b[0mtensorflow\u001b[0m\u001b[0;34m.\u001b[0m\u001b[0mpython\u001b[0m\u001b[0;34m.\u001b[0m\u001b[0mkeras\u001b[0m\u001b[0;34m.\u001b[0m\u001b[0mmixed_precision\u001b[0m \u001b[0;32mimport\u001b[0m \u001b[0mloss_scale_optimizer\u001b[0m \u001b[0;32mas\u001b[0m \u001b[0mlso\u001b[0m\u001b[0;34m\u001b[0m\u001b[0;34m\u001b[0m\u001b[0m\n",
      "\n",
      "\u001b[0;32m~/ni-workspace/conda/envs/kd/lib/python3.8/site-packages/tensorflow/python/keras/engine/data_adapter.py\u001b[0m in \u001b[0;36m<module>\u001b[0;34m\u001b[0m\n",
      "\u001b[1;32m     63\u001b[0m   \u001b[0mscipy_sparse\u001b[0m \u001b[0;34m=\u001b[0m \u001b[0;32mNone\u001b[0m\u001b[0;34m\u001b[0m\u001b[0;34m\u001b[0m\u001b[0m\n",
      "\u001b[1;32m     64\u001b[0m \u001b[0;32mtry\u001b[0m\u001b[0;34m:\u001b[0m\u001b[0;34m\u001b[0m\u001b[0;34m\u001b[0m\u001b[0m\n",
      "\u001b[0;32m---> 65\u001b[0;31m   \u001b[0;32mimport\u001b[0m \u001b[0mpandas\u001b[0m \u001b[0;32mas\u001b[0m \u001b[0mpd\u001b[0m  \u001b[0;31m# pylint: disable=g-import-not-at-top\u001b[0m\u001b[0;34m\u001b[0m\u001b[0;34m\u001b[0m\u001b[0m\n",
      "\u001b[0m\u001b[1;32m     66\u001b[0m \u001b[0;32mexcept\u001b[0m \u001b[0mImportError\u001b[0m\u001b[0;34m:\u001b[0m\u001b[0;34m\u001b[0m\u001b[0;34m\u001b[0m\u001b[0m\n",
      "\u001b[1;32m     67\u001b[0m   \u001b[0mpd\u001b[0m \u001b[0;34m=\u001b[0m \u001b[0;32mNone\u001b[0m\u001b[0;34m\u001b[0m\u001b[0;34m\u001b[0m\u001b[0m\n",
      "\n",
      "\u001b[0;32m~/ni-workspace/conda/envs/kd/lib/python3.8/site-packages/pandas/__init__.py\u001b[0m in \u001b[0;36m<module>\u001b[0;34m\u001b[0m\n",
      "\u001b[1;32m     27\u001b[0m \u001b[0;34m\u001b[0m\u001b[0m\n",
      "\u001b[1;32m     28\u001b[0m \u001b[0;32mtry\u001b[0m\u001b[0;34m:\u001b[0m\u001b[0;34m\u001b[0m\u001b[0;34m\u001b[0m\u001b[0m\n",
      "\u001b[0;32m---> 29\u001b[0;31m     \u001b[0;32mfrom\u001b[0m \u001b[0mpandas\u001b[0m\u001b[0;34m.\u001b[0m\u001b[0m_libs\u001b[0m \u001b[0;32mimport\u001b[0m \u001b[0mhashtable\u001b[0m \u001b[0;32mas\u001b[0m \u001b[0m_hashtable\u001b[0m\u001b[0;34m,\u001b[0m \u001b[0mlib\u001b[0m \u001b[0;32mas\u001b[0m \u001b[0m_lib\u001b[0m\u001b[0;34m,\u001b[0m \u001b[0mtslib\u001b[0m \u001b[0;32mas\u001b[0m \u001b[0m_tslib\u001b[0m\u001b[0;34m\u001b[0m\u001b[0;34m\u001b[0m\u001b[0m\n",
      "\u001b[0m\u001b[1;32m     30\u001b[0m \u001b[0;32mexcept\u001b[0m \u001b[0mImportError\u001b[0m \u001b[0;32mas\u001b[0m \u001b[0me\u001b[0m\u001b[0;34m:\u001b[0m  \u001b[0;31m# pragma: no cover\u001b[0m\u001b[0;34m\u001b[0m\u001b[0;34m\u001b[0m\u001b[0m\n",
      "\u001b[1;32m     31\u001b[0m     \u001b[0;31m# hack but overkill to use re\u001b[0m\u001b[0;34m\u001b[0m\u001b[0;34m\u001b[0m\u001b[0;34m\u001b[0m\u001b[0m\n",
      "\n",
      "\u001b[0;32mpandas/_libs/lib.pyx\u001b[0m in \u001b[0;36minit pandas._libs.lib\u001b[0;34m()\u001b[0m\n",
      "\n",
      "\u001b[0;32m~/ni-workspace/conda/envs/kd/lib/python3.8/importlib/_bootstrap.py\u001b[0m in \u001b[0;36m_lock_unlock_module\u001b[0;34m(name)\u001b[0m\n",
      "\n",
      "\u001b[0;31mKeyboardInterrupt\u001b[0m: \n",
      "KeyboardInterrupt: \n",
      "\n"
     ]
    },
    {
     "data": {
      "application/vnd.jupyter.widget-view+json": {
       "model_id": "a2f29590666a4b378d151014b1ad7b2b",
       "version_major": 2,
       "version_minor": 0
      },
      "text/plain": [
       "Executing:   0%|          | 0/23 [00:00<?, ?cell/s]"
      ]
     },
     "metadata": {},
     "output_type": "display_data"
    },
    {
     "data": {
      "application/vnd.jupyter.widget-view+json": {
       "model_id": "7dda4ea39d4b4bcf8fee162c347bbd90",
       "version_major": 2,
       "version_minor": 0
      },
      "text/plain": [
       "Executing:   0%|          | 0/23 [00:00<?, ?cell/s]"
      ]
     },
     "metadata": {},
     "output_type": "display_data"
    },
    {
     "data": {
      "application/vnd.jupyter.widget-view+json": {
       "model_id": "7c77e0a5220545039c30dea28c9e764e",
       "version_major": 2,
       "version_minor": 0
      },
      "text/plain": [
       "Executing:   0%|          | 0/23 [00:00<?, ?cell/s]"
      ]
     },
     "metadata": {},
     "output_type": "display_data"
    },
    {
     "data": {
      "application/vnd.jupyter.widget-view+json": {
       "model_id": "e3f860160936408595c0cee4411882b4",
       "version_major": 2,
       "version_minor": 0
      },
      "text/plain": [
       "Executing:   0%|          | 0/23 [00:00<?, ?cell/s]"
      ]
     },
     "metadata": {},
     "output_type": "display_data"
    },
    {
     "data": {
      "application/vnd.jupyter.widget-view+json": {
       "model_id": "338b24e3239f4ff284c9790e3b73fa14",
       "version_major": 2,
       "version_minor": 0
      },
      "text/plain": [
       "Executing:   0%|          | 0/23 [00:00<?, ?cell/s]"
      ]
     },
     "metadata": {},
     "output_type": "display_data"
    },
    {
     "data": {
      "application/vnd.jupyter.widget-view+json": {
       "model_id": "680e62668e2c4db08b916d5d66201153",
       "version_major": 2,
       "version_minor": 0
      },
      "text/plain": [
       "Executing:   0%|          | 0/23 [00:00<?, ?cell/s]"
      ]
     },
     "metadata": {},
     "output_type": "display_data"
    },
    {
     "data": {
      "application/vnd.jupyter.widget-view+json": {
       "model_id": "c88296ac221b451b928a9159df45adba",
       "version_major": 2,
       "version_minor": 0
      },
      "text/plain": [
       "Executing:   0%|          | 0/23 [00:00<?, ?cell/s]"
      ]
     },
     "metadata": {},
     "output_type": "display_data"
    },
    {
     "data": {
      "application/vnd.jupyter.widget-view+json": {
       "model_id": "efe38548facb47498a5aea916adf6dd3",
       "version_major": 2,
       "version_minor": 0
      },
      "text/plain": [
       "Executing:   0%|          | 0/23 [00:00<?, ?cell/s]"
      ]
     },
     "metadata": {},
     "output_type": "display_data"
    },
    {
     "data": {
      "application/vnd.jupyter.widget-view+json": {
       "model_id": "839ba540bf9c4b419284bb904206b2ab",
       "version_major": 2,
       "version_minor": 0
      },
      "text/plain": [
       "Executing:   0%|          | 0/23 [00:00<?, ?cell/s]"
      ]
     },
     "metadata": {},
     "output_type": "display_data"
    }
   ],
   "source": [
    "for seed in range(1, 11):\n",
    "    parameters = {\n",
    "        'random_seed': seed,\n",
    "        'save_to_disk': True,\n",
    "        'model_name': f'nn_{seed}'\n",
    "    }\n",
    "    \n",
    "    _ = pm.execute_notebook(\n",
    "        '04_train_NN.ipynb',\n",
    "        '_tmp_last_execution.ipynb',\n",
    "        parameters=parameters,\n",
    "        kernel_name='kd')"
   ]
  },
  {
   "cell_type": "code",
   "execution_count": null,
   "id": "healthy-tuesday",
   "metadata": {},
   "outputs": [],
   "source": []
  }
 ],
 "metadata": {
  "kernelspec": {
   "display_name": "Python [conda-kd]",
   "language": "python",
   "name": "conda-env-conda-kd-py"
  }
 },
 "nbformat": 4,
 "nbformat_minor": 5
}
